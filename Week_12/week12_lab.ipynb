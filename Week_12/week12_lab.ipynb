{
  "nbformat": 4,
  "nbformat_minor": 5,
  "metadata": {
    "kernelspec": {
      "display_name": "Python 3",
      "language": "python",
      "name": "python3"
    },
    "language_info": {
      "codemirror_mode": {
        "name": "ipython",
        "version": 3
      },
      "file_extension": ".py",
      "mimetype": "text/x-python",
      "name": "python",
      "nbconvert_exporter": "python",
      "pygments_lexer": "ipython3",
      "version": "3.8.8"
    },
    "toc": {
      "base_numbering": 1,
      "nav_menu": {},
      "number_sections": true,
      "sideBar": true,
      "skip_h1_title": false,
      "title_cell": "Table of Contents",
      "title_sidebar": "Contents",
      "toc_cell": false,
      "toc_position": {},
      "toc_section_display": true,
      "toc_window_display": false
    },
    "colab": {
      "name": "week12-lab.ipynb",
      "provenance": []
    }
  },
  "cells": [
    {
      "cell_type": "markdown",
      "metadata": {
        "id": "c0ebd9ff"
      },
      "source": [
        "# Week12 Lab\n",
        "\n",
        "Scrape the information from the following website: https://www.scrapethissite.com/pages/simple/ \n",
        "show the values in a dataframe"
      ],
      "id": "c0ebd9ff"
    },
    {
      "cell_type": "code",
      "metadata": {
        "id": "8f868978"
      },
      "source": [
        "import pandas as pd\n",
        "from bs4 import BeautifulSoup\n",
        "import requests"
      ],
      "id": "8f868978",
      "execution_count": 1,
      "outputs": []
    },
    {
      "cell_type": "code",
      "metadata": {
        "colab": {
          "base_uri": "https://localhost:8080/"
        },
        "id": "cb5683b5",
        "outputId": "ba4039ae-175c-41f9-d90a-c911dc817f72"
      },
      "source": [
        "response = requests.get('https://www.scrapethissite.com/pages/simple/')\n",
        "response.ok"
      ],
      "id": "cb5683b5",
      "execution_count": 2,
      "outputs": [
        {
          "output_type": "execute_result",
          "data": {
            "text/plain": [
              "True"
            ]
          },
          "metadata": {},
          "execution_count": 2
        }
      ]
    },
    {
      "cell_type": "code",
      "metadata": {
        "colab": {
          "base_uri": "https://localhost:8080/",
          "height": 108
        },
        "id": "2b33c38d",
        "outputId": "ff42d34e-228d-4b1f-e85c-94ffba11f9f4"
      },
      "source": [
        "response.text[:1000]"
      ],
      "id": "2b33c38d",
      "execution_count": 3,
      "outputs": [
        {
          "output_type": "execute_result",
          "data": {
            "application/vnd.google.colaboratory.intrinsic+json": {
              "type": "string"
            },
            "text/plain": [
              "'<!doctype html>\\n<html lang=\"en\">\\n  <head>\\n    <meta charset=\"utf-8\">\\n    <title>Countries of the World: A Simple Example | Scrape This Site | A public sandbox for learning web scraping</title>\\n    <link rel=\"icon\" type=\"image/png\" href=\"/static/images/scraper-icon.png\" />\\n\\n    <meta name=\"viewport\" content=\"width=device-width, initial-scale=1.0\">\\n    <meta name=\"description\" content=\"A single page that lists information about all the countries in the world. Good for those just get started with web scraping.\">\\n\\n    <link href=\"https://maxcdn.bootstrapcdn.com/bootstrap/3.3.5/css/bootstrap.min.css\" rel=\"stylesheet\" integrity=\"sha256-MfvZlkHCEqatNoGiOXveE8FIwMzZg4W85qfrfIFBfYc= sha512-dTfge/zgoMYpP7QbHy4gWMEGsbsdZeCXz7irItjcC3sPUFtf0kuFbDz/ixG7ArTxmDjLXDmezHubeNikyKGVyQ==\" crossorigin=\"anonymous\">\\n    <link href=\\'https://fonts.googleapis.com/css?family=Lato:400,700\\' rel=\\'stylesheet\\' type=\\'text/css\\'>\\n    <link rel=\"stylesheet\" type=\"text/css\" href=\"/static/css/styles.css\">\\n\\n    \\n<meta name='"
            ]
          },
          "metadata": {},
          "execution_count": 3
        }
      ]
    },
    {
      "cell_type": "code",
      "metadata": {
        "id": "624ec5e5"
      },
      "source": [
        "html_doc = response.text"
      ],
      "id": "624ec5e5",
      "execution_count": 4,
      "outputs": []
    },
    {
      "cell_type": "code",
      "metadata": {
        "id": "72bc1d16"
      },
      "source": [
        "soup = BeautifulSoup(html_doc, 'html.parser')"
      ],
      "id": "72bc1d16",
      "execution_count": 5,
      "outputs": []
    },
    {
      "cell_type": "code",
      "metadata": {
        "id": "45560abc"
      },
      "source": [
        "t = soup.find_all('div', {\"class\":\"col-md-4 country\"})"
      ],
      "id": "45560abc",
      "execution_count": 6,
      "outputs": []
    },
    {
      "cell_type": "code",
      "metadata": {
        "colab": {
          "base_uri": "https://localhost:8080/"
        },
        "id": "AZpKODhT1S_N",
        "outputId": "6d95194c-7720-4317-b5dd-0aa80693c931"
      },
      "source": [
        "t[0]"
      ],
      "id": "AZpKODhT1S_N",
      "execution_count": 7,
      "outputs": [
        {
          "output_type": "execute_result",
          "data": {
            "text/plain": [
              "<div class=\"col-md-4 country\">\n",
              "<h3 class=\"country-name\">\n",
              "<i class=\"flag-icon flag-icon-ad\"></i>\n",
              "                            Andorra\n",
              "                        </h3>\n",
              "<div class=\"country-info\">\n",
              "<strong>Capital:</strong> <span class=\"country-capital\">Andorra la Vella</span><br/>\n",
              "<strong>Population:</strong> <span class=\"country-population\">84000</span><br/>\n",
              "<strong>Area (km<sup>2</sup>):</strong> <span class=\"country-area\">468.0</span><br/>\n",
              "</div>\n",
              "</div>"
            ]
          },
          "metadata": {},
          "execution_count": 7
        }
      ]
    },
    {
      "cell_type": "code",
      "metadata": {
        "colab": {
          "base_uri": "https://localhost:8080/",
          "height": 36
        },
        "id": "W5g2WKu_1H_K",
        "outputId": "bfa67996-f201-4570-8df3-ed14980cd1a9"
      },
      "source": [
        "t[0].find_all('span')[0].text"
      ],
      "id": "W5g2WKu_1H_K",
      "execution_count": 8,
      "outputs": [
        {
          "output_type": "execute_result",
          "data": {
            "application/vnd.google.colaboratory.intrinsic+json": {
              "type": "string"
            },
            "text/plain": [
              "'Andorra la Vella'"
            ]
          },
          "metadata": {},
          "execution_count": 8
        }
      ]
    },
    {
      "cell_type": "code",
      "metadata": {
        "colab": {
          "base_uri": "https://localhost:8080/",
          "height": 36
        },
        "id": "PgUL0iWb1Ea1",
        "outputId": "1abaad7f-827f-4e9e-e774-3c8a0fef2ad5"
      },
      "source": [
        "t[0].find_all('span')[1].text"
      ],
      "id": "PgUL0iWb1Ea1",
      "execution_count": 9,
      "outputs": [
        {
          "output_type": "execute_result",
          "data": {
            "application/vnd.google.colaboratory.intrinsic+json": {
              "type": "string"
            },
            "text/plain": [
              "'84000'"
            ]
          },
          "metadata": {},
          "execution_count": 9
        }
      ]
    },
    {
      "cell_type": "code",
      "metadata": {
        "colab": {
          "base_uri": "https://localhost:8080/",
          "height": 36
        },
        "id": "83e4fec1",
        "outputId": "97936546-7e82-4db9-8c5e-f1b8be470722"
      },
      "source": [
        "t[0].find_all('span')[2].text"
      ],
      "id": "83e4fec1",
      "execution_count": 10,
      "outputs": [
        {
          "output_type": "execute_result",
          "data": {
            "application/vnd.google.colaboratory.intrinsic+json": {
              "type": "string"
            },
            "text/plain": [
              "'468.0'"
            ]
          },
          "metadata": {},
          "execution_count": 10
        }
      ]
    },
    {
      "cell_type": "code",
      "metadata": {
        "colab": {
          "base_uri": "https://localhost:8080/"
        },
        "id": "4nFQ50fk4USA",
        "outputId": "ed67d290-650f-4beb-90fc-208b16a14e54"
      },
      "source": [
        "def extract_value(v):\n",
        "  \n",
        "  country = v.h3.text.strip()\n",
        "  spans = v.find_all('span')\n",
        "  capital = spans[0].text\n",
        "  population =spans[1].text\n",
        "  area = spans[2].text\n",
        "\n",
        "  return country, capital, population, area;\n",
        "\n",
        "extract_value(t[3])"
      ],
      "id": "4nFQ50fk4USA",
      "execution_count": 11,
      "outputs": [
        {
          "output_type": "execute_result",
          "data": {
            "text/plain": [
              "('Antigua and Barbuda', \"St. John's\", '86754', '443.0')"
            ]
          },
          "metadata": {},
          "execution_count": 11
        }
      ]
    },
    {
      "cell_type": "code",
      "metadata": {
        "id": "r4UDoChV4Et2"
      },
      "source": [
        "Country =[]\n",
        "Capital = []\n",
        "Population = []\n",
        "Area = []\n",
        "\n",
        "for i in range(len(t)):\n",
        "     Country.append(extract_value(t[i])[0])\n",
        "     Capital.append(extract_value(t[i])[1])\n",
        "     Population.append(extract_value(t[i])[2])\n",
        "     Area.append(extract_value(t[i])[3])"
      ],
      "id": "r4UDoChV4Et2",
      "execution_count": 12,
      "outputs": []
    },
    {
      "cell_type": "code",
      "metadata": {
        "id": "vpefflXoq1rY"
      },
      "source": [
        "Country_info = pd.DataFrame([Country,Capital,Population,Area]).T"
      ],
      "id": "vpefflXoq1rY",
      "execution_count": 13,
      "outputs": []
    },
    {
      "cell_type": "code",
      "metadata": {
        "id": "4iVVReAItlxg"
      },
      "source": [
        "Country_info.rename(columns={0: 'Country',1:'Capital',2:'Population',3:'Area'},inplace=True)"
      ],
      "id": "4iVVReAItlxg",
      "execution_count": 14,
      "outputs": []
    },
    {
      "cell_type": "code",
      "metadata": {
        "colab": {
          "base_uri": "https://localhost:8080/",
          "height": 423
        },
        "id": "XbEelbeI78la",
        "outputId": "e23b41a5-13b5-45ca-a83e-3e0b1b93a980"
      },
      "source": [
        "Country_info"
      ],
      "id": "XbEelbeI78la",
      "execution_count": 15,
      "outputs": [
        {
          "output_type": "execute_result",
          "data": {
            "text/html": [
              "<div>\n",
              "<style scoped>\n",
              "    .dataframe tbody tr th:only-of-type {\n",
              "        vertical-align: middle;\n",
              "    }\n",
              "\n",
              "    .dataframe tbody tr th {\n",
              "        vertical-align: top;\n",
              "    }\n",
              "\n",
              "    .dataframe thead th {\n",
              "        text-align: right;\n",
              "    }\n",
              "</style>\n",
              "<table border=\"1\" class=\"dataframe\">\n",
              "  <thead>\n",
              "    <tr style=\"text-align: right;\">\n",
              "      <th></th>\n",
              "      <th>Country</th>\n",
              "      <th>Capital</th>\n",
              "      <th>Population</th>\n",
              "      <th>Area</th>\n",
              "    </tr>\n",
              "  </thead>\n",
              "  <tbody>\n",
              "    <tr>\n",
              "      <th>0</th>\n",
              "      <td>Andorra</td>\n",
              "      <td>Andorra la Vella</td>\n",
              "      <td>84000</td>\n",
              "      <td>468.0</td>\n",
              "    </tr>\n",
              "    <tr>\n",
              "      <th>1</th>\n",
              "      <td>United Arab Emirates</td>\n",
              "      <td>Abu Dhabi</td>\n",
              "      <td>4975593</td>\n",
              "      <td>82880.0</td>\n",
              "    </tr>\n",
              "    <tr>\n",
              "      <th>2</th>\n",
              "      <td>Afghanistan</td>\n",
              "      <td>Kabul</td>\n",
              "      <td>29121286</td>\n",
              "      <td>647500.0</td>\n",
              "    </tr>\n",
              "    <tr>\n",
              "      <th>3</th>\n",
              "      <td>Antigua and Barbuda</td>\n",
              "      <td>St. John's</td>\n",
              "      <td>86754</td>\n",
              "      <td>443.0</td>\n",
              "    </tr>\n",
              "    <tr>\n",
              "      <th>4</th>\n",
              "      <td>Anguilla</td>\n",
              "      <td>The Valley</td>\n",
              "      <td>13254</td>\n",
              "      <td>102.0</td>\n",
              "    </tr>\n",
              "    <tr>\n",
              "      <th>...</th>\n",
              "      <td>...</td>\n",
              "      <td>...</td>\n",
              "      <td>...</td>\n",
              "      <td>...</td>\n",
              "    </tr>\n",
              "    <tr>\n",
              "      <th>245</th>\n",
              "      <td>Yemen</td>\n",
              "      <td>Sanaa</td>\n",
              "      <td>23495361</td>\n",
              "      <td>527970.0</td>\n",
              "    </tr>\n",
              "    <tr>\n",
              "      <th>246</th>\n",
              "      <td>Mayotte</td>\n",
              "      <td>Mamoudzou</td>\n",
              "      <td>159042</td>\n",
              "      <td>374.0</td>\n",
              "    </tr>\n",
              "    <tr>\n",
              "      <th>247</th>\n",
              "      <td>South Africa</td>\n",
              "      <td>Pretoria</td>\n",
              "      <td>49000000</td>\n",
              "      <td>1219912.0</td>\n",
              "    </tr>\n",
              "    <tr>\n",
              "      <th>248</th>\n",
              "      <td>Zambia</td>\n",
              "      <td>Lusaka</td>\n",
              "      <td>13460305</td>\n",
              "      <td>752614.0</td>\n",
              "    </tr>\n",
              "    <tr>\n",
              "      <th>249</th>\n",
              "      <td>Zimbabwe</td>\n",
              "      <td>Harare</td>\n",
              "      <td>11651858</td>\n",
              "      <td>390580.0</td>\n",
              "    </tr>\n",
              "  </tbody>\n",
              "</table>\n",
              "<p>250 rows × 4 columns</p>\n",
              "</div>"
            ],
            "text/plain": [
              "                  Country           Capital Population       Area\n",
              "0                 Andorra  Andorra la Vella      84000      468.0\n",
              "1    United Arab Emirates         Abu Dhabi    4975593    82880.0\n",
              "2             Afghanistan             Kabul   29121286   647500.0\n",
              "3     Antigua and Barbuda        St. John's      86754      443.0\n",
              "4                Anguilla        The Valley      13254      102.0\n",
              "..                    ...               ...        ...        ...\n",
              "245                 Yemen             Sanaa   23495361   527970.0\n",
              "246               Mayotte         Mamoudzou     159042      374.0\n",
              "247          South Africa          Pretoria   49000000  1219912.0\n",
              "248                Zambia            Lusaka   13460305   752614.0\n",
              "249              Zimbabwe            Harare   11651858   390580.0\n",
              "\n",
              "[250 rows x 4 columns]"
            ]
          },
          "metadata": {},
          "execution_count": 15
        }
      ]
    },
    {
      "cell_type": "code",
      "metadata": {
        "id": "8MfI3kcYAOQo"
      },
      "source": [
        ""
      ],
      "id": "8MfI3kcYAOQo",
      "execution_count": null,
      "outputs": []
    }
  ]
}