{
  "nbformat": 4,
  "nbformat_minor": 5,
  "metadata": {
    "kernelspec": {
      "display_name": "Python 3",
      "language": "python",
      "name": "python3"
    },
    "language_info": {
      "codemirror_mode": {
        "name": "ipython",
        "version": 3
      },
      "file_extension": ".py",
      "mimetype": "text/x-python",
      "name": "python",
      "nbconvert_exporter": "python",
      "pygments_lexer": "ipython3",
      "version": "3.8.8"
    },
    "toc": {
      "base_numbering": 1,
      "nav_menu": {},
      "number_sections": true,
      "sideBar": true,
      "skip_h1_title": false,
      "title_cell": "Table of Contents",
      "title_sidebar": "Contents",
      "toc_cell": false,
      "toc_position": {},
      "toc_section_display": true,
      "toc_window_display": false
    },
    "colab": {
      "name": "week12_hw.ipynb",
      "provenance": [],
      "collapsed_sections": []
    }
  },
  "cells": [
    {
      "cell_type": "markdown",
      "metadata": {
        "id": "f5fd4223"
      },
      "source": [
        "# Week 12 Homework - Generate fake data\n",
        "\n",
        "Extend the class `FakeDataGenerator` and add the following features to the extended class.\n",
        "\n",
        "* Email address\n",
        "* Phone number\n",
        "* Person's name\n",
        "* Year born. (Use realistic values.)\n",
        "* Number of kids. (Use realistic values.)\n",
        "* Marital status. (Single/Married) \n",
        "* Annual income. (Optional challenge: Use a non-uniform distribution)\n",
        "\n",
        "* have a method to write it to a file in csv format"
      ],
      "id": "f5fd4223"
    },
    {
      "cell_type": "code",
      "metadata": {
        "colab": {
          "base_uri": "https://localhost:8080/"
        },
        "id": "kGQM9xxwvHca",
        "outputId": "2d0dde9f-e027-4134-8309-8e95e30d4ae3"
      },
      "source": [
        "pip install faker"
      ],
      "id": "kGQM9xxwvHca",
      "execution_count": 1,
      "outputs": [
        {
          "output_type": "stream",
          "name": "stdout",
          "text": [
            "Requirement already satisfied: faker in /usr/local/lib/python3.7/dist-packages (9.8.3)\n",
            "Requirement already satisfied: typing-extensions>=3.10.0.2 in /usr/local/lib/python3.7/dist-packages (from faker) (3.10.0.2)\n",
            "Requirement already satisfied: text-unidecode==1.3 in /usr/local/lib/python3.7/dist-packages (from faker) (1.3)\n",
            "Requirement already satisfied: python-dateutil>=2.4 in /usr/local/lib/python3.7/dist-packages (from faker) (2.8.2)\n",
            "Requirement already satisfied: six>=1.5 in /usr/local/lib/python3.7/dist-packages (from python-dateutil>=2.4->faker) (1.15.0)\n"
          ]
        }
      ]
    },
    {
      "cell_type": "code",
      "metadata": {
        "id": "763c2eaa"
      },
      "source": [
        "# Use this or replace this with yours from your week10 hw. (It's up to you.)\n",
        "\n",
        "import pandas as pd\n",
        "import random\n",
        "from faker import Faker\n",
        "\n",
        "class FakeDataGenerator:\n",
        "    \n",
        "    def __init__(self, df = None, rows=5):\n",
        "        \"\"\"\n",
        "        This class generates fake data\n",
        "        \n",
        "        If data frame is passed in it will add the fake data to it. \n",
        "        Otherwise, it will create a new data frame\n",
        "        \n",
        "        Parameters:\n",
        "        -----------\n",
        "        df: \n",
        "          DataFrame default is None\n",
        "          \n",
        "        rows:\n",
        "          If df None, this parameter will be used to create a data frame with `row` length\n",
        "        \"\"\"\n",
        "        # code goes under this line. \n",
        "        # I will deduct points if any code is written above the comments!\n",
        "          \n",
        "        self.fake = Faker()\n",
        "        \n",
        "        if df is not None:\n",
        "            self.df = df\n",
        "            self.rows = len(df)\n",
        "        else:\n",
        "            self.df = pd.DataFrame()\n",
        "            self.rows = rows\n",
        "        \n",
        "        \n",
        "    def add_random_number(self, column_name, small_value, high_value): # optional: add probabilities \n",
        "        \"\"\"\n",
        "        adds fake numbers to the data frame with `column_name`\n",
        "        \n",
        "        Returns\n",
        "        -------\n",
        "        data frame\n",
        "        \"\"\"\n",
        "        \n",
        "        self.df[column_name] = [random.randint(small_value,high_value) for i in range(self.rows)]\n",
        "        \n",
        "        return self.df       \n",
        "    \n",
        "        \n",
        "    def add_name(self, column_name):\n",
        "        \"\"\"\n",
        "        adds fake name to the data frame with `column_name`\n",
        "        \n",
        "        Returns\n",
        "        -------\n",
        "        data frame\n",
        "        \"\"\"\n",
        "\n",
        "        self.df[column_name] = [self.fake.first_name() for i in range(self.rows)]\n",
        "        \n",
        "        return self.df\n",
        "    \n",
        "    \n",
        "    def add_last_name(self, column_name):\n",
        "        \"\"\"\n",
        "        adds fake last name to the data frame with `column_name`\n",
        "        \n",
        "        Returns\n",
        "        -------\n",
        "        data frame\n",
        "        \"\"\"\n",
        "        \n",
        "        self.df[column_name] = [self.fake.last_name() for i in range(self.rows)]\n",
        "        \n",
        "        return self.df\n",
        "    \n",
        "    \n",
        "    def add_email(self, column_name):\n",
        "        \"\"\"\n",
        "        adds fake email to the data frame with `column_name`\n",
        "        \n",
        "        Returns\n",
        "        -------\n",
        "        data frame\n",
        "        \"\"\"\n",
        "\n",
        "        self.df[column_name] = [self.fake.email() for i in range(self.rows)]\n",
        "        \n",
        "        return self.df\n",
        "    \n",
        "    \n",
        "    def add_phone_number(self, column_name):\n",
        "        \"\"\"\n",
        "        adds fake phone number to the data frame with `column_name`\n",
        "        \n",
        "        Returns\n",
        "        -------\n",
        "        data frame\n",
        "        \"\"\"\n",
        "        \n",
        "        self.df[column_name] = [self.fake.phone_number() for i in range(self.rows)]\n",
        "        \n",
        "        return self.df\n",
        "    \n",
        "    \n",
        "    def add_address(self, column_name):\n",
        "        \"\"\"\n",
        "        adds fake address to the data frame with `column_name`\n",
        "        \n",
        "        Returns\n",
        "        -------\n",
        "        data frame\n",
        "        \"\"\"\n",
        "        \n",
        "        self.df[column_name] = [self.fake.address() for i in range(self.rows)]\n",
        "        \n",
        "        return self.df"
      ],
      "id": "763c2eaa",
      "execution_count": 2,
      "outputs": []
    },
    {
      "cell_type": "code",
      "metadata": {
        "id": "df4d2ff7"
      },
      "source": [
        "# complete this\n",
        "class PocDataGenerator(FakeDataGenerator):\n",
        "    def add_dob(self,column_name):\n",
        "      self.df[column_name] = [self.fake.date() for i in range(self.rows)]\n",
        "      return self.df\n",
        "\n",
        "    def add_kids(self,column_name):\n",
        "      self.df[column_name] = [self.fake.random.randint(0,4) for i in range(self.rows)]\n",
        "      return self.df    \n",
        "\n",
        "    def add_marital(self,column_name):\n",
        "      for i in range(self.rows):\n",
        "        if self.df.loc[:,\"Number_of_kids\"][i] == 0:\n",
        "          self.df.at[i,column_name] = \"Single\"\n",
        "        else:\n",
        "          self.df.at[i,column_name] = \"Married\"\n",
        "      return self.df  \n",
        "\n",
        "    def add_income(self,column_name):\n",
        "      self.df[column_name] = [random.randint(1000, 1000000) for i in range(self.rows)]\n",
        "      return self.df  "
      ],
      "id": "df4d2ff7",
      "execution_count": 3,
      "outputs": []
    },
    {
      "cell_type": "code",
      "metadata": {
        "id": "70daa311"
      },
      "source": [
        "g = PocDataGenerator()"
      ],
      "id": "70daa311",
      "execution_count": 4,
      "outputs": []
    },
    {
      "cell_type": "code",
      "metadata": {
        "colab": {
          "base_uri": "https://localhost:8080/",
          "height": 206
        },
        "id": "89013c4b",
        "outputId": "e048cfb9-4403-4240-daf7-77df83141817"
      },
      "source": [
        "g.add_address('home_address')"
      ],
      "id": "89013c4b",
      "execution_count": 5,
      "outputs": [
        {
          "output_type": "execute_result",
          "data": {
            "text/html": [
              "<div>\n",
              "<style scoped>\n",
              "    .dataframe tbody tr th:only-of-type {\n",
              "        vertical-align: middle;\n",
              "    }\n",
              "\n",
              "    .dataframe tbody tr th {\n",
              "        vertical-align: top;\n",
              "    }\n",
              "\n",
              "    .dataframe thead th {\n",
              "        text-align: right;\n",
              "    }\n",
              "</style>\n",
              "<table border=\"1\" class=\"dataframe\">\n",
              "  <thead>\n",
              "    <tr style=\"text-align: right;\">\n",
              "      <th></th>\n",
              "      <th>home_address</th>\n",
              "    </tr>\n",
              "  </thead>\n",
              "  <tbody>\n",
              "    <tr>\n",
              "      <th>0</th>\n",
              "      <td>95241 Frye Junctions Suite 730\\nEast Lisaland,...</td>\n",
              "    </tr>\n",
              "    <tr>\n",
              "      <th>1</th>\n",
              "      <td>627 Lopez Turnpike Suite 096\\nNew Matthew, IA ...</td>\n",
              "    </tr>\n",
              "    <tr>\n",
              "      <th>2</th>\n",
              "      <td>47558 Laura Springs Apt. 207\\nLucasberg, IA 12520</td>\n",
              "    </tr>\n",
              "    <tr>\n",
              "      <th>3</th>\n",
              "      <td>229 Taylor Avenue Suite 347\\nAmberchester, NC ...</td>\n",
              "    </tr>\n",
              "    <tr>\n",
              "      <th>4</th>\n",
              "      <td>46003 Wright Turnpike Apt. 282\\nLake Victoriaf...</td>\n",
              "    </tr>\n",
              "  </tbody>\n",
              "</table>\n",
              "</div>"
            ],
            "text/plain": [
              "                                        home_address\n",
              "0  95241 Frye Junctions Suite 730\\nEast Lisaland,...\n",
              "1  627 Lopez Turnpike Suite 096\\nNew Matthew, IA ...\n",
              "2  47558 Laura Springs Apt. 207\\nLucasberg, IA 12520\n",
              "3  229 Taylor Avenue Suite 347\\nAmberchester, NC ...\n",
              "4  46003 Wright Turnpike Apt. 282\\nLake Victoriaf..."
            ]
          },
          "metadata": {},
          "execution_count": 5
        }
      ]
    },
    {
      "cell_type": "code",
      "metadata": {
        "id": "a6d8f5c1",
        "colab": {
          "base_uri": "https://localhost:8080/",
          "height": 206
        },
        "outputId": "4c6437b4-5bea-4d54-d79c-dd6d5db991b3"
      },
      "source": [
        "g.add_dob('date_of_birth')\n",
        "g.add_kids('Number_of_kids')\n",
        "g.add_income('Income')"
      ],
      "id": "a6d8f5c1",
      "execution_count": 6,
      "outputs": [
        {
          "output_type": "execute_result",
          "data": {
            "text/html": [
              "<div>\n",
              "<style scoped>\n",
              "    .dataframe tbody tr th:only-of-type {\n",
              "        vertical-align: middle;\n",
              "    }\n",
              "\n",
              "    .dataframe tbody tr th {\n",
              "        vertical-align: top;\n",
              "    }\n",
              "\n",
              "    .dataframe thead th {\n",
              "        text-align: right;\n",
              "    }\n",
              "</style>\n",
              "<table border=\"1\" class=\"dataframe\">\n",
              "  <thead>\n",
              "    <tr style=\"text-align: right;\">\n",
              "      <th></th>\n",
              "      <th>home_address</th>\n",
              "      <th>date_of_birth</th>\n",
              "      <th>Number_of_kids</th>\n",
              "      <th>Income</th>\n",
              "    </tr>\n",
              "  </thead>\n",
              "  <tbody>\n",
              "    <tr>\n",
              "      <th>0</th>\n",
              "      <td>95241 Frye Junctions Suite 730\\nEast Lisaland,...</td>\n",
              "      <td>2019-11-08</td>\n",
              "      <td>0</td>\n",
              "      <td>773040</td>\n",
              "    </tr>\n",
              "    <tr>\n",
              "      <th>1</th>\n",
              "      <td>627 Lopez Turnpike Suite 096\\nNew Matthew, IA ...</td>\n",
              "      <td>1985-02-26</td>\n",
              "      <td>2</td>\n",
              "      <td>8073</td>\n",
              "    </tr>\n",
              "    <tr>\n",
              "      <th>2</th>\n",
              "      <td>47558 Laura Springs Apt. 207\\nLucasberg, IA 12520</td>\n",
              "      <td>1992-08-25</td>\n",
              "      <td>2</td>\n",
              "      <td>395593</td>\n",
              "    </tr>\n",
              "    <tr>\n",
              "      <th>3</th>\n",
              "      <td>229 Taylor Avenue Suite 347\\nAmberchester, NC ...</td>\n",
              "      <td>2005-01-02</td>\n",
              "      <td>2</td>\n",
              "      <td>615810</td>\n",
              "    </tr>\n",
              "    <tr>\n",
              "      <th>4</th>\n",
              "      <td>46003 Wright Turnpike Apt. 282\\nLake Victoriaf...</td>\n",
              "      <td>1970-11-20</td>\n",
              "      <td>0</td>\n",
              "      <td>94530</td>\n",
              "    </tr>\n",
              "  </tbody>\n",
              "</table>\n",
              "</div>"
            ],
            "text/plain": [
              "                                        home_address  ...  Income\n",
              "0  95241 Frye Junctions Suite 730\\nEast Lisaland,...  ...  773040\n",
              "1  627 Lopez Turnpike Suite 096\\nNew Matthew, IA ...  ...    8073\n",
              "2  47558 Laura Springs Apt. 207\\nLucasberg, IA 12520  ...  395593\n",
              "3  229 Taylor Avenue Suite 347\\nAmberchester, NC ...  ...  615810\n",
              "4  46003 Wright Turnpike Apt. 282\\nLake Victoriaf...  ...   94530\n",
              "\n",
              "[5 rows x 4 columns]"
            ]
          },
          "metadata": {},
          "execution_count": 6
        }
      ]
    },
    {
      "cell_type": "code",
      "metadata": {
        "id": "jGxTq89rnJQw",
        "colab": {
          "base_uri": "https://localhost:8080/",
          "height": 206
        },
        "outputId": "5cc3161a-f7c2-484e-84f6-55f233a3994f"
      },
      "source": [
        "poc=g.add_marital('Marital Status')\n",
        "poc"
      ],
      "id": "jGxTq89rnJQw",
      "execution_count": 7,
      "outputs": [
        {
          "output_type": "execute_result",
          "data": {
            "text/html": [
              "<div>\n",
              "<style scoped>\n",
              "    .dataframe tbody tr th:only-of-type {\n",
              "        vertical-align: middle;\n",
              "    }\n",
              "\n",
              "    .dataframe tbody tr th {\n",
              "        vertical-align: top;\n",
              "    }\n",
              "\n",
              "    .dataframe thead th {\n",
              "        text-align: right;\n",
              "    }\n",
              "</style>\n",
              "<table border=\"1\" class=\"dataframe\">\n",
              "  <thead>\n",
              "    <tr style=\"text-align: right;\">\n",
              "      <th></th>\n",
              "      <th>home_address</th>\n",
              "      <th>date_of_birth</th>\n",
              "      <th>Number_of_kids</th>\n",
              "      <th>Income</th>\n",
              "      <th>Marital Status</th>\n",
              "    </tr>\n",
              "  </thead>\n",
              "  <tbody>\n",
              "    <tr>\n",
              "      <th>0</th>\n",
              "      <td>95241 Frye Junctions Suite 730\\nEast Lisaland,...</td>\n",
              "      <td>2019-11-08</td>\n",
              "      <td>0</td>\n",
              "      <td>773040</td>\n",
              "      <td>Single</td>\n",
              "    </tr>\n",
              "    <tr>\n",
              "      <th>1</th>\n",
              "      <td>627 Lopez Turnpike Suite 096\\nNew Matthew, IA ...</td>\n",
              "      <td>1985-02-26</td>\n",
              "      <td>2</td>\n",
              "      <td>8073</td>\n",
              "      <td>Married</td>\n",
              "    </tr>\n",
              "    <tr>\n",
              "      <th>2</th>\n",
              "      <td>47558 Laura Springs Apt. 207\\nLucasberg, IA 12520</td>\n",
              "      <td>1992-08-25</td>\n",
              "      <td>2</td>\n",
              "      <td>395593</td>\n",
              "      <td>Married</td>\n",
              "    </tr>\n",
              "    <tr>\n",
              "      <th>3</th>\n",
              "      <td>229 Taylor Avenue Suite 347\\nAmberchester, NC ...</td>\n",
              "      <td>2005-01-02</td>\n",
              "      <td>2</td>\n",
              "      <td>615810</td>\n",
              "      <td>Married</td>\n",
              "    </tr>\n",
              "    <tr>\n",
              "      <th>4</th>\n",
              "      <td>46003 Wright Turnpike Apt. 282\\nLake Victoriaf...</td>\n",
              "      <td>1970-11-20</td>\n",
              "      <td>0</td>\n",
              "      <td>94530</td>\n",
              "      <td>Single</td>\n",
              "    </tr>\n",
              "  </tbody>\n",
              "</table>\n",
              "</div>"
            ],
            "text/plain": [
              "                                        home_address  ... Marital Status\n",
              "0  95241 Frye Junctions Suite 730\\nEast Lisaland,...  ...         Single\n",
              "1  627 Lopez Turnpike Suite 096\\nNew Matthew, IA ...  ...        Married\n",
              "2  47558 Laura Springs Apt. 207\\nLucasberg, IA 12520  ...        Married\n",
              "3  229 Taylor Avenue Suite 347\\nAmberchester, NC ...  ...        Married\n",
              "4  46003 Wright Turnpike Apt. 282\\nLake Victoriaf...  ...         Single\n",
              "\n",
              "[5 rows x 5 columns]"
            ]
          },
          "metadata": {},
          "execution_count": 7
        }
      ]
    },
    {
      "cell_type": "code",
      "metadata": {
        "id": "1GoMc4CB7TUe"
      },
      "source": [
        "poc.to_csv(r'F:\\new601\\data601\\Week12\\file.csv')"
      ],
      "id": "1GoMc4CB7TUe",
      "execution_count": 8,
      "outputs": []
    },
    {
      "cell_type": "code",
      "metadata": {
        "id": "Gi9z0EZDFL7Y"
      },
      "source": [
        ""
      ],
      "id": "Gi9z0EZDFL7Y",
      "execution_count": 8,
      "outputs": []
    }
  ]
}