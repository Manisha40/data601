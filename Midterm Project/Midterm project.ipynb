{
 "cells": [
  {
   "cell_type": "markdown",
   "metadata": {
    "id": "xJDwxf1nbMv3"
   },
   "source": [
    "# Mid-Term project"
   ]
  },
  {
   "cell_type": "markdown",
   "metadata": {
    "id": "h6D50BT0OVs2"
   },
   "source": [
    "The file fatal-police-shootings-data.csv contains data about each fatal shooting\n",
    "Each row has the following variables:\n",
    "\n",
    "**id:** a unique identifier for each victim\n",
    "\n",
    "**name:** the name of the victim\n",
    "\n",
    "**date:** the date of the fatal shooting in YYYY-MM-DD format\n",
    "\n",
    "**manner_of_death:**\n",
    "\n",
    "- shot\n",
    "- shot and Tasered\n",
    "- armed: indicates that the victim was armed with some sort of implement that a police officer believed could inflict harm\n",
    "\n",
    "undetermined: it is not known whether or not the victim had a weapon\n",
    "unknown: the victim was armed, but it is not known what the object was\n",
    "unarmed: the victim was not armed\n",
    "age: the age of the victim\n",
    "\n",
    "**gender:** the gender of the victim. The Post identifies victims by the gender they identify with if reports indicate that it differs from their biological sex.\n",
    "\n",
    "- M: Male\n",
    "- F: Female\n",
    "- None: unknown\n",
    "\n",
    "**city:** the municipality where the fatal shooting took place. Note that in some cases this field may contain a county name if a more specific municipality is unavailable or unknown.\n",
    "\n",
    "**state:** two-letter postal code abbreviation\n",
    "\n",
    "**signs of mental illness:** News reports have indicated the victim had a history of mental health issues, expressed suicidal intentions or was experiencing mental distress at the time of the shooting.\n",
    "\n",
    "**threat_level:** The threat_level column was used to flag incidents for the story by Amy Brittain in October 2015. As described in the story, the general criteria for the attack label was that there was the most direct and immediate threat to life. That would include incidents where officers or others were shot at, threatened with a gun, attacked with other weapons or physical force, etc. The attack category is meant to flag the highest level of threat. The other and undetermined categories represent all remaining cases. Other includes many incidents where officers or others faced significant threats.\n",
    "\n",
    "**flee:** News reports have indicated the victim was moving away from officers\n",
    "\n",
    "- Foot\n",
    "- Car\n",
    "- Not fleeing\n",
    "\n",
    "**body_camera:** News reports have indicated an officer was wearing a body camera and it may have recorded some portion of the incident.\n",
    "\n",
    "Link: https://github.com/washingtonpost/data-police-shootings/blob/master/fatal-police-shootings-data.csv"
   ]
  },
  {
   "cell_type": "code",
   "execution_count": 2,
   "metadata": {
    "id": "c-x5HtN9rrcX"
   },
   "outputs": [],
   "source": [
    "#importing libraries\n",
    "import pandas as pd\n",
    "import seaborn as sns\n",
    "import matplotlib.pyplot as plt\n",
    "import math\n",
    "import datetime"
   ]
  },
  {
   "cell_type": "code",
   "execution_count": 3,
   "metadata": {
    "colab": {
     "base_uri": "https://localhost:8080/",
     "height": 204
    },
    "id": "HyCM4hVlXCTS",
    "outputId": "611eab59-3fb5-4959-b78e-3ed792abfa21"
   },
   "outputs": [
    {
     "data": {
      "text/html": [
       "<div>\n",
       "<style scoped>\n",
       "    .dataframe tbody tr th:only-of-type {\n",
       "        vertical-align: middle;\n",
       "    }\n",
       "\n",
       "    .dataframe tbody tr th {\n",
       "        vertical-align: top;\n",
       "    }\n",
       "\n",
       "    .dataframe thead th {\n",
       "        text-align: right;\n",
       "    }\n",
       "</style>\n",
       "<table border=\"1\" class=\"dataframe\">\n",
       "  <thead>\n",
       "    <tr style=\"text-align: right;\">\n",
       "      <th></th>\n",
       "      <th>id</th>\n",
       "      <th>name</th>\n",
       "      <th>date</th>\n",
       "      <th>manner_of_death</th>\n",
       "      <th>armed</th>\n",
       "      <th>age</th>\n",
       "      <th>gender</th>\n",
       "      <th>race</th>\n",
       "      <th>city</th>\n",
       "      <th>state</th>\n",
       "      <th>signs_of_mental_illness</th>\n",
       "      <th>threat_level</th>\n",
       "      <th>flee</th>\n",
       "      <th>body_camera</th>\n",
       "      <th>longitude</th>\n",
       "      <th>latitude</th>\n",
       "      <th>is_geocoding_exact</th>\n",
       "    </tr>\n",
       "  </thead>\n",
       "  <tbody>\n",
       "    <tr>\n",
       "      <th>0</th>\n",
       "      <td>3</td>\n",
       "      <td>Tim Elliot</td>\n",
       "      <td>2015-01-02</td>\n",
       "      <td>shot</td>\n",
       "      <td>gun</td>\n",
       "      <td>53.0</td>\n",
       "      <td>M</td>\n",
       "      <td>A</td>\n",
       "      <td>Shelton</td>\n",
       "      <td>WA</td>\n",
       "      <td>True</td>\n",
       "      <td>attack</td>\n",
       "      <td>Not fleeing</td>\n",
       "      <td>False</td>\n",
       "      <td>-123.122</td>\n",
       "      <td>47.247</td>\n",
       "      <td>True</td>\n",
       "    </tr>\n",
       "    <tr>\n",
       "      <th>1</th>\n",
       "      <td>4</td>\n",
       "      <td>Lewis Lee Lembke</td>\n",
       "      <td>2015-01-02</td>\n",
       "      <td>shot</td>\n",
       "      <td>gun</td>\n",
       "      <td>47.0</td>\n",
       "      <td>M</td>\n",
       "      <td>W</td>\n",
       "      <td>Aloha</td>\n",
       "      <td>OR</td>\n",
       "      <td>False</td>\n",
       "      <td>attack</td>\n",
       "      <td>Not fleeing</td>\n",
       "      <td>False</td>\n",
       "      <td>-122.892</td>\n",
       "      <td>45.487</td>\n",
       "      <td>True</td>\n",
       "    </tr>\n",
       "    <tr>\n",
       "      <th>2</th>\n",
       "      <td>5</td>\n",
       "      <td>John Paul Quintero</td>\n",
       "      <td>2015-01-03</td>\n",
       "      <td>shot and Tasered</td>\n",
       "      <td>unarmed</td>\n",
       "      <td>23.0</td>\n",
       "      <td>M</td>\n",
       "      <td>H</td>\n",
       "      <td>Wichita</td>\n",
       "      <td>KS</td>\n",
       "      <td>False</td>\n",
       "      <td>other</td>\n",
       "      <td>Not fleeing</td>\n",
       "      <td>False</td>\n",
       "      <td>-97.281</td>\n",
       "      <td>37.695</td>\n",
       "      <td>True</td>\n",
       "    </tr>\n",
       "    <tr>\n",
       "      <th>3</th>\n",
       "      <td>8</td>\n",
       "      <td>Matthew Hoffman</td>\n",
       "      <td>2015-01-04</td>\n",
       "      <td>shot</td>\n",
       "      <td>toy weapon</td>\n",
       "      <td>32.0</td>\n",
       "      <td>M</td>\n",
       "      <td>W</td>\n",
       "      <td>San Francisco</td>\n",
       "      <td>CA</td>\n",
       "      <td>True</td>\n",
       "      <td>attack</td>\n",
       "      <td>Not fleeing</td>\n",
       "      <td>False</td>\n",
       "      <td>-122.422</td>\n",
       "      <td>37.763</td>\n",
       "      <td>True</td>\n",
       "    </tr>\n",
       "    <tr>\n",
       "      <th>4</th>\n",
       "      <td>9</td>\n",
       "      <td>Michael Rodriguez</td>\n",
       "      <td>2015-01-04</td>\n",
       "      <td>shot</td>\n",
       "      <td>nail gun</td>\n",
       "      <td>39.0</td>\n",
       "      <td>M</td>\n",
       "      <td>H</td>\n",
       "      <td>Evans</td>\n",
       "      <td>CO</td>\n",
       "      <td>False</td>\n",
       "      <td>attack</td>\n",
       "      <td>Not fleeing</td>\n",
       "      <td>False</td>\n",
       "      <td>-104.692</td>\n",
       "      <td>40.384</td>\n",
       "      <td>True</td>\n",
       "    </tr>\n",
       "  </tbody>\n",
       "</table>\n",
       "</div>"
      ],
      "text/plain": [
       "   id                name        date   manner_of_death       armed   age  \\\n",
       "0   3          Tim Elliot  2015-01-02              shot         gun  53.0   \n",
       "1   4    Lewis Lee Lembke  2015-01-02              shot         gun  47.0   \n",
       "2   5  John Paul Quintero  2015-01-03  shot and Tasered     unarmed  23.0   \n",
       "3   8     Matthew Hoffman  2015-01-04              shot  toy weapon  32.0   \n",
       "4   9   Michael Rodriguez  2015-01-04              shot    nail gun  39.0   \n",
       "\n",
       "  gender race           city state  signs_of_mental_illness threat_level  \\\n",
       "0      M    A        Shelton    WA                     True       attack   \n",
       "1      M    W          Aloha    OR                    False       attack   \n",
       "2      M    H        Wichita    KS                    False        other   \n",
       "3      M    W  San Francisco    CA                     True       attack   \n",
       "4      M    H          Evans    CO                    False       attack   \n",
       "\n",
       "          flee  body_camera  longitude  latitude  is_geocoding_exact  \n",
       "0  Not fleeing        False   -123.122    47.247                True  \n",
       "1  Not fleeing        False   -122.892    45.487                True  \n",
       "2  Not fleeing        False    -97.281    37.695                True  \n",
       "3  Not fleeing        False   -122.422    37.763                True  \n",
       "4  Not fleeing        False   -104.692    40.384                True  "
      ]
     },
     "execution_count": 3,
     "metadata": {},
     "output_type": "execute_result"
    }
   ],
   "source": [
    "df = pd.read_csv(\"F://fatal-police-shootings-data.csv\")\n",
    "df.head()"
   ]
  },
  {
   "cell_type": "code",
   "execution_count": 5,
   "metadata": {
    "colab": {
     "base_uri": "https://localhost:8080/"
    },
    "id": "dz7JFFhMoL4b",
    "outputId": "eef655eb-6c05-43ef-eb82-9910f203eb8f"
   },
   "outputs": [
    {
     "data": {
      "text/plain": [
       "(6600, 17)"
      ]
     },
     "execution_count": 5,
     "metadata": {},
     "output_type": "execute_result"
    }
   ],
   "source": [
    "df.shape"
   ]
  },
  {
   "cell_type": "code",
   "execution_count": 6,
   "metadata": {
    "colab": {
     "base_uri": "https://localhost:8080/",
     "height": 296
    },
    "id": "Ma8FpqbRpR_h",
    "outputId": "a749c2b8-cc29-4601-dd8d-d844000f7d49"
   },
   "outputs": [
    {
     "data": {
      "text/html": [
       "<div>\n",
       "<style scoped>\n",
       "    .dataframe tbody tr th:only-of-type {\n",
       "        vertical-align: middle;\n",
       "    }\n",
       "\n",
       "    .dataframe tbody tr th {\n",
       "        vertical-align: top;\n",
       "    }\n",
       "\n",
       "    .dataframe thead th {\n",
       "        text-align: right;\n",
       "    }\n",
       "</style>\n",
       "<table border=\"1\" class=\"dataframe\">\n",
       "  <thead>\n",
       "    <tr style=\"text-align: right;\">\n",
       "      <th></th>\n",
       "      <th>id</th>\n",
       "      <th>age</th>\n",
       "      <th>longitude</th>\n",
       "      <th>latitude</th>\n",
       "    </tr>\n",
       "  </thead>\n",
       "  <tbody>\n",
       "    <tr>\n",
       "      <th>count</th>\n",
       "      <td>6600.000000</td>\n",
       "      <td>6294.000000</td>\n",
       "      <td>6286.000000</td>\n",
       "      <td>6286.000000</td>\n",
       "    </tr>\n",
       "    <tr>\n",
       "      <th>mean</th>\n",
       "      <td>3654.619848</td>\n",
       "      <td>37.118843</td>\n",
       "      <td>-97.168225</td>\n",
       "      <td>36.663852</td>\n",
       "    </tr>\n",
       "    <tr>\n",
       "      <th>std</th>\n",
       "      <td>2062.848117</td>\n",
       "      <td>12.992958</td>\n",
       "      <td>16.650535</td>\n",
       "      <td>5.391765</td>\n",
       "    </tr>\n",
       "    <tr>\n",
       "      <th>min</th>\n",
       "      <td>3.000000</td>\n",
       "      <td>6.000000</td>\n",
       "      <td>-160.007000</td>\n",
       "      <td>19.498000</td>\n",
       "    </tr>\n",
       "    <tr>\n",
       "      <th>25%</th>\n",
       "      <td>1861.750000</td>\n",
       "      <td>27.000000</td>\n",
       "      <td>-112.091750</td>\n",
       "      <td>33.477250</td>\n",
       "    </tr>\n",
       "    <tr>\n",
       "      <th>50%</th>\n",
       "      <td>3665.000000</td>\n",
       "      <td>35.000000</td>\n",
       "      <td>-94.344000</td>\n",
       "      <td>36.094000</td>\n",
       "    </tr>\n",
       "    <tr>\n",
       "      <th>75%</th>\n",
       "      <td>5441.250000</td>\n",
       "      <td>45.000000</td>\n",
       "      <td>-83.124750</td>\n",
       "      <td>39.998750</td>\n",
       "    </tr>\n",
       "    <tr>\n",
       "      <th>max</th>\n",
       "      <td>7200.000000</td>\n",
       "      <td>91.000000</td>\n",
       "      <td>-67.867000</td>\n",
       "      <td>71.301000</td>\n",
       "    </tr>\n",
       "  </tbody>\n",
       "</table>\n",
       "</div>"
      ],
      "text/plain": [
       "                id          age    longitude     latitude\n",
       "count  6600.000000  6294.000000  6286.000000  6286.000000\n",
       "mean   3654.619848    37.118843   -97.168225    36.663852\n",
       "std    2062.848117    12.992958    16.650535     5.391765\n",
       "min       3.000000     6.000000  -160.007000    19.498000\n",
       "25%    1861.750000    27.000000  -112.091750    33.477250\n",
       "50%    3665.000000    35.000000   -94.344000    36.094000\n",
       "75%    5441.250000    45.000000   -83.124750    39.998750\n",
       "max    7200.000000    91.000000   -67.867000    71.301000"
      ]
     },
     "execution_count": 6,
     "metadata": {},
     "output_type": "execute_result"
    }
   ],
   "source": [
    "df.describe()"
   ]
  },
  {
   "cell_type": "code",
   "execution_count": 7,
   "metadata": {
    "colab": {
     "base_uri": "https://localhost:8080/"
    },
    "id": "gD8uivVIa8RL",
    "outputId": "39042825-3ebb-48ae-888d-d41203bd6626"
   },
   "outputs": [
    {
     "name": "stdout",
     "output_type": "stream",
     "text": [
      "<class 'pandas.core.frame.DataFrame'>\n",
      "RangeIndex: 6600 entries, 0 to 6599\n",
      "Data columns (total 17 columns):\n",
      "id                         6600 non-null int64\n",
      "name                       6337 non-null object\n",
      "date                       6600 non-null object\n",
      "manner_of_death            6600 non-null object\n",
      "armed                      6394 non-null object\n",
      "age                        6294 non-null float64\n",
      "gender                     6597 non-null object\n",
      "race                       5846 non-null object\n",
      "city                       6600 non-null object\n",
      "state                      6600 non-null object\n",
      "signs_of_mental_illness    6600 non-null bool\n",
      "threat_level               6600 non-null object\n",
      "flee                       6109 non-null object\n",
      "body_camera                6600 non-null bool\n",
      "longitude                  6286 non-null float64\n",
      "latitude                   6286 non-null float64\n",
      "is_geocoding_exact         6600 non-null bool\n",
      "dtypes: bool(3), float64(3), int64(1), object(10)\n",
      "memory usage: 741.3+ KB\n"
     ]
    }
   ],
   "source": [
    "df.info()"
   ]
  },
  {
   "cell_type": "code",
   "execution_count": 8,
   "metadata": {
    "colab": {
     "base_uri": "https://localhost:8080/"
    },
    "id": "VWugtCmlCry6",
    "outputId": "47e006ce-e0e7-4580-e15e-69917916f4fd"
   },
   "outputs": [
    {
     "data": {
      "text/plain": [
       "2"
      ]
     },
     "execution_count": 8,
     "metadata": {},
     "output_type": "execute_result"
    }
   ],
   "source": [
    "df.ndim"
   ]
  },
  {
   "cell_type": "markdown",
   "metadata": {
    "id": "VPwJ_NMmVrmJ"
   },
   "source": [
    "## Data Preprocessing"
   ]
  },
  {
   "cell_type": "code",
   "execution_count": 9,
   "metadata": {
    "colab": {
     "base_uri": "https://localhost:8080/",
     "height": 192
    },
    "id": "n8-5X16i2A71",
    "outputId": "4d4ed3c5-c56a-4132-f93a-fdab41e0fdcb"
   },
   "outputs": [
    {
     "data": {
      "text/html": [
       "<div>\n",
       "<style scoped>\n",
       "    .dataframe tbody tr th:only-of-type {\n",
       "        vertical-align: middle;\n",
       "    }\n",
       "\n",
       "    .dataframe tbody tr th {\n",
       "        vertical-align: top;\n",
       "    }\n",
       "\n",
       "    .dataframe thead th {\n",
       "        text-align: right;\n",
       "    }\n",
       "</style>\n",
       "<table border=\"1\" class=\"dataframe\">\n",
       "  <thead>\n",
       "    <tr style=\"text-align: right;\">\n",
       "      <th></th>\n",
       "      <th>id</th>\n",
       "      <th>name</th>\n",
       "      <th>date</th>\n",
       "      <th>manner_of_death</th>\n",
       "      <th>armed</th>\n",
       "      <th>age</th>\n",
       "      <th>gender</th>\n",
       "      <th>race</th>\n",
       "      <th>city</th>\n",
       "      <th>state</th>\n",
       "      <th>signs_of_mental_illness</th>\n",
       "      <th>threat_level</th>\n",
       "      <th>flee</th>\n",
       "      <th>body_camera</th>\n",
       "      <th>longitude</th>\n",
       "      <th>latitude</th>\n",
       "      <th>is_geocoding_exact</th>\n",
       "    </tr>\n",
       "  </thead>\n",
       "  <tbody>\n",
       "    <tr>\n",
       "      <th>2652</th>\n",
       "      <td>2956</td>\n",
       "      <td>Scout Schultz</td>\n",
       "      <td>2017-09-16</td>\n",
       "      <td>shot</td>\n",
       "      <td>knife</td>\n",
       "      <td>21.0</td>\n",
       "      <td>NaN</td>\n",
       "      <td>W</td>\n",
       "      <td>Atlanta</td>\n",
       "      <td>GA</td>\n",
       "      <td>True</td>\n",
       "      <td>other</td>\n",
       "      <td>Not fleeing</td>\n",
       "      <td>False</td>\n",
       "      <td>NaN</td>\n",
       "      <td>NaN</td>\n",
       "      <td>True</td>\n",
       "    </tr>\n",
       "    <tr>\n",
       "      <th>6426</th>\n",
       "      <td>7007</td>\n",
       "      <td>NaN</td>\n",
       "      <td>2021-07-07</td>\n",
       "      <td>shot</td>\n",
       "      <td>undetermined</td>\n",
       "      <td>NaN</td>\n",
       "      <td>NaN</td>\n",
       "      <td>NaN</td>\n",
       "      <td>Tesuque</td>\n",
       "      <td>NM</td>\n",
       "      <td>False</td>\n",
       "      <td>undetermined</td>\n",
       "      <td>NaN</td>\n",
       "      <td>False</td>\n",
       "      <td>-105.922</td>\n",
       "      <td>35.744</td>\n",
       "      <td>True</td>\n",
       "    </tr>\n",
       "    <tr>\n",
       "      <th>6516</th>\n",
       "      <td>7107</td>\n",
       "      <td>George Michael Mireles</td>\n",
       "      <td>2021-08-20</td>\n",
       "      <td>shot</td>\n",
       "      <td>gun</td>\n",
       "      <td>34.0</td>\n",
       "      <td>NaN</td>\n",
       "      <td>NaN</td>\n",
       "      <td>Amarillo</td>\n",
       "      <td>TX</td>\n",
       "      <td>False</td>\n",
       "      <td>attack</td>\n",
       "      <td>NaN</td>\n",
       "      <td>False</td>\n",
       "      <td>-101.820</td>\n",
       "      <td>35.198</td>\n",
       "      <td>True</td>\n",
       "    </tr>\n",
       "  </tbody>\n",
       "</table>\n",
       "</div>"
      ],
      "text/plain": [
       "        id                    name        date manner_of_death         armed  \\\n",
       "2652  2956           Scout Schultz  2017-09-16            shot         knife   \n",
       "6426  7007                     NaN  2021-07-07            shot  undetermined   \n",
       "6516  7107  George Michael Mireles  2021-08-20            shot           gun   \n",
       "\n",
       "       age gender race      city state  signs_of_mental_illness  threat_level  \\\n",
       "2652  21.0    NaN    W   Atlanta    GA                     True         other   \n",
       "6426   NaN    NaN  NaN   Tesuque    NM                    False  undetermined   \n",
       "6516  34.0    NaN  NaN  Amarillo    TX                    False        attack   \n",
       "\n",
       "             flee  body_camera  longitude  latitude  is_geocoding_exact  \n",
       "2652  Not fleeing        False        NaN       NaN                True  \n",
       "6426          NaN        False   -105.922    35.744                True  \n",
       "6516          NaN        False   -101.820    35.198                True  "
      ]
     },
     "execution_count": 9,
     "metadata": {},
     "output_type": "execute_result"
    }
   ],
   "source": [
    "df[df['gender'].isnull()]   "
   ]
  },
  {
   "cell_type": "code",
   "execution_count": 255,
   "metadata": {
    "id": "0uCBNRfS7Wuz"
   },
   "outputs": [],
   "source": [
    "df['gender'].fillna({2652:'M',6516:'M'},inplace=True)"
   ]
  },
  {
   "cell_type": "code",
   "execution_count": 256,
   "metadata": {
    "colab": {
     "base_uri": "https://localhost:8080/",
     "height": 80
    },
    "id": "R-ccTASrqlgI",
    "outputId": "6e138ddc-77a1-4332-da03-6a641d29b661"
   },
   "outputs": [
    {
     "data": {
      "text/html": [
       "<div>\n",
       "<style scoped>\n",
       "    .dataframe tbody tr th:only-of-type {\n",
       "        vertical-align: middle;\n",
       "    }\n",
       "\n",
       "    .dataframe tbody tr th {\n",
       "        vertical-align: top;\n",
       "    }\n",
       "\n",
       "    .dataframe thead th {\n",
       "        text-align: right;\n",
       "    }\n",
       "</style>\n",
       "<table border=\"1\" class=\"dataframe\">\n",
       "  <thead>\n",
       "    <tr style=\"text-align: right;\">\n",
       "      <th></th>\n",
       "      <th>id</th>\n",
       "      <th>name</th>\n",
       "      <th>date</th>\n",
       "      <th>manner_of_death</th>\n",
       "      <th>armed</th>\n",
       "      <th>age</th>\n",
       "      <th>gender</th>\n",
       "      <th>race</th>\n",
       "      <th>city</th>\n",
       "      <th>state</th>\n",
       "      <th>signs_of_mental_illness</th>\n",
       "      <th>threat_level</th>\n",
       "      <th>flee</th>\n",
       "      <th>body_camera</th>\n",
       "      <th>longitude</th>\n",
       "      <th>latitude</th>\n",
       "      <th>is_geocoding_exact</th>\n",
       "    </tr>\n",
       "  </thead>\n",
       "  <tbody>\n",
       "    <tr>\n",
       "      <th>6426</th>\n",
       "      <td>7007</td>\n",
       "      <td>NaN</td>\n",
       "      <td>2021-07-07</td>\n",
       "      <td>shot</td>\n",
       "      <td>undetermined</td>\n",
       "      <td>NaN</td>\n",
       "      <td>NaN</td>\n",
       "      <td>NaN</td>\n",
       "      <td>Tesuque</td>\n",
       "      <td>NM</td>\n",
       "      <td>False</td>\n",
       "      <td>undetermined</td>\n",
       "      <td>NaN</td>\n",
       "      <td>False</td>\n",
       "      <td>-105.922</td>\n",
       "      <td>35.744</td>\n",
       "      <td>True</td>\n",
       "    </tr>\n",
       "  </tbody>\n",
       "</table>\n",
       "</div>"
      ],
      "text/plain": [
       "        id name        date  ... longitude latitude  is_geocoding_exact\n",
       "6426  7007  NaN  2021-07-07  ...  -105.922   35.744                True\n",
       "\n",
       "[1 rows x 17 columns]"
      ]
     },
     "execution_count": 256,
     "metadata": {},
     "output_type": "execute_result"
    }
   ],
   "source": [
    "df[df['gender'].isnull()]"
   ]
  },
  {
   "cell_type": "markdown",
   "metadata": {
    "id": "FKgR25hmV52A"
   },
   "source": [
    "## Data Cleaning"
   ]
  },
  {
   "cell_type": "code",
   "execution_count": 257,
   "metadata": {
    "colab": {
     "base_uri": "https://localhost:8080/",
     "height": 587
    },
    "id": "ED9C4gLsBKew",
    "outputId": "12f32aaa-899b-4cc3-b135-b9bd6a1c21d2"
   },
   "outputs": [
    {
     "data": {
      "text/html": [
       "<div>\n",
       "<style scoped>\n",
       "    .dataframe tbody tr th:only-of-type {\n",
       "        vertical-align: middle;\n",
       "    }\n",
       "\n",
       "    .dataframe tbody tr th {\n",
       "        vertical-align: top;\n",
       "    }\n",
       "\n",
       "    .dataframe thead th {\n",
       "        text-align: right;\n",
       "    }\n",
       "</style>\n",
       "<table border=\"1\" class=\"dataframe\">\n",
       "  <thead>\n",
       "    <tr style=\"text-align: right;\">\n",
       "      <th></th>\n",
       "      <th>id</th>\n",
       "      <th>name</th>\n",
       "      <th>date</th>\n",
       "      <th>manner_of_death</th>\n",
       "      <th>armed</th>\n",
       "      <th>age</th>\n",
       "      <th>gender</th>\n",
       "      <th>race</th>\n",
       "      <th>city</th>\n",
       "      <th>state</th>\n",
       "      <th>signs_of_mental_illness</th>\n",
       "      <th>threat_level</th>\n",
       "      <th>flee</th>\n",
       "      <th>body_camera</th>\n",
       "      <th>longitude</th>\n",
       "      <th>latitude</th>\n",
       "      <th>is_geocoding_exact</th>\n",
       "    </tr>\n",
       "  </thead>\n",
       "  <tbody>\n",
       "    <tr>\n",
       "      <th>0</th>\n",
       "      <td>3</td>\n",
       "      <td>Tim Elliot</td>\n",
       "      <td>2015-01-02</td>\n",
       "      <td>shot</td>\n",
       "      <td>gun</td>\n",
       "      <td>53.0</td>\n",
       "      <td>M</td>\n",
       "      <td>A</td>\n",
       "      <td>Shelton</td>\n",
       "      <td>WA</td>\n",
       "      <td>True</td>\n",
       "      <td>attack</td>\n",
       "      <td>Not fleeing</td>\n",
       "      <td>False</td>\n",
       "      <td>-123.122</td>\n",
       "      <td>47.247</td>\n",
       "      <td>True</td>\n",
       "    </tr>\n",
       "    <tr>\n",
       "      <th>1</th>\n",
       "      <td>4</td>\n",
       "      <td>Lewis Lee Lembke</td>\n",
       "      <td>2015-01-02</td>\n",
       "      <td>shot</td>\n",
       "      <td>gun</td>\n",
       "      <td>47.0</td>\n",
       "      <td>M</td>\n",
       "      <td>W</td>\n",
       "      <td>Aloha</td>\n",
       "      <td>OR</td>\n",
       "      <td>False</td>\n",
       "      <td>attack</td>\n",
       "      <td>Not fleeing</td>\n",
       "      <td>False</td>\n",
       "      <td>-122.892</td>\n",
       "      <td>45.487</td>\n",
       "      <td>True</td>\n",
       "    </tr>\n",
       "    <tr>\n",
       "      <th>2</th>\n",
       "      <td>5</td>\n",
       "      <td>John Paul Quintero</td>\n",
       "      <td>2015-01-03</td>\n",
       "      <td>shot and Tasered</td>\n",
       "      <td>unarmed</td>\n",
       "      <td>23.0</td>\n",
       "      <td>M</td>\n",
       "      <td>H</td>\n",
       "      <td>Wichita</td>\n",
       "      <td>KS</td>\n",
       "      <td>False</td>\n",
       "      <td>other</td>\n",
       "      <td>Not fleeing</td>\n",
       "      <td>False</td>\n",
       "      <td>-97.281</td>\n",
       "      <td>37.695</td>\n",
       "      <td>True</td>\n",
       "    </tr>\n",
       "    <tr>\n",
       "      <th>3</th>\n",
       "      <td>8</td>\n",
       "      <td>Matthew Hoffman</td>\n",
       "      <td>2015-01-04</td>\n",
       "      <td>shot</td>\n",
       "      <td>toy weapon</td>\n",
       "      <td>32.0</td>\n",
       "      <td>M</td>\n",
       "      <td>W</td>\n",
       "      <td>San Francisco</td>\n",
       "      <td>CA</td>\n",
       "      <td>True</td>\n",
       "      <td>attack</td>\n",
       "      <td>Not fleeing</td>\n",
       "      <td>False</td>\n",
       "      <td>-122.422</td>\n",
       "      <td>37.763</td>\n",
       "      <td>True</td>\n",
       "    </tr>\n",
       "    <tr>\n",
       "      <th>4</th>\n",
       "      <td>9</td>\n",
       "      <td>Michael Rodriguez</td>\n",
       "      <td>2015-01-04</td>\n",
       "      <td>shot</td>\n",
       "      <td>nail gun</td>\n",
       "      <td>39.0</td>\n",
       "      <td>M</td>\n",
       "      <td>H</td>\n",
       "      <td>Evans</td>\n",
       "      <td>CO</td>\n",
       "      <td>False</td>\n",
       "      <td>attack</td>\n",
       "      <td>Not fleeing</td>\n",
       "      <td>False</td>\n",
       "      <td>-104.692</td>\n",
       "      <td>40.384</td>\n",
       "      <td>True</td>\n",
       "    </tr>\n",
       "    <tr>\n",
       "      <th>...</th>\n",
       "      <td>...</td>\n",
       "      <td>...</td>\n",
       "      <td>...</td>\n",
       "      <td>...</td>\n",
       "      <td>...</td>\n",
       "      <td>...</td>\n",
       "      <td>...</td>\n",
       "      <td>...</td>\n",
       "      <td>...</td>\n",
       "      <td>...</td>\n",
       "      <td>...</td>\n",
       "      <td>...</td>\n",
       "      <td>...</td>\n",
       "      <td>...</td>\n",
       "      <td>...</td>\n",
       "      <td>...</td>\n",
       "      <td>...</td>\n",
       "    </tr>\n",
       "    <tr>\n",
       "      <th>6595</th>\n",
       "      <td>7184</td>\n",
       "      <td>Ronnie Andrew Garcia</td>\n",
       "      <td>2021-09-25</td>\n",
       "      <td>shot</td>\n",
       "      <td>gun</td>\n",
       "      <td>43.0</td>\n",
       "      <td>M</td>\n",
       "      <td>H</td>\n",
       "      <td>Huntington Beach</td>\n",
       "      <td>CA</td>\n",
       "      <td>False</td>\n",
       "      <td>other</td>\n",
       "      <td>NaN</td>\n",
       "      <td>False</td>\n",
       "      <td>-118.004</td>\n",
       "      <td>33.655</td>\n",
       "      <td>True</td>\n",
       "    </tr>\n",
       "    <tr>\n",
       "      <th>6596</th>\n",
       "      <td>7186</td>\n",
       "      <td>Sandra Barajas</td>\n",
       "      <td>2021-09-25</td>\n",
       "      <td>shot</td>\n",
       "      <td>knife</td>\n",
       "      <td>30.0</td>\n",
       "      <td>F</td>\n",
       "      <td>H</td>\n",
       "      <td>Delano</td>\n",
       "      <td>CA</td>\n",
       "      <td>False</td>\n",
       "      <td>attack</td>\n",
       "      <td>Not fleeing</td>\n",
       "      <td>False</td>\n",
       "      <td>-119.239</td>\n",
       "      <td>35.783</td>\n",
       "      <td>True</td>\n",
       "    </tr>\n",
       "    <tr>\n",
       "      <th>6597</th>\n",
       "      <td>7187</td>\n",
       "      <td>Christian Smith</td>\n",
       "      <td>2021-09-25</td>\n",
       "      <td>shot</td>\n",
       "      <td>gun</td>\n",
       "      <td>33.0</td>\n",
       "      <td>M</td>\n",
       "      <td>NaN</td>\n",
       "      <td>Decatur</td>\n",
       "      <td>GA</td>\n",
       "      <td>False</td>\n",
       "      <td>other</td>\n",
       "      <td>NaN</td>\n",
       "      <td>False</td>\n",
       "      <td>-84.280</td>\n",
       "      <td>33.727</td>\n",
       "      <td>True</td>\n",
       "    </tr>\n",
       "    <tr>\n",
       "      <th>6598</th>\n",
       "      <td>7195</td>\n",
       "      <td>Gloria Marie Strong</td>\n",
       "      <td>2021-09-27</td>\n",
       "      <td>shot</td>\n",
       "      <td>gun</td>\n",
       "      <td>27.0</td>\n",
       "      <td>F</td>\n",
       "      <td>NaN</td>\n",
       "      <td>Allen</td>\n",
       "      <td>TX</td>\n",
       "      <td>False</td>\n",
       "      <td>attack</td>\n",
       "      <td>Foot</td>\n",
       "      <td>False</td>\n",
       "      <td>-96.676</td>\n",
       "      <td>33.101</td>\n",
       "      <td>True</td>\n",
       "    </tr>\n",
       "    <tr>\n",
       "      <th>6599</th>\n",
       "      <td>7196</td>\n",
       "      <td>Joseph Arbour</td>\n",
       "      <td>2021-09-27</td>\n",
       "      <td>shot</td>\n",
       "      <td>unknown weapon</td>\n",
       "      <td>36.0</td>\n",
       "      <td>M</td>\n",
       "      <td>NaN</td>\n",
       "      <td>Auburn</td>\n",
       "      <td>ME</td>\n",
       "      <td>False</td>\n",
       "      <td>other</td>\n",
       "      <td>Foot</td>\n",
       "      <td>False</td>\n",
       "      <td>-70.227</td>\n",
       "      <td>44.108</td>\n",
       "      <td>True</td>\n",
       "    </tr>\n",
       "  </tbody>\n",
       "</table>\n",
       "<p>6599 rows × 17 columns</p>\n",
       "</div>"
      ],
      "text/plain": [
       "        id                  name  ... latitude is_geocoding_exact\n",
       "0        3            Tim Elliot  ...   47.247               True\n",
       "1        4      Lewis Lee Lembke  ...   45.487               True\n",
       "2        5    John Paul Quintero  ...   37.695               True\n",
       "3        8       Matthew Hoffman  ...   37.763               True\n",
       "4        9     Michael Rodriguez  ...   40.384               True\n",
       "...    ...                   ...  ...      ...                ...\n",
       "6595  7184  Ronnie Andrew Garcia  ...   33.655               True\n",
       "6596  7186        Sandra Barajas  ...   35.783               True\n",
       "6597  7187       Christian Smith  ...   33.727               True\n",
       "6598  7195   Gloria Marie Strong  ...   33.101               True\n",
       "6599  7196         Joseph Arbour  ...   44.108               True\n",
       "\n",
       "[6599 rows x 17 columns]"
      ]
     },
     "execution_count": 257,
     "metadata": {},
     "output_type": "execute_result"
    }
   ],
   "source": [
    "a =df.drop([6426],axis=0)\n",
    "a"
   ]
  },
  {
   "cell_type": "code",
   "execution_count": 258,
   "metadata": {
    "colab": {
     "base_uri": "https://localhost:8080/",
     "height": 418
    },
    "id": "sHNFXjFo26R2",
    "outputId": "65c79068-2efe-4b64-9667-900a55b69d9f"
   },
   "outputs": [
    {
     "data": {
      "text/html": [
       "<div>\n",
       "<style scoped>\n",
       "    .dataframe tbody tr th:only-of-type {\n",
       "        vertical-align: middle;\n",
       "    }\n",
       "\n",
       "    .dataframe tbody tr th {\n",
       "        vertical-align: top;\n",
       "    }\n",
       "\n",
       "    .dataframe thead th {\n",
       "        text-align: right;\n",
       "    }\n",
       "</style>\n",
       "<table border=\"1\" class=\"dataframe\">\n",
       "  <thead>\n",
       "    <tr style=\"text-align: right;\">\n",
       "      <th></th>\n",
       "      <th>id</th>\n",
       "      <th>name</th>\n",
       "      <th>date</th>\n",
       "      <th>manner_of_death</th>\n",
       "      <th>armed</th>\n",
       "      <th>age</th>\n",
       "      <th>gender</th>\n",
       "      <th>city</th>\n",
       "      <th>state</th>\n",
       "      <th>signs_of_mental_illness</th>\n",
       "      <th>threat_level</th>\n",
       "      <th>flee</th>\n",
       "      <th>body_camera</th>\n",
       "      <th>is_geocoding_exact</th>\n",
       "    </tr>\n",
       "  </thead>\n",
       "  <tbody>\n",
       "    <tr>\n",
       "      <th>0</th>\n",
       "      <td>3</td>\n",
       "      <td>Tim Elliot</td>\n",
       "      <td>2015-01-02</td>\n",
       "      <td>shot</td>\n",
       "      <td>gun</td>\n",
       "      <td>53.0</td>\n",
       "      <td>M</td>\n",
       "      <td>Shelton</td>\n",
       "      <td>WA</td>\n",
       "      <td>True</td>\n",
       "      <td>attack</td>\n",
       "      <td>Not fleeing</td>\n",
       "      <td>False</td>\n",
       "      <td>True</td>\n",
       "    </tr>\n",
       "    <tr>\n",
       "      <th>1</th>\n",
       "      <td>4</td>\n",
       "      <td>Lewis Lee Lembke</td>\n",
       "      <td>2015-01-02</td>\n",
       "      <td>shot</td>\n",
       "      <td>gun</td>\n",
       "      <td>47.0</td>\n",
       "      <td>M</td>\n",
       "      <td>Aloha</td>\n",
       "      <td>OR</td>\n",
       "      <td>False</td>\n",
       "      <td>attack</td>\n",
       "      <td>Not fleeing</td>\n",
       "      <td>False</td>\n",
       "      <td>True</td>\n",
       "    </tr>\n",
       "    <tr>\n",
       "      <th>2</th>\n",
       "      <td>5</td>\n",
       "      <td>John Paul Quintero</td>\n",
       "      <td>2015-01-03</td>\n",
       "      <td>shot and Tasered</td>\n",
       "      <td>unarmed</td>\n",
       "      <td>23.0</td>\n",
       "      <td>M</td>\n",
       "      <td>Wichita</td>\n",
       "      <td>KS</td>\n",
       "      <td>False</td>\n",
       "      <td>other</td>\n",
       "      <td>Not fleeing</td>\n",
       "      <td>False</td>\n",
       "      <td>True</td>\n",
       "    </tr>\n",
       "    <tr>\n",
       "      <th>3</th>\n",
       "      <td>8</td>\n",
       "      <td>Matthew Hoffman</td>\n",
       "      <td>2015-01-04</td>\n",
       "      <td>shot</td>\n",
       "      <td>toy weapon</td>\n",
       "      <td>32.0</td>\n",
       "      <td>M</td>\n",
       "      <td>San Francisco</td>\n",
       "      <td>CA</td>\n",
       "      <td>True</td>\n",
       "      <td>attack</td>\n",
       "      <td>Not fleeing</td>\n",
       "      <td>False</td>\n",
       "      <td>True</td>\n",
       "    </tr>\n",
       "    <tr>\n",
       "      <th>4</th>\n",
       "      <td>9</td>\n",
       "      <td>Michael Rodriguez</td>\n",
       "      <td>2015-01-04</td>\n",
       "      <td>shot</td>\n",
       "      <td>nail gun</td>\n",
       "      <td>39.0</td>\n",
       "      <td>M</td>\n",
       "      <td>Evans</td>\n",
       "      <td>CO</td>\n",
       "      <td>False</td>\n",
       "      <td>attack</td>\n",
       "      <td>Not fleeing</td>\n",
       "      <td>False</td>\n",
       "      <td>True</td>\n",
       "    </tr>\n",
       "    <tr>\n",
       "      <th>...</th>\n",
       "      <td>...</td>\n",
       "      <td>...</td>\n",
       "      <td>...</td>\n",
       "      <td>...</td>\n",
       "      <td>...</td>\n",
       "      <td>...</td>\n",
       "      <td>...</td>\n",
       "      <td>...</td>\n",
       "      <td>...</td>\n",
       "      <td>...</td>\n",
       "      <td>...</td>\n",
       "      <td>...</td>\n",
       "      <td>...</td>\n",
       "      <td>...</td>\n",
       "    </tr>\n",
       "    <tr>\n",
       "      <th>6595</th>\n",
       "      <td>7184</td>\n",
       "      <td>Ronnie Andrew Garcia</td>\n",
       "      <td>2021-09-25</td>\n",
       "      <td>shot</td>\n",
       "      <td>gun</td>\n",
       "      <td>43.0</td>\n",
       "      <td>M</td>\n",
       "      <td>Huntington Beach</td>\n",
       "      <td>CA</td>\n",
       "      <td>False</td>\n",
       "      <td>other</td>\n",
       "      <td>NaN</td>\n",
       "      <td>False</td>\n",
       "      <td>True</td>\n",
       "    </tr>\n",
       "    <tr>\n",
       "      <th>6596</th>\n",
       "      <td>7186</td>\n",
       "      <td>Sandra Barajas</td>\n",
       "      <td>2021-09-25</td>\n",
       "      <td>shot</td>\n",
       "      <td>knife</td>\n",
       "      <td>30.0</td>\n",
       "      <td>F</td>\n",
       "      <td>Delano</td>\n",
       "      <td>CA</td>\n",
       "      <td>False</td>\n",
       "      <td>attack</td>\n",
       "      <td>Not fleeing</td>\n",
       "      <td>False</td>\n",
       "      <td>True</td>\n",
       "    </tr>\n",
       "    <tr>\n",
       "      <th>6597</th>\n",
       "      <td>7187</td>\n",
       "      <td>Christian Smith</td>\n",
       "      <td>2021-09-25</td>\n",
       "      <td>shot</td>\n",
       "      <td>gun</td>\n",
       "      <td>33.0</td>\n",
       "      <td>M</td>\n",
       "      <td>Decatur</td>\n",
       "      <td>GA</td>\n",
       "      <td>False</td>\n",
       "      <td>other</td>\n",
       "      <td>NaN</td>\n",
       "      <td>False</td>\n",
       "      <td>True</td>\n",
       "    </tr>\n",
       "    <tr>\n",
       "      <th>6598</th>\n",
       "      <td>7195</td>\n",
       "      <td>Gloria Marie Strong</td>\n",
       "      <td>2021-09-27</td>\n",
       "      <td>shot</td>\n",
       "      <td>gun</td>\n",
       "      <td>27.0</td>\n",
       "      <td>F</td>\n",
       "      <td>Allen</td>\n",
       "      <td>TX</td>\n",
       "      <td>False</td>\n",
       "      <td>attack</td>\n",
       "      <td>Foot</td>\n",
       "      <td>False</td>\n",
       "      <td>True</td>\n",
       "    </tr>\n",
       "    <tr>\n",
       "      <th>6599</th>\n",
       "      <td>7196</td>\n",
       "      <td>Joseph Arbour</td>\n",
       "      <td>2021-09-27</td>\n",
       "      <td>shot</td>\n",
       "      <td>unknown weapon</td>\n",
       "      <td>36.0</td>\n",
       "      <td>M</td>\n",
       "      <td>Auburn</td>\n",
       "      <td>ME</td>\n",
       "      <td>False</td>\n",
       "      <td>other</td>\n",
       "      <td>Foot</td>\n",
       "      <td>False</td>\n",
       "      <td>True</td>\n",
       "    </tr>\n",
       "  </tbody>\n",
       "</table>\n",
       "<p>6599 rows × 14 columns</p>\n",
       "</div>"
      ],
      "text/plain": [
       "        id                  name  ... body_camera is_geocoding_exact\n",
       "0        3            Tim Elliot  ...       False               True\n",
       "1        4      Lewis Lee Lembke  ...       False               True\n",
       "2        5    John Paul Quintero  ...       False               True\n",
       "3        8       Matthew Hoffman  ...       False               True\n",
       "4        9     Michael Rodriguez  ...       False               True\n",
       "...    ...                   ...  ...         ...                ...\n",
       "6595  7184  Ronnie Andrew Garcia  ...       False               True\n",
       "6596  7186        Sandra Barajas  ...       False               True\n",
       "6597  7187       Christian Smith  ...       False               True\n",
       "6598  7195   Gloria Marie Strong  ...       False               True\n",
       "6599  7196         Joseph Arbour  ...       False               True\n",
       "\n",
       "[6599 rows x 14 columns]"
      ]
     },
     "execution_count": 258,
     "metadata": {},
     "output_type": "execute_result"
    }
   ],
   "source": [
    "cd = a.drop(['race','latitude','longitude'],axis=1)\n",
    "cd"
   ]
  },
  {
   "cell_type": "code",
   "execution_count": 259,
   "metadata": {
    "colab": {
     "base_uri": "https://localhost:8080/"
    },
    "id": "sTreQcgfWwJ8",
    "outputId": "e3a41650-a49e-4240-fee0-3cf440dfc01a"
   },
   "outputs": [
    {
     "data": {
      "text/plain": [
       "37"
      ]
     },
     "execution_count": 259,
     "metadata": {},
     "output_type": "execute_result"
    }
   ],
   "source": [
    "age_mean= cd['age'].mean()\n",
    "average_age=math.trunc(age_mean)\n",
    "average_age"
   ]
  },
  {
   "cell_type": "code",
   "execution_count": 260,
   "metadata": {
    "id": "6dKdY3gQKQy8"
   },
   "outputs": [],
   "source": [
    "cd['name'].fillna('No name',inplace=True)\n",
    "cd['armed'].fillna('Not known',inplace = True)\n",
    "cd['flee'].fillna('Other',inplace = True)\n",
    "cd['age'].fillna(average_age,inplace = True)"
   ]
  },
  {
   "cell_type": "code",
   "execution_count": 261,
   "metadata": {
    "colab": {
     "base_uri": "https://localhost:8080/"
    },
    "id": "h6XOh53tLQKv",
    "outputId": "d9bd4a7e-6933-4577-c0a5-00731a04b517"
   },
   "outputs": [
    {
     "data": {
      "text/plain": [
       "id                         0\n",
       "name                       0\n",
       "date                       0\n",
       "manner_of_death            0\n",
       "armed                      0\n",
       "age                        0\n",
       "gender                     0\n",
       "city                       0\n",
       "state                      0\n",
       "signs_of_mental_illness    0\n",
       "threat_level               0\n",
       "flee                       0\n",
       "body_camera                0\n",
       "is_geocoding_exact         0\n",
       "dtype: int64"
      ]
     },
     "execution_count": 261,
     "metadata": {},
     "output_type": "execute_result"
    }
   ],
   "source": [
    "cd.isnull().sum()"
   ]
  },
  {
   "cell_type": "markdown",
   "metadata": {
    "id": "R0-3C5mNV99v"
   },
   "source": [
    "## Data Visualization"
   ]
  },
  {
   "cell_type": "code",
   "execution_count": 4,
   "metadata": {
    "id": "8iSXsJPfJaGQ"
   },
   "outputs": [
    {
     "ename": "NameError",
     "evalue": "name 'cd' is not defined",
     "output_type": "error",
     "traceback": [
      "\u001b[1;31m---------------------------------------------------------------------------\u001b[0m",
      "\u001b[1;31mNameError\u001b[0m                                 Traceback (most recent call last)",
      "\u001b[1;32m<ipython-input-4-3cdb60096d7c>\u001b[0m in \u001b[0;36m<module>\u001b[1;34m()\u001b[0m\n\u001b[1;32m----> 1\u001b[1;33m \u001b[0mcorelation\u001b[0m \u001b[1;33m=\u001b[0m \u001b[0mcd\u001b[0m\u001b[1;33m.\u001b[0m\u001b[0mcorr\u001b[0m\u001b[1;33m(\u001b[0m\u001b[1;33m)\u001b[0m\u001b[1;33m\u001b[0m\u001b[0m\n\u001b[0m",
      "\u001b[1;31mNameError\u001b[0m: name 'cd' is not defined"
     ]
    }
   ],
   "source": [
    "corelation = cd.corr()"
   ]
  },
  {
   "cell_type": "code",
   "execution_count": 263,
   "metadata": {
    "colab": {
     "base_uri": "https://localhost:8080/",
     "height": 395
    },
    "id": "SAeWzOFnqEL1",
    "outputId": "48935bca-88ab-4706-99c9-be73dd820a2e"
   },
   "outputs": [
    {
     "data": {
      "text/plain": [
       "<matplotlib.axes._subplots.AxesSubplot at 0x7f49b8d0f4d0>"
      ]
     },
     "execution_count": 263,
     "metadata": {},
     "output_type": "execute_result"
    },
    {
     "data": {
      "image/png": "[encoded data removed]",
      "text/plain": [
       "<Figure size 432x288 with 2 Axes>"
      ]
     },
     "metadata": {
      "needs_background": "light"
     },
     "output_type": "display_data"
    }
   ],
   "source": [
    "sns.heatmap(corelation, xticklabels=corelation.columns, yticklabels= corelation.columns, annot = True)"
   ]
  },
  {
   "cell_type": "code",
   "execution_count": 264,
   "metadata": {
    "colab": {
     "base_uri": "https://localhost:8080/"
    },
    "id": "EWIVLGRC3KvY",
    "outputId": "f8864ce7-2d09-4618-fff7-4ea1dc52db16"
   },
   "outputs": [
    {
     "data": {
      "text/plain": [
       "M    6305\n",
       "F     294\n",
       "Name: gender, dtype: int64"
      ]
     },
     "execution_count": 264,
     "metadata": {},
     "output_type": "execute_result"
    }
   ],
   "source": [
    "gender_value = cd['gender'].value_counts()\n",
    "gender_value"
   ]
  },
  {
   "cell_type": "code",
   "execution_count": 265,
   "metadata": {
    "colab": {
     "base_uri": "https://localhost:8080/",
     "height": 428
    },
    "id": "fGvq4vjAVh31",
    "outputId": "2c344e73-1df0-420e-d183-b33a165a6a91"
   },
   "outputs": [
    {
     "data": {
      "text/plain": [
       "<matplotlib.axes._subplots.AxesSubplot at 0x7f49b8b12e10>"
      ]
     },
     "execution_count": 265,
     "metadata": {},
     "output_type": "execute_result"
    },
    {
     "data": {
      "image/png": "[encoded data removed]",
      "text/plain": [
       "<Figure size 1440x504 with 1 Axes>"
      ]
     },
     "metadata": {},
     "output_type": "display_data"
    }
   ],
   "source": [
    "plt.figure(figsize=(20,7))\n",
    "cd['gender'].value_counts().plot(kind = 'pie',autopct='%.1f%%',label= 'Gender')"
   ]
  },
  {
   "cell_type": "code",
   "execution_count": 307,
   "metadata": {
    "colab": {
     "base_uri": "https://localhost:8080/",
     "height": 295
    },
    "id": "GWGirKGXyqvA",
    "outputId": "d11deb1f-c6a3-493d-dbf5-6f9818fa8c1d"
   },
   "outputs": [
    {
     "data": {
      "image/png": "[encoded data removed]",
      "text/plain": [
       "<Figure size 432x288 with 1 Axes>"
      ]
     },
     "metadata": {
      "needs_background": "light"
     },
     "output_type": "display_data"
    }
   ],
   "source": [
    "#type of way the person was attacked\n",
    "cd.manner_of_death.value_counts().sort_values(ascending=False).plot(kind= 'barh',color='maroon',title='Way of death')\n",
    "plt.xlabel(\"No of Deaths\")\n",
    "plt.ylabel(\"Type of attack\")\n",
    "plt.show()"
   ]
  },
  {
   "cell_type": "code",
   "execution_count": 268,
   "metadata": {
    "colab": {
     "base_uri": "https://localhost:8080/",
     "height": 500
    },
    "id": "9lcaw8I2Btd3",
    "outputId": "bcc3d2c8-d383-4980-b353-dc4189fe5e25"
   },
   "outputs": [
    {
     "data": {
      "image/png": "[encoded data removed]",
      "text/plain": [
       "<Figure size 1440x360 with 1 Axes>"
      ]
     },
     "metadata": {
      "needs_background": "light"
     },
     "output_type": "display_data"
    }
   ],
   "source": [
    "#weapon used while attacking\n",
    "plt.figure(figsize=(20,5))\n",
    "cd.groupby('armed').size().plot(kind = 'bar',title=' Type of Weapon')\n",
    "plt.xlabel(\"Weapons\")\n",
    "plt.ylabel(\"No of times used\")\n",
    "plt.show()"
   ]
  },
  {
   "cell_type": "code",
   "execution_count": 269,
   "metadata": {
    "colab": {
     "base_uri": "https://localhost:8080/",
     "height": 204
    },
    "id": "os80cW9F28DS",
    "outputId": "70c4f4eb-6417-4e32-f2cf-77e3e4bf1caf"
   },
   "outputs": [
    {
     "data": {
      "text/html": [
       "<div>\n",
       "<style scoped>\n",
       "    .dataframe tbody tr th:only-of-type {\n",
       "        vertical-align: middle;\n",
       "    }\n",
       "\n",
       "    .dataframe tbody tr th {\n",
       "        vertical-align: top;\n",
       "    }\n",
       "\n",
       "    .dataframe thead th {\n",
       "        text-align: right;\n",
       "    }\n",
       "</style>\n",
       "<table border=\"1\" class=\"dataframe\">\n",
       "  <thead>\n",
       "    <tr style=\"text-align: right;\">\n",
       "      <th></th>\n",
       "      <th>id</th>\n",
       "      <th>name</th>\n",
       "      <th>date</th>\n",
       "      <th>manner_of_death</th>\n",
       "      <th>armed</th>\n",
       "      <th>age</th>\n",
       "      <th>gender</th>\n",
       "      <th>city</th>\n",
       "      <th>state</th>\n",
       "      <th>signs_of_mental_illness</th>\n",
       "      <th>threat_level</th>\n",
       "      <th>flee</th>\n",
       "      <th>body_camera</th>\n",
       "      <th>is_geocoding_exact</th>\n",
       "    </tr>\n",
       "  </thead>\n",
       "  <tbody>\n",
       "    <tr>\n",
       "      <th>2</th>\n",
       "      <td>5</td>\n",
       "      <td>John Paul Quintero</td>\n",
       "      <td>2015-01-03</td>\n",
       "      <td>shot and Tasered</td>\n",
       "      <td>unarmed</td>\n",
       "      <td>23.0</td>\n",
       "      <td>M</td>\n",
       "      <td>Wichita</td>\n",
       "      <td>KS</td>\n",
       "      <td>False</td>\n",
       "      <td>other</td>\n",
       "      <td>Not fleeing</td>\n",
       "      <td>False</td>\n",
       "      <td>True</td>\n",
       "    </tr>\n",
       "    <tr>\n",
       "      <th>10</th>\n",
       "      <td>19</td>\n",
       "      <td>Patrick Wetter</td>\n",
       "      <td>2015-01-06</td>\n",
       "      <td>shot and Tasered</td>\n",
       "      <td>knife</td>\n",
       "      <td>25.0</td>\n",
       "      <td>M</td>\n",
       "      <td>Stockton</td>\n",
       "      <td>CA</td>\n",
       "      <td>False</td>\n",
       "      <td>attack</td>\n",
       "      <td>Not fleeing</td>\n",
       "      <td>False</td>\n",
       "      <td>True</td>\n",
       "    </tr>\n",
       "    <tr>\n",
       "      <th>23</th>\n",
       "      <td>45</td>\n",
       "      <td>Salvador Figueroa</td>\n",
       "      <td>2015-01-11</td>\n",
       "      <td>shot and Tasered</td>\n",
       "      <td>gun</td>\n",
       "      <td>29.0</td>\n",
       "      <td>M</td>\n",
       "      <td>North Las Vegas</td>\n",
       "      <td>NV</td>\n",
       "      <td>False</td>\n",
       "      <td>attack</td>\n",
       "      <td>Foot</td>\n",
       "      <td>False</td>\n",
       "      <td>True</td>\n",
       "    </tr>\n",
       "    <tr>\n",
       "      <th>38</th>\n",
       "      <td>68</td>\n",
       "      <td>Zaki Shinwary</td>\n",
       "      <td>2015-01-16</td>\n",
       "      <td>shot and Tasered</td>\n",
       "      <td>knife</td>\n",
       "      <td>48.0</td>\n",
       "      <td>M</td>\n",
       "      <td>Fremont</td>\n",
       "      <td>CA</td>\n",
       "      <td>False</td>\n",
       "      <td>other</td>\n",
       "      <td>Not fleeing</td>\n",
       "      <td>False</td>\n",
       "      <td>True</td>\n",
       "    </tr>\n",
       "    <tr>\n",
       "      <th>43</th>\n",
       "      <td>83</td>\n",
       "      <td>Carter Castle</td>\n",
       "      <td>2015-01-18</td>\n",
       "      <td>shot and Tasered</td>\n",
       "      <td>gun</td>\n",
       "      <td>67.0</td>\n",
       "      <td>M</td>\n",
       "      <td>Gunlock</td>\n",
       "      <td>KY</td>\n",
       "      <td>True</td>\n",
       "      <td>attack</td>\n",
       "      <td>Not fleeing</td>\n",
       "      <td>False</td>\n",
       "      <td>True</td>\n",
       "    </tr>\n",
       "  </tbody>\n",
       "</table>\n",
       "</div>"
      ],
      "text/plain": [
       "    id                name  ... body_camera is_geocoding_exact\n",
       "2    5  John Paul Quintero  ...       False               True\n",
       "10  19      Patrick Wetter  ...       False               True\n",
       "23  45   Salvador Figueroa  ...       False               True\n",
       "38  68       Zaki Shinwary  ...       False               True\n",
       "43  83       Carter Castle  ...       False               True\n",
       "\n",
       "[5 rows x 14 columns]"
      ]
     },
     "execution_count": 269,
     "metadata": {},
     "output_type": "execute_result"
    }
   ],
   "source": [
    "#Shot and Tasered data\n",
    "st = cd[cd.manner_of_death.str.contains('shot and Tasered')] \n",
    "st.head()"
   ]
  },
  {
   "cell_type": "code",
   "execution_count": 270,
   "metadata": {
    "colab": {
     "base_uri": "https://localhost:8080/"
    },
    "id": "UiA__osO3LZg",
    "outputId": "04155500-46bb-4266-f0fa-7b0e9313b8e2"
   },
   "outputs": [
    {
     "data": {
      "text/plain": [
       "(331, 14)"
      ]
     },
     "execution_count": 270,
     "metadata": {},
     "output_type": "execute_result"
    }
   ],
   "source": [
    "st.shape"
   ]
  },
  {
   "cell_type": "code",
   "execution_count": 271,
   "metadata": {
    "colab": {
     "base_uri": "https://localhost:8080/"
    },
    "id": "0jxzoldy3Qr_",
    "outputId": "58b8305a-82aa-4dd0-f447-d5eb264caef6"
   },
   "outputs": [
    {
     "data": {
      "text/plain": [
       "state\n",
       "CA    61\n",
       "TX    39\n",
       "FL    22\n",
       "GA    17\n",
       "OK    16\n",
       "PA    14\n",
       "AZ    13\n",
       "WA    10\n",
       "NY    10\n",
       "NV     8\n",
       "AL     8\n",
       "IL     7\n",
       "CO     7\n",
       "MI     7\n",
       "OH     7\n",
       "LA     6\n",
       "NC     6\n",
       "MN     5\n",
       "IN     5\n",
       "OR     5\n",
       "SC     5\n",
       "KS     4\n",
       "CT     4\n",
       "HI     4\n",
       "MT     4\n",
       "NM     4\n",
       "TN     4\n",
       "WI     3\n",
       "MO     3\n",
       "VA     3\n",
       "AR     3\n",
       "MD     2\n",
       "KY     2\n",
       "NE     2\n",
       "UT     2\n",
       "WY     1\n",
       "IA     1\n",
       "ID     1\n",
       "MA     1\n",
       "ME     1\n",
       "MS     1\n",
       "ND     1\n",
       "VT     1\n",
       "AK     1\n",
       "dtype: int64"
      ]
     },
     "execution_count": 271,
     "metadata": {},
     "output_type": "execute_result"
    }
   ],
   "source": [
    "#shot and tasered data with state\n",
    "st_state = st.groupby('state').size().sort_values(ascending = False) \n",
    "st_state "
   ]
  },
  {
   "cell_type": "code",
   "execution_count": 321,
   "metadata": {
    "colab": {
     "base_uri": "https://localhost:8080/",
     "height": 302
    },
    "id": "HMGhmVs53VPo",
    "outputId": "acac6bcb-bd45-4c01-d2d6-d259f4ca13b5"
   },
   "outputs": [
    {
     "data": {
      "image/png": "[encoded data removed]",
      "text/plain": [
       "<Figure size 432x288 with 1 Axes>"
      ]
     },
     "metadata": {
      "needs_background": "light"
     },
     "output_type": "display_data"
    }
   ],
   "source": [
    "#checking which state has highest shot and tasered incident\n",
    "st_state.sort_values(ascending=False).head(20).sort_values().plot(kind='bar',title='Shot and Tasered state wise',color='r')  \n",
    "plt.xlabel(\"State\")\n",
    "plt.ylabel(\"Deaths state wise\")\n",
    "plt.show()"
   ]
  },
  {
   "cell_type": "code",
   "execution_count": 274,
   "metadata": {
    "id": "kQulxOep1rtS"
   },
   "outputs": [],
   "source": [
    "#getting only month from the colum of date\n",
    "cd['date'] = pd.to_datetime(cd['date'], errors='coerce')\n",
    "cd['month'] = cd['date'].dt.month"
   ]
  },
  {
   "cell_type": "code",
   "execution_count": 275,
   "metadata": {
    "colab": {
     "base_uri": "https://localhost:8080/",
     "height": 298
    },
    "id": "YlbV67rm3tTV",
    "outputId": "58149d02-2c53-4b5c-8144-69123219dbb8"
   },
   "outputs": [
    {
     "data": {
      "image/png": "[encoded data removed]",
      "text/plain": [
       "<Figure size 432x288 with 1 Axes>"
      ]
     },
     "metadata": {
      "needs_background": "light"
     },
     "output_type": "display_data"
    }
   ],
   "source": [
    "#In which month the incidents took more\n",
    "st.groupby(cd['month']).size().plot(kind = 'bar',title = 'Shot and Tasered by month') \n",
    "plt.xlabel(\"Month\")\n",
    "plt.ylabel(\"Deaths\")\n",
    "plt.show()"
   ]
  },
  {
   "cell_type": "code",
   "execution_count": 276,
   "metadata": {
    "colab": {
     "base_uri": "https://localhost:8080/",
     "height": 204
    },
    "id": "u5SWsxBNfy4k",
    "outputId": "f4f8da21-b358-4db2-d4df-68f17cfddc04"
   },
   "outputs": [
    {
     "data": {
      "text/html": [
       "<div>\n",
       "<style scoped>\n",
       "    .dataframe tbody tr th:only-of-type {\n",
       "        vertical-align: middle;\n",
       "    }\n",
       "\n",
       "    .dataframe tbody tr th {\n",
       "        vertical-align: top;\n",
       "    }\n",
       "\n",
       "    .dataframe thead th {\n",
       "        text-align: right;\n",
       "    }\n",
       "</style>\n",
       "<table border=\"1\" class=\"dataframe\">\n",
       "  <thead>\n",
       "    <tr style=\"text-align: right;\">\n",
       "      <th></th>\n",
       "      <th>id</th>\n",
       "      <th>name</th>\n",
       "      <th>date</th>\n",
       "      <th>manner_of_death</th>\n",
       "      <th>armed</th>\n",
       "      <th>age</th>\n",
       "      <th>gender</th>\n",
       "      <th>city</th>\n",
       "      <th>state</th>\n",
       "      <th>signs_of_mental_illness</th>\n",
       "      <th>threat_level</th>\n",
       "      <th>flee</th>\n",
       "      <th>body_camera</th>\n",
       "      <th>is_geocoding_exact</th>\n",
       "      <th>month</th>\n",
       "    </tr>\n",
       "  </thead>\n",
       "  <tbody>\n",
       "    <tr>\n",
       "      <th>0</th>\n",
       "      <td>3</td>\n",
       "      <td>Tim Elliot</td>\n",
       "      <td>2015-01-02</td>\n",
       "      <td>shot</td>\n",
       "      <td>gun</td>\n",
       "      <td>53.0</td>\n",
       "      <td>M</td>\n",
       "      <td>Shelton</td>\n",
       "      <td>WA</td>\n",
       "      <td>True</td>\n",
       "      <td>attack</td>\n",
       "      <td>Not fleeing</td>\n",
       "      <td>False</td>\n",
       "      <td>True</td>\n",
       "      <td>1</td>\n",
       "    </tr>\n",
       "    <tr>\n",
       "      <th>1</th>\n",
       "      <td>4</td>\n",
       "      <td>Lewis Lee Lembke</td>\n",
       "      <td>2015-01-02</td>\n",
       "      <td>shot</td>\n",
       "      <td>gun</td>\n",
       "      <td>47.0</td>\n",
       "      <td>M</td>\n",
       "      <td>Aloha</td>\n",
       "      <td>OR</td>\n",
       "      <td>False</td>\n",
       "      <td>attack</td>\n",
       "      <td>Not fleeing</td>\n",
       "      <td>False</td>\n",
       "      <td>True</td>\n",
       "      <td>1</td>\n",
       "    </tr>\n",
       "    <tr>\n",
       "      <th>3</th>\n",
       "      <td>8</td>\n",
       "      <td>Matthew Hoffman</td>\n",
       "      <td>2015-01-04</td>\n",
       "      <td>shot</td>\n",
       "      <td>toy weapon</td>\n",
       "      <td>32.0</td>\n",
       "      <td>M</td>\n",
       "      <td>San Francisco</td>\n",
       "      <td>CA</td>\n",
       "      <td>True</td>\n",
       "      <td>attack</td>\n",
       "      <td>Not fleeing</td>\n",
       "      <td>False</td>\n",
       "      <td>True</td>\n",
       "      <td>1</td>\n",
       "    </tr>\n",
       "    <tr>\n",
       "      <th>4</th>\n",
       "      <td>9</td>\n",
       "      <td>Michael Rodriguez</td>\n",
       "      <td>2015-01-04</td>\n",
       "      <td>shot</td>\n",
       "      <td>nail gun</td>\n",
       "      <td>39.0</td>\n",
       "      <td>M</td>\n",
       "      <td>Evans</td>\n",
       "      <td>CO</td>\n",
       "      <td>False</td>\n",
       "      <td>attack</td>\n",
       "      <td>Not fleeing</td>\n",
       "      <td>False</td>\n",
       "      <td>True</td>\n",
       "      <td>1</td>\n",
       "    </tr>\n",
       "    <tr>\n",
       "      <th>5</th>\n",
       "      <td>11</td>\n",
       "      <td>Kenneth Joe Brown</td>\n",
       "      <td>2015-01-04</td>\n",
       "      <td>shot</td>\n",
       "      <td>gun</td>\n",
       "      <td>18.0</td>\n",
       "      <td>M</td>\n",
       "      <td>Guthrie</td>\n",
       "      <td>OK</td>\n",
       "      <td>False</td>\n",
       "      <td>attack</td>\n",
       "      <td>Not fleeing</td>\n",
       "      <td>False</td>\n",
       "      <td>True</td>\n",
       "      <td>1</td>\n",
       "    </tr>\n",
       "  </tbody>\n",
       "</table>\n",
       "</div>"
      ],
      "text/plain": [
       "   id               name       date  ... body_camera is_geocoding_exact  month\n",
       "0   3         Tim Elliot 2015-01-02  ...       False               True      1\n",
       "1   4   Lewis Lee Lembke 2015-01-02  ...       False               True      1\n",
       "3   8    Matthew Hoffman 2015-01-04  ...       False               True      1\n",
       "4   9  Michael Rodriguez 2015-01-04  ...       False               True      1\n",
       "5  11  Kenneth Joe Brown 2015-01-04  ...       False               True      1\n",
       "\n",
       "[5 rows x 15 columns]"
      ]
     },
     "execution_count": 276,
     "metadata": {},
     "output_type": "execute_result"
    }
   ],
   "source": [
    "#Shot data\n",
    "shot = cd[cd.manner_of_death == 'shot']\n",
    "shot.head()"
   ]
  },
  {
   "cell_type": "code",
   "execution_count": 277,
   "metadata": {
    "colab": {
     "base_uri": "https://localhost:8080/"
    },
    "id": "pr0Py56xh-b0",
    "outputId": "b50b5ca5-18f8-434b-f9c9-a45b251fcebb"
   },
   "outputs": [
    {
     "data": {
      "text/plain": [
       "(6268, 15)"
      ]
     },
     "execution_count": 277,
     "metadata": {},
     "output_type": "execute_result"
    }
   ],
   "source": [
    "shot.shape"
   ]
  },
  {
   "cell_type": "code",
   "execution_count": 278,
   "metadata": {
    "colab": {
     "base_uri": "https://localhost:8080/"
    },
    "id": "ouaALreIiCxo",
    "outputId": "1ebfdf06-054d-4717-ad07-ebaf8f15ee83"
   },
   "outputs": [
    {
     "data": {
      "text/plain": [
       "state\n",
       "CA    913\n",
       "TX    549\n",
       "FL    408\n",
       "AZ    289\n",
       "CO    230\n",
       "GA    226\n",
       "NC    179\n",
       "OH    179\n",
       "OK    175\n",
       "TN    171\n",
       "WA    168\n",
       "MO    160\n",
       "NM    128\n",
       "IL    123\n",
       "LA    123\n",
       "PA    122\n",
       "AL    116\n",
       "IN    116\n",
       "KY    115\n",
       "NY    110\n",
       "VA    110\n",
       "WI    103\n",
       "NV    102\n",
       "OR    102\n",
       "MI     98\n",
       "SC     97\n",
       "MD     95\n",
       "AR     92\n",
       "MS     83\n",
       "UT     80\n",
       "NJ     77\n",
       "MN     71\n",
       "WV     62\n",
       "KS     58\n",
       "ID     52\n",
       "AK     46\n",
       "MA     42\n",
       "IA     38\n",
       "MT     36\n",
       "HI     32\n",
       "NE     32\n",
       "ME     26\n",
       "DC     20\n",
       "SD     20\n",
       "CT     19\n",
       "NH     18\n",
       "DE     16\n",
       "WY     14\n",
       "ND     13\n",
       "VT     10\n",
       "RI      4\n",
       "dtype: int64"
      ]
     },
     "execution_count": 278,
     "metadata": {},
     "output_type": "execute_result"
    }
   ],
   "source": [
    "shot_state = shot.groupby('state').size().sort_values(ascending = False)\n",
    "shot_state"
   ]
  },
  {
   "cell_type": "code",
   "execution_count": 322,
   "metadata": {
    "colab": {
     "base_uri": "https://localhost:8080/",
     "height": 295
    },
    "id": "ueqYovXKibFT",
    "outputId": "76b1db9f-4415-4540-9594-047fba520891"
   },
   "outputs": [
    {
     "data": {
      "image/png": "[encoded data removed]",
      "text/plain": [
       "<Figure size 432x288 with 1 Axes>"
      ]
     },
     "metadata": {
      "needs_background": "light"
     },
     "output_type": "display_data"
    }
   ],
   "source": [
    "shot_state.sort_values(ascending=False).head(20).sort_values().plot(kind='barh',title='Shot incident state wise',color='g')\n",
    "plt.xlabel(\"Shot deaths state wise\")\n",
    "plt.ylabel(\"State\")\n",
    "plt.show()"
   ]
  },
  {
   "cell_type": "code",
   "execution_count": 281,
   "metadata": {
    "colab": {
     "base_uri": "https://localhost:8080/",
     "height": 298
    },
    "id": "Nl7ccf4K0kex",
    "outputId": "242c9e95-8219-434d-c934-52a8ef7e0461"
   },
   "outputs": [
    {
     "data": {
      "image/png": "[encoded data removed]",
      "text/plain": [
       "<Figure size 432x288 with 1 Axes>"
      ]
     },
     "metadata": {
      "needs_background": "light"
     },
     "output_type": "display_data"
    }
   ],
   "source": [
    "shot.groupby(cd['month']).size().plot(kind = 'bar',title='Shot incident month wise')\n",
    "plt.xlabel(\"Month\")\n",
    "plt.ylabel(\"No of Incidents\")\n",
    "plt.show()"
   ]
  },
  {
   "cell_type": "code",
   "execution_count": 280,
   "metadata": {
    "colab": {
     "base_uri": "https://localhost:8080/",
     "height": 264
    },
    "id": "ng4Cxxe8i3V5",
    "outputId": "46664d9e-a81f-44ef-96dc-c5cffa19011d"
   },
   "outputs": [
    {
     "data": {
      "image/png": "[encoded data removed]",
      "text/plain": [
       "<Figure size 432x288 with 1 Axes>"
      ]
     },
     "metadata": {},
     "output_type": "display_data"
    }
   ],
   "source": [
    "shot.groupby('threat_level').size().plot(kind = 'pie',autopct = '%1.1f%%',label=' Threat level',title='Threat level while shooting')\n",
    "plt.show()"
   ]
  },
  {
   "cell_type": "code",
   "execution_count": 273,
   "metadata": {
    "colab": {
     "base_uri": "https://localhost:8080/",
     "height": 427
    },
    "id": "TeZ6rUt23mBz",
    "outputId": "d0c6db61-4fe6-436e-80d6-7e76d665241a"
   },
   "outputs": [
    {
     "data": {
      "image/png": "[encoded data removed]",
      "text/plain": [
       "<Figure size 1440x504 with 1 Axes>"
      ]
     },
     "metadata": {},
     "output_type": "display_data"
    }
   ],
   "source": [
    "#checking the way the victim was moved from officer\n",
    "plt.figure(figsize=(20,7))\n",
    "st.groupby('flee').size().plot(kind = 'pie',autopct = '%1.1f%%',title='Flee graph',label='')\n",
    "my_circle=plt.Circle( (0,0), 0.7, color='white')\n",
    "p=plt.gcf()\n",
    "p.gca().add_artist(my_circle)\n",
    "plt.show()"
   ]
  },
  {
   "cell_type": "code",
   "execution_count": 282,
   "metadata": {
    "id": "8H8n4Smx1JgO"
   },
   "outputs": [],
   "source": [
    "#getting only year from the colum of date\n",
    "cd['date'] = pd.to_datetime(cd['date'], errors='coerce')\n",
    "cd['year'] = cd['date'].dt.year"
   ]
  },
  {
   "cell_type": "code",
   "execution_count": 299,
   "metadata": {
    "colab": {
     "base_uri": "https://localhost:8080/",
     "height": 295
    },
    "id": "ZcpjMXBZCsVU",
    "outputId": "48d5daa7-461a-4dbb-d168-4714639864b6"
   },
   "outputs": [
    {
     "data": {
      "image/png": "[encoded data removed]",
      "text/plain": [
       "<Figure size 432x288 with 1 Axes>"
      ]
     },
     "metadata": {
      "needs_background": "light"
     },
     "output_type": "display_data"
    }
   ],
   "source": [
    "#representing the deaths according to years\n",
    "death_yr_shot = shot.groupby(cd['year']).size().plot(kind='line',title='Shooting year wise')\n",
    "death_yr_st=st.groupby(cd['year']).size().plot(kind='line',title='Shooting year wise')\n",
    "plt.xlabel(\"Year\")\n",
    "plt.ylabel(\"Deaths\")\n",
    "plt.legend(['Shot','Shot and Tasered'])\n",
    "plt.show(death_yr_shot,death_yr_st)\n"
   ]
  },
  {
   "cell_type": "code",
   "execution_count": 240,
   "metadata": {
    "colab": {
     "base_uri": "https://localhost:8080/",
     "height": 297
    },
    "id": "keWM-d3p7dU7",
    "outputId": "2d786a91-aafd-430f-c2b8-39ef7fd681c7"
   },
   "outputs": [
    {
     "data": {
      "text/plain": [
       "<matplotlib.axes._subplots.AxesSubplot at 0x7f49b8d61810>"
      ]
     },
     "execution_count": 240,
     "metadata": {},
     "output_type": "execute_result"
    },
    {
     "data": {
      "image/png": "[encoded data removed]",
      "text/plain": [
       "<Figure size 432x288 with 1 Axes>"
      ]
     },
     "metadata": {
      "needs_background": "light"
     },
     "output_type": "display_data"
    }
   ],
   "source": [
    "sns.countplot(x='year',data=cd,hue='manner_of_death')"
   ]
  },
  {
   "cell_type": "code",
   "execution_count": 287,
   "metadata": {
    "colab": {
     "base_uri": "https://localhost:8080/"
    },
    "id": "oBODxNtTZIvo",
    "outputId": "3a43ff05-c8c6-4316-de4c-0db095a663fb"
   },
   "outputs": [
    {
     "data": {
      "text/plain": [
       "body_camera\n",
       "False    5688\n",
       "True      911\n",
       "dtype: int64"
      ]
     },
     "execution_count": 287,
     "metadata": {},
     "output_type": "execute_result"
    }
   ],
   "source": [
    "#police were recording with camera while shooting\n",
    "pwc = cd.groupby('body_camera').size().sort_values(ascending=False)"
   ]
  },
  {
   "cell_type": "code",
   "execution_count": 288,
   "metadata": {
    "colab": {
     "base_uri": "https://localhost:8080/",
     "height": 204
    },
    "id": "59pdkSxLsB0D",
    "outputId": "be7fffd6-321e-436e-f580-81709050c913"
   },
   "outputs": [
    {
     "data": {
      "text/html": [
       "<div>\n",
       "<style scoped>\n",
       "    .dataframe tbody tr th:only-of-type {\n",
       "        vertical-align: middle;\n",
       "    }\n",
       "\n",
       "    .dataframe tbody tr th {\n",
       "        vertical-align: top;\n",
       "    }\n",
       "\n",
       "    .dataframe thead th {\n",
       "        text-align: right;\n",
       "    }\n",
       "</style>\n",
       "<table border=\"1\" class=\"dataframe\">\n",
       "  <thead>\n",
       "    <tr style=\"text-align: right;\">\n",
       "      <th></th>\n",
       "      <th>id</th>\n",
       "      <th>name</th>\n",
       "      <th>date</th>\n",
       "      <th>manner_of_death</th>\n",
       "      <th>armed</th>\n",
       "      <th>age</th>\n",
       "      <th>gender</th>\n",
       "      <th>city</th>\n",
       "      <th>state</th>\n",
       "      <th>signs_of_mental_illness</th>\n",
       "      <th>threat_level</th>\n",
       "      <th>flee</th>\n",
       "      <th>body_camera</th>\n",
       "      <th>is_geocoding_exact</th>\n",
       "      <th>month</th>\n",
       "      <th>year</th>\n",
       "    </tr>\n",
       "  </thead>\n",
       "  <tbody>\n",
       "    <tr>\n",
       "      <th>8</th>\n",
       "      <td>16</td>\n",
       "      <td>Autumn Steele</td>\n",
       "      <td>2015-01-06</td>\n",
       "      <td>shot</td>\n",
       "      <td>unarmed</td>\n",
       "      <td>34.0</td>\n",
       "      <td>F</td>\n",
       "      <td>Burlington</td>\n",
       "      <td>IA</td>\n",
       "      <td>False</td>\n",
       "      <td>other</td>\n",
       "      <td>Not fleeing</td>\n",
       "      <td>True</td>\n",
       "      <td>True</td>\n",
       "      <td>1</td>\n",
       "      <td>2015</td>\n",
       "    </tr>\n",
       "    <tr>\n",
       "      <th>14</th>\n",
       "      <td>27</td>\n",
       "      <td>Omarr Julian Maximillian Jackson</td>\n",
       "      <td>2015-01-07</td>\n",
       "      <td>shot</td>\n",
       "      <td>gun</td>\n",
       "      <td>37.0</td>\n",
       "      <td>M</td>\n",
       "      <td>New Orleans</td>\n",
       "      <td>LA</td>\n",
       "      <td>False</td>\n",
       "      <td>attack</td>\n",
       "      <td>Foot</td>\n",
       "      <td>True</td>\n",
       "      <td>True</td>\n",
       "      <td>1</td>\n",
       "      <td>2015</td>\n",
       "    </tr>\n",
       "    <tr>\n",
       "      <th>16</th>\n",
       "      <td>32</td>\n",
       "      <td>James Dudley Barker</td>\n",
       "      <td>2015-01-08</td>\n",
       "      <td>shot</td>\n",
       "      <td>shovel</td>\n",
       "      <td>42.0</td>\n",
       "      <td>M</td>\n",
       "      <td>Salt Lake City</td>\n",
       "      <td>UT</td>\n",
       "      <td>False</td>\n",
       "      <td>attack</td>\n",
       "      <td>Not fleeing</td>\n",
       "      <td>True</td>\n",
       "      <td>True</td>\n",
       "      <td>1</td>\n",
       "      <td>2015</td>\n",
       "    </tr>\n",
       "    <tr>\n",
       "      <th>18</th>\n",
       "      <td>37</td>\n",
       "      <td>Thomas Hamby</td>\n",
       "      <td>2015-01-08</td>\n",
       "      <td>shot</td>\n",
       "      <td>gun</td>\n",
       "      <td>49.0</td>\n",
       "      <td>M</td>\n",
       "      <td>Syracuse</td>\n",
       "      <td>UT</td>\n",
       "      <td>False</td>\n",
       "      <td>attack</td>\n",
       "      <td>Not fleeing</td>\n",
       "      <td>True</td>\n",
       "      <td>True</td>\n",
       "      <td>1</td>\n",
       "      <td>2015</td>\n",
       "    </tr>\n",
       "    <tr>\n",
       "      <th>24</th>\n",
       "      <td>46</td>\n",
       "      <td>John Edward O'Keefe</td>\n",
       "      <td>2015-01-13</td>\n",
       "      <td>shot</td>\n",
       "      <td>gun</td>\n",
       "      <td>34.0</td>\n",
       "      <td>M</td>\n",
       "      <td>Albuquerque</td>\n",
       "      <td>NM</td>\n",
       "      <td>False</td>\n",
       "      <td>attack</td>\n",
       "      <td>Foot</td>\n",
       "      <td>True</td>\n",
       "      <td>True</td>\n",
       "      <td>1</td>\n",
       "      <td>2015</td>\n",
       "    </tr>\n",
       "  </tbody>\n",
       "</table>\n",
       "</div>"
      ],
      "text/plain": [
       "    id                              name  ... month  year\n",
       "8   16                     Autumn Steele  ...     1  2015\n",
       "14  27  Omarr Julian Maximillian Jackson  ...     1  2015\n",
       "16  32               James Dudley Barker  ...     1  2015\n",
       "18  37                      Thomas Hamby  ...     1  2015\n",
       "24  46               John Edward O'Keefe  ...     1  2015\n",
       "\n",
       "[5 rows x 16 columns]"
      ]
     },
     "execution_count": 288,
     "metadata": {},
     "output_type": "execute_result"
    }
   ],
   "source": [
    "pwc_yes = cd[cd.body_camera == True]\n",
    "pwc_yes.head()"
   ]
  },
  {
   "cell_type": "code",
   "execution_count": 289,
   "metadata": {
    "colab": {
     "base_uri": "https://localhost:8080/",
     "height": 298
    },
    "id": "-TVnhDotnSRN",
    "outputId": "ac08d40e-bb30-457c-f51a-d23b0a5c4721"
   },
   "outputs": [
    {
     "data": {
      "image/png": "[encoded data removed]",
      "text/plain": [
       "<Figure size 432x288 with 1 Axes>"
      ]
     },
     "metadata": {
      "needs_background": "light"
     },
     "output_type": "display_data"
    }
   ],
   "source": [
    "pwc_yes.groupby(cd['gender']).size().sort_values().plot(kind='bar',title='Death recorded while shooting respect to gender')\n",
    "plt.xticks(rotation=50)\n",
    "plt.xlabel(\"Gender\")\n",
    "plt.ylabel(\"Number of deaths\")\n",
    "plt.show()"
   ]
  },
  {
   "cell_type": "markdown",
   "metadata": {
    "id": "tZ72c-rTYrUw"
   },
   "source": [
    "## *Insights*\n",
    "- The data shows how many people were death gender based.\n",
    "- Showing the type of attack by police. \n",
    "- Types of weapons used for shooting.\n",
    "- Reprsenting data with respect to the type of attacks.\n",
    "- Presenting the attacks State wise. \n",
    "- Pie graph of threat level with respect to the shot attack.\n",
    "- Checking whether the victim was moved from the officer after the attack.\n",
    "- To know how many deaths were happened according to the years.\n",
    "- While attacking, if the death was recorded or not."
   ]
  }
 ],
 "metadata": {
  "colab": {
   "collapsed_sections": [
    "h6D50BT0OVs2",
    "tZ72c-rTYrUw"
   ],
   "name": "Untitled11.ipynb",
   "provenance": []
  },
  "kernelspec": {
   "display_name": "Python 3",
   "language": "python",
   "name": "python3"
  },
  "language_info": {
   "codemirror_mode": {
    "name": "ipython",
    "version": 3
   },
   "file_extension": ".py",
   "mimetype": "text/x-python",
   "name": "python",
   "nbconvert_exporter": "python",
   "pygments_lexer": "ipython3",
   "version": "3.6.4"
  }
 },
 "nbformat": 4,
 "nbformat_minor": 1
}
