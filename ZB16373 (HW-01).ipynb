{
 "cells": [
  {
   "cell_type": "markdown",
   "metadata": {
    "id": "hl3pVnDDs6Se"
   },
   "source": [
    "# Rules\n",
    "\n",
    "- We will grade only the answer cells, so make sure that you type your answer inside of the answer cell. \n",
    "\n",
    "- Make sure that your code is working when you restart the kernel. Notebooks are great tools for exploration but we should be very careful as we are writing codes. For more, please check: [Why notebooks suck](https://towardsdatascience.com/5-reasons-why-jupyter-notebooks-suck-4dc201e27086)\n",
    "\n",
    "- Make sure that your results are in the correct format. If we ask you to return a list, your answer should be in a list format. If the question asks you to return a scalar (float, int, etc.) then make sure that your answer is in the correct format.\n",
    "\n",
    "## Homework\n",
    "\n",
    "1. Correct the formatting of markdown cells\n",
    "    * Use appropriate headers\n",
    "1. Finish the coding sections."
   ]
  },
  {
   "cell_type": "markdown",
   "metadata": {
    "id": "Tur9zoV6qB4I"
   },
   "source": [
    "Question-1\n",
    "\n",
    "Write a Python function to return a **list** of all the numbers from 1 to n which are divisible by 5. `n` will be given as an argument to your function.\n"
   ]
  },
  {
   "cell_type": "code",
   "execution_count": 1,
   "metadata": {
    "id": "bBH79NeVs1m1"
   },
   "outputs": [
    {
     "data": {
      "text/plain": [
       "[5,\n",
       " 10,\n",
       " 15,\n",
       " 20,\n",
       " 25,\n",
       " 30,\n",
       " 35,\n",
       " 40,\n",
       " 45,\n",
       " 50,\n",
       " 55,\n",
       " 60,\n",
       " 65,\n",
       " 70,\n",
       " 75,\n",
       " 80,\n",
       " 85,\n",
       " 90,\n",
       " 95,\n",
       " 100,\n",
       " 105,\n",
       " 110,\n",
       " 115,\n",
       " 120]"
      ]
     },
     "execution_count": 1,
     "metadata": {},
     "output_type": "execute_result"
    }
   ],
   "source": [
    "# Your Answer Cell\n",
    "# you can edit the function below. \n",
    "# Don't change function name and parameter names.\n",
    "# you can define new variables inside of the function.\n",
    "\n",
    "def divisible_five(given_number):\n",
    "    \n",
    "    my_list = []\n",
    "    n=given_number\n",
    "    for i in range(1,n):\n",
    "        if i%5==0:\n",
    "            my_list.append(i)\n",
    "          \n",
    "            \n",
    "    return my_list\n",
    "    \n",
    "    \n",
    "divisible_five(121)\n"
   ]
  },
  {
   "cell_type": "code",
   "execution_count": null,
   "metadata": {
    "id": "rmYpunGwp-bq"
   },
   "outputs": [],
   "source": [
    "# Your Answer Cell\n",
    "# you can edit the function below. \n",
    "# Don't change function name and parameter names.\n",
    "# you can define new variables inside of the function.\n",
    "\n",
    "def my_function(given_number):\n",
    "    n=given_number\n",
    "    s=0\n",
    "    for i in range(0,n):\n",
    "        if i%3==0 or i%7==0:\n",
    "            s=s+i \n",
    "\n",
    "    return s\n",
    "\n",
    "\n",
    "## your answer above\n",
    "\n",
    "my_function(10000)"
   ]
  },
  {
   "cell_type": "markdown",
   "metadata": {
    "id": "inGr4AOovJhj"
   },
   "source": [
    "Question-3 (Shell & Magic Commands)\n"
   ]
  },
  {
   "cell_type": "markdown",
   "metadata": {
    "id": "54izIMcAwgud"
   },
   "source": [
    "Question-3-a\n",
    "\n",
    "Below print current working directory."
   ]
  },
  {
   "cell_type": "code",
   "execution_count": 33,
   "metadata": {
    "id": "0O27azQfvZjv"
   },
   "outputs": [
    {
     "data": {
      "text/plain": [
       "'C:\\\\Users\\\\Manisha'"
      ]
     },
     "execution_count": 33,
     "metadata": {},
     "output_type": "execute_result"
    }
   ],
   "source": [
    "## Answer Cell \n",
    "\n",
    "\n",
    "%pwd"
   ]
  },
  {
   "cell_type": "markdown",
   "metadata": {
    "id": "lDzXCiGnvbMO"
   },
   "source": [
    "Question-3-b\n",
    "\n",
    "Below list all the files and folders in the current working directory."
   ]
  },
  {
   "cell_type": "code",
   "execution_count": 36,
   "metadata": {
    "id": "SHnZDzFZwUeB"
   },
   "outputs": [
    {
     "data": {
      "text/plain": [
       "['.anaconda',\n",
       " '.android',\n",
       " '.AndroidStudio3.2',\n",
       " '.conda',\n",
       " '.condarc',\n",
       " '.gradle',\n",
       " '.idlerc',\n",
       " '.ipynb_checkpoints',\n",
       " '.ipython',\n",
       " '.jupyter',\n",
       " '.matplotlib',\n",
       " '.nbi',\n",
       " '.netbeans-derby',\n",
       " '.oracle_jre_usage',\n",
       " '.packettracer',\n",
       " '.spss',\n",
       " '.spyder-py3',\n",
       " '03_Practice+Exercise+1.ipynb',\n",
       " '07_Practice+Exercise+2.ipynb',\n",
       " '3D Objects',\n",
       " 'Anaconda3',\n",
       " 'AndroidStudioProjects',\n",
       " 'AppData',\n",
       " 'Application Data',\n",
       " 'Book1.csv',\n",
       " 'chart and last work.ipynb',\n",
       " 'CLASS.ipynb',\n",
       " 'Contacts',\n",
       " 'Cookies',\n",
       " 'DATABASE.ipynb',\n",
       " 'Desktop',\n",
       " 'Dictionaries.ipynb',\n",
       " 'Documents',\n",
       " 'Downloads',\n",
       " 'Dropbox',\n",
       " 'Favorites',\n",
       " 'file handling.ipynb',\n",
       " 'for loop.ipynb',\n",
       " 'Functions.ipynb',\n",
       " 'GUI notes.ipynb',\n",
       " 'GUI.ipynb',\n",
       " 'HW-01.ipynb',\n",
       " 'IBA_IOAPDATA',\n",
       " 'IntelGraphicsProfiles',\n",
       " 'Links',\n",
       " 'LIST.ipynb',\n",
       " 'Local Settings',\n",
       " 'matplotlib  new.ipynb',\n",
       " 'matplotlib.ipynb',\n",
       " 'MicrosoftEdgeBackups',\n",
       " 'ML_hotel_booking_Prediction_deploy.ipynb',\n",
       " 'Music',\n",
       " 'My Documents',\n",
       " 'myfile.txt',\n",
       " 'NetHood',\n",
       " 'NTUSER.DAT',\n",
       " 'ntuser.dat.LOG1',\n",
       " 'ntuser.dat.LOG2',\n",
       " 'NTUSER.DAT{d4a79d95-064b-11eb-a0dd-005056c00008}.TM.blf',\n",
       " 'NTUSER.DAT{d4a79d95-064b-11eb-a0dd-005056c00008}.TMContainer00000000000000000001.regtrans-ms',\n",
       " 'NTUSER.DAT{d4a79d95-064b-11eb-a0dd-005056c00008}.TMContainer00000000000000000002.regtrans-ms',\n",
       " 'ntuser.ini',\n",
       " 'numpy notes.ipynb',\n",
       " 'numpy.ipynb',\n",
       " 'OneDrive',\n",
       " 'pandas notes.ipynb',\n",
       " 'pandas.ipynb',\n",
       " 'Pandas2.ipynb',\n",
       " 'Pandasreturns.ipynb',\n",
       " 'Pictures',\n",
       " 'pizza.sqlite3',\n",
       " 'Practice+Exercise+-+2+(Part+1)+(1)+(1).ipynb',\n",
       " 'Practice+Exercise+1+IPL.ipynb',\n",
       " 'Practice+Exercise+1.ipynb',\n",
       " 'Practice+Exercise+2+Movies.ipynb',\n",
       " 'PrintHood',\n",
       " 'pro.ipynb',\n",
       " 'Python+Exercise+-+2+Part+(2).ipynb',\n",
       " 'Recent',\n",
       " 'Saved Games',\n",
       " 'Searches',\n",
       " 'SendTo',\n",
       " 'SET.ipynb',\n",
       " 'Sol3. DecisionTrees.ipynb',\n",
       " 'Start Menu',\n",
       " 'Strings.ipynb',\n",
       " 'Templates',\n",
       " 'test.db',\n",
       " 'Tuple.ipynb',\n",
       " 'Untitled.ipynb',\n",
       " 'untitled.txt',\n",
       " 'Untitled1.ipynb',\n",
       " 'Untitled10.ipynb',\n",
       " 'Untitled11.ipynb',\n",
       " 'Untitled2.ipynb',\n",
       " 'Untitled3.ipynb',\n",
       " 'Untitled4.ipynb',\n",
       " 'Untitled5.ipynb',\n",
       " 'Untitled6.ipynb',\n",
       " 'Untitled7.ipynb',\n",
       " 'Untitled8.ipynb',\n",
       " 'Untitled9.ipynb',\n",
       " 'Videos',\n",
       " 'workspace']"
      ]
     },
     "execution_count": 36,
     "metadata": {},
     "output_type": "execute_result"
    }
   ],
   "source": [
    "## Answer Cell\n",
    "import os\n",
    "os.listdir()"
   ]
  },
  {
   "cell_type": "markdown",
   "metadata": {
    "id": "PT3fPRc3wWh1"
   },
   "source": [
    "Question 3-c\n",
    "\n",
    "Create a new directory within the current working directory 'data'"
   ]
  },
  {
   "cell_type": "code",
   "execution_count": 46,
   "metadata": {
    "id": "cvhzEyZNwXdn"
   },
   "outputs": [
    {
     "name": "stderr",
     "output_type": "stream",
     "text": [
      "A subdirectory or file data already exists.\n"
     ]
    },
    {
     "data": {
      "text/plain": [
       "'C:\\\\Users\\\\Manisha'"
      ]
     },
     "execution_count": 46,
     "metadata": {},
     "output_type": "execute_result"
    }
   ],
   "source": [
    "## Answer Cell\n",
    "!mkdir data"
   ]
  },
  {
   "cell_type": "markdown",
   "metadata": {
    "id": "bKn3RzJgwYnc"
   },
   "source": [
    "Question-3-d\n",
    "\n",
    "Change the working directory to 'data'\n",
    "print current working directory again to make sure that your answer is correct."
   ]
  },
  {
   "cell_type": "code",
   "execution_count": 53,
   "metadata": {
    "id": "TnhNhVO3wZsl"
   },
   "outputs": [
    {
     "name": "stdout",
     "output_type": "stream",
     "text": [
      "C:\\Users\\Manisha\\data\n"
     ]
    },
    {
     "data": {
      "text/plain": [
       "'C:\\\\Users\\\\Manisha\\\\data'"
      ]
     },
     "execution_count": 53,
     "metadata": {},
     "output_type": "execute_result"
    }
   ],
   "source": [
    "## Answer Cell\n",
    "\n",
    "%cd  data\n",
    "%pwd"
   ]
  },
  {
   "cell_type": "markdown",
   "metadata": {
    "id": "2DYjo1LqyjcW"
   },
   "source": [
    "Question-3-e\n",
    "\n",
    "Create a new file under 'content/my_directory' and name it 'my_script.py'"
   ]
  },
  {
   "cell_type": "code",
   "execution_count": 82,
   "metadata": {
    "id": "khNRtjC6yzCf"
   },
   "outputs": [
    {
     "name": "stderr",
     "output_type": "stream",
     "text": [
      "A subdirectory or file content already exists.\n"
     ]
    }
   ],
   "source": [
    "## Answer Cell\n",
    "!mkdir content\n",
    "\n",
    "%notebook my_script.py"
   ]
  },
  {
   "cell_type": "markdown",
   "metadata": {
    "id": "OZPKFtqX1Wev"
   },
   "source": [
    "Question-3-f\n",
    "\n",
    "Create 'my_script.py' so that it prints 'Your First Name-Your Last Name' and run this scripy in the cell below."
   ]
  },
  {
   "cell_type": "code",
   "execution_count": 1,
   "metadata": {
    "id": "n7i7G_YE1qi0"
   },
   "outputs": [
    {
     "name": "stdout",
     "output_type": "stream",
     "text": [
      "Manisha Basavanna\n"
     ]
    }
   ],
   "source": [
    "## Answer Cell\n",
    "f=open(\"my_script.py\", \"a\")\n",
    "f.write(\"Manisha Basavanna\")\n",
    "f.close()\n",
    "\n",
    "f=open(\"my_script.py\", \"r\")\n",
    "print(f.read())"
   ]
  },
  {
   "cell_type": "markdown",
   "metadata": {},
   "source": [
    "Question-4\n",
    "\n",
    "Commit & push to your repo"
   ]
  },
  {
   "cell_type": "code",
   "execution_count": null,
   "metadata": {},
   "outputs": [],
   "source": [
    "## Answer Cell"
   ]
  }
 ],
 "metadata": {
  "colab": {
   "collapsed_sections": [],
   "name": "HW-1.ipynb",
   "provenance": []
  },
  "kernelspec": {
   "display_name": "Python 3",
   "language": "python",
   "name": "python3"
  },
  "language_info": {
   "codemirror_mode": {
    "name": "ipython",
    "version": 3
   },
   "file_extension": ".py",
   "mimetype": "text/x-python",
   "name": "python",
   "nbconvert_exporter": "python",
   "pygments_lexer": "ipython3",
   "version": "3.6.4"
  },
  "toc": {
   "base_numbering": 1,
   "nav_menu": {},
   "number_sections": false,
   "sideBar": true,
   "skip_h1_title": false,
   "title_cell": "Table of Contents",
   "title_sidebar": "Contents",
   "toc_cell": false,
   "toc_position": {},
   "toc_section_display": true,
   "toc_window_display": true
  }
 },
 "nbformat": 4,
 "nbformat_minor": 1
}
