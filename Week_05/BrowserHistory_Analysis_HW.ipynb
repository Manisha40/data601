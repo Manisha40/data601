{
 "cells": [
  {
   "cell_type": "code",
   "execution_count": 1,
   "metadata": {
    "id": "fvLfYK3IBzGe"
   },
   "outputs": [],
   "source": [
    "import pandas as pd\n",
    "import os\n",
    "import matplotlib\n",
    "import matplotlib.pyplot as plt"
   ]
  },
  {
   "cell_type": "code",
   "execution_count": 2,
   "metadata": {
    "colab": {
     "base_uri": "https://localhost:8080/"
    },
    "id": "L2PvAK01CrwA",
    "outputId": "db3534c6-f476-4a00-d70d-101dd4b444b2"
   },
   "outputs": [
    {
     "data": {
      "text/plain": [
       "(4778, 2)"
      ]
     },
     "execution_count": 2,
     "metadata": {},
     "output_type": "execute_result"
    }
   ],
   "source": [
    "df = pd.read_csv('history_cleaned.csv')\n",
    "df.shape"
   ]
  },
  {
   "cell_type": "code",
   "execution_count": 3,
   "metadata": {
    "colab": {
     "base_uri": "https://localhost:8080/",
     "height": 206
    },
    "id": "C6VNN5FhCtbm",
    "outputId": "917dba52-7748-4686-ca61-ad1273a93e83"
   },
   "outputs": [
    {
     "data": {
      "text/html": [
       "<div>\n",
       "<style scoped>\n",
       "    .dataframe tbody tr th:only-of-type {\n",
       "        vertical-align: middle;\n",
       "    }\n",
       "\n",
       "    .dataframe tbody tr th {\n",
       "        vertical-align: top;\n",
       "    }\n",
       "\n",
       "    .dataframe thead th {\n",
       "        text-align: right;\n",
       "    }\n",
       "</style>\n",
       "<table border=\"1\" class=\"dataframe\">\n",
       "  <thead>\n",
       "    <tr style=\"text-align: right;\">\n",
       "      <th></th>\n",
       "      <th>Time</th>\n",
       "      <th>domain</th>\n",
       "    </tr>\n",
       "  </thead>\n",
       "  <tbody>\n",
       "    <tr>\n",
       "      <th>0</th>\n",
       "      <td>2021-10-04 20:37:42</td>\n",
       "      <td>www.youtube.com</td>\n",
       "    </tr>\n",
       "    <tr>\n",
       "      <th>1</th>\n",
       "      <td>2021-10-04 20:26:53</td>\n",
       "      <td>www.youtube.com</td>\n",
       "    </tr>\n",
       "    <tr>\n",
       "      <th>2</th>\n",
       "      <td>2021-10-04 20:26:53</td>\n",
       "      <td>www.youtube.com</td>\n",
       "    </tr>\n",
       "    <tr>\n",
       "      <th>3</th>\n",
       "      <td>2021-10-04 20:25:51</td>\n",
       "      <td>www.google.com</td>\n",
       "    </tr>\n",
       "    <tr>\n",
       "      <th>4</th>\n",
       "      <td>2021-10-04 20:25:48</td>\n",
       "      <td>www.zawya.com</td>\n",
       "    </tr>\n",
       "  </tbody>\n",
       "</table>\n",
       "</div>"
      ],
      "text/plain": [
       "                  Time           domain\n",
       "0  2021-10-04 20:37:42  www.youtube.com\n",
       "1  2021-10-04 20:26:53  www.youtube.com\n",
       "2  2021-10-04 20:26:53  www.youtube.com\n",
       "3  2021-10-04 20:25:51   www.google.com\n",
       "4  2021-10-04 20:25:48    www.zawya.com"
      ]
     },
     "execution_count": 3,
     "metadata": {},
     "output_type": "execute_result"
    }
   ],
   "source": [
    "df.head()"
   ]
  },
  {
   "cell_type": "code",
   "execution_count": 4,
   "metadata": {
    "colab": {
     "base_uri": "https://localhost:8080/",
     "height": 206
    },
    "id": "Ja6wzMJJCx2z",
    "outputId": "e02a2e55-045b-468d-c3d6-1efe60359af7"
   },
   "outputs": [
    {
     "data": {
      "text/html": [
       "<div>\n",
       "<style scoped>\n",
       "    .dataframe tbody tr th:only-of-type {\n",
       "        vertical-align: middle;\n",
       "    }\n",
       "\n",
       "    .dataframe tbody tr th {\n",
       "        vertical-align: top;\n",
       "    }\n",
       "\n",
       "    .dataframe thead th {\n",
       "        text-align: right;\n",
       "    }\n",
       "</style>\n",
       "<table border=\"1\" class=\"dataframe\">\n",
       "  <thead>\n",
       "    <tr style=\"text-align: right;\">\n",
       "      <th></th>\n",
       "      <th>Time</th>\n",
       "      <th>domain</th>\n",
       "    </tr>\n",
       "  </thead>\n",
       "  <tbody>\n",
       "    <tr>\n",
       "      <th>4773</th>\n",
       "      <td>1600-12-31 19:00:00</td>\n",
       "      <td>www.cs.ucr.edu</td>\n",
       "    </tr>\n",
       "    <tr>\n",
       "      <th>4774</th>\n",
       "      <td>1600-12-31 19:00:00</td>\n",
       "      <td>drive.google.com</td>\n",
       "    </tr>\n",
       "    <tr>\n",
       "      <th>4775</th>\n",
       "      <td>1600-12-31 19:00:00</td>\n",
       "      <td>wiki.umbc.edu</td>\n",
       "    </tr>\n",
       "    <tr>\n",
       "      <th>4776</th>\n",
       "      <td>1600-12-31 19:00:00</td>\n",
       "      <td>uhs.umbc.edu</td>\n",
       "    </tr>\n",
       "    <tr>\n",
       "      <th>4777</th>\n",
       "      <td>1600-12-31 19:00:00</td>\n",
       "      <td>www.profellow.com</td>\n",
       "    </tr>\n",
       "  </tbody>\n",
       "</table>\n",
       "</div>"
      ],
      "text/plain": [
       "                     Time             domain\n",
       "4773  1600-12-31 19:00:00     www.cs.ucr.edu\n",
       "4774  1600-12-31 19:00:00   drive.google.com\n",
       "4775  1600-12-31 19:00:00      wiki.umbc.edu\n",
       "4776  1600-12-31 19:00:00       uhs.umbc.edu\n",
       "4777  1600-12-31 19:00:00  www.profellow.com"
      ]
     },
     "execution_count": 4,
     "metadata": {},
     "output_type": "execute_result"
    }
   ],
   "source": [
    "df.tail()"
   ]
  },
  {
   "cell_type": "code",
   "execution_count": 5,
   "metadata": {
    "colab": {
     "base_uri": "https://localhost:8080/"
    },
    "id": "sxuydflJC0j8",
    "outputId": "acbe19f8-2071-450a-8530-caa3e6399590"
   },
   "outputs": [
    {
     "data": {
      "text/plain": [
       "Time      object\n",
       "domain    object\n",
       "dtype: object"
      ]
     },
     "execution_count": 5,
     "metadata": {},
     "output_type": "execute_result"
    }
   ],
   "source": [
    "df.dtypes"
   ]
  },
  {
   "cell_type": "code",
   "execution_count": 6,
   "metadata": {
    "colab": {
     "base_uri": "https://localhost:8080/"
    },
    "id": "usYOBmulC2J3",
    "outputId": "7535c12c-c606-4151-955c-58279ca8c245"
   },
   "outputs": [
    {
     "data": {
      "text/plain": [
       "52"
      ]
     },
     "execution_count": 6,
     "metadata": {},
     "output_type": "execute_result"
    }
   ],
   "source": [
    "# time column is string and string date is starting with YYYY, so I can do string compares\n",
    "sum(df['Time'] < '1900') "
   ]
  },
  {
   "cell_type": "code",
   "execution_count": 7,
   "metadata": {
    "id": "JDSXzkBhC4N9"
   },
   "outputs": [],
   "source": [
    "# I filter and get a copy, so I will not work on a slice, this will be a new dataframe. (essentially losing 1900 data points)\n",
    "df = df[df.Time > '1900'].copy() "
   ]
  },
  {
   "cell_type": "code",
   "execution_count": 8,
   "metadata": {
    "id": "i5FL5fdUC52T"
   },
   "outputs": [],
   "source": [
    "df['Time'] = pd.to_datetime(df['Time'])"
   ]
  },
  {
   "cell_type": "code",
   "execution_count": 9,
   "metadata": {
    "colab": {
     "base_uri": "https://localhost:8080/"
    },
    "id": "lzbgoy7qC7Wh",
    "outputId": "0fb25911-92d5-45ef-e79a-8b63457ee531"
   },
   "outputs": [
    {
     "data": {
      "text/plain": [
       "www.google.com                      744\n",
       "colab.research.google.com           396\n",
       "blackboard.umbc.edu                 360\n",
       "github.com                          321\n",
       "www.youtube.com                     185\n",
       "webauth.umbc.edu                    182\n",
       "mail.google.com                     140\n",
       "www.fila.com                        100\n",
       "www.instagram.com                    89\n",
       "umbc.coursearc.com                   81\n",
       "localhost:8888                       68\n",
       "ereg.ets.org                         64\n",
       "docs.google.com                      63\n",
       "jigsaw.vitalsource.com               59\n",
       "bookshelf.vitalsource.com            59\n",
       "stackoverflow.com                    55\n",
       "dramacool.fm                         40\n",
       "www.viki.com                         38\n",
       "my3.my.umbc.edu                      38\n",
       "cgifederal.secure.force.com          38\n",
       "umbc-csm.symplicity.com              36\n",
       "my.umbc.edu                          32\n",
       "www.qatarairways.com                 32\n",
       "myretrievercare.umbc.edu             29\n",
       "app.grammarly.com                    28\n",
       "userpages.umbc.edu                   27\n",
       "umbc.webex.com                       27\n",
       "accounts.google.com                  26\n",
       "www.geeksforgeeks.org                24\n",
       "umbcstudents-md.safecolleges.com     23\n",
       "www.ilovepdf.com                     22\n",
       "www.walmart.com                      22\n",
       "www.coursehero.com                   21\n",
       "highpoint-prd.ps.umbc.edu            20\n",
       "www.manhattanprep.com                20\n",
       "www.loom.com                         18\n",
       "www.scribbr.com                      17\n",
       "zoom.us                              17\n",
       "csprd-web.ps.umbc.edu                16\n",
       "www.umbc.edu                         16\n",
       "tookawie.com                         16\n",
       "sbs.umbc.edu                         16\n",
       "hangouts.google.com                  15\n",
       "drive.google.com                     15\n",
       "www.amazon.com                       15\n",
       "alt-5954eb74c7df4.blackboard.com     14\n",
       "booking.qatarairways.com             14\n",
       "us02web.zoom.us                      14\n",
       "www.codegrepper.com                  13\n",
       "financialaid.umbc.edu                13\n",
       "Name: domain, dtype: int64"
      ]
     },
     "execution_count": 9,
     "metadata": {},
     "output_type": "execute_result"
    }
   ],
   "source": [
    "df['domain'].value_counts()[:50]"
   ]
  },
  {
   "cell_type": "code",
   "execution_count": 11,
   "metadata": {
    "colab": {
     "base_uri": "https://localhost:8080/",
     "height": 408
    },
    "id": "oULhz4yZC8xi",
    "outputId": "fa48e5ee-d6e9-479e-9a49-4551b8be49fa"
   },
   "outputs": [
    {
     "data": {
      "text/plain": [
       "<matplotlib.axes._subplots.AxesSubplot at 0x7f0adbfcbe10>"
      ]
     },
     "execution_count": 11,
     "metadata": {},
     "output_type": "execute_result"
    },
    {
     "data": {
      "image/png": "[encoded data removed]",
      "text/plain": [
       "<Figure size 432x288 with 1 Axes>"
      ]
     },
     "metadata": {
      "needs_background": "light"
     },
     "output_type": "display_data"
    }
   ],
   "source": [
    "# top 10 sites that I visisted\n",
    "df['domain'].value_counts()[:10].plot(kind='bar')"
   ]
  },
  {
   "cell_type": "code",
   "execution_count": 12,
   "metadata": {
    "colab": {
     "base_uri": "https://localhost:8080/"
    },
    "id": "Byfd4OhTC_DO",
    "outputId": "334c9c8b-815d-445b-a7a6-a0264bb8d726"
   },
   "outputs": [
    {
     "data": {
      "text/plain": [
       "Time\n",
       "0     164\n",
       "1     256\n",
       "2     133\n",
       "3     120\n",
       "4      89\n",
       "5     232\n",
       "6     185\n",
       "7      92\n",
       "8      98\n",
       "9     206\n",
       "10    197\n",
       "11    234\n",
       "12    343\n",
       "13    150\n",
       "14    217\n",
       "15    190\n",
       "16    218\n",
       "17    206\n",
       "18    258\n",
       "19    342\n",
       "20    374\n",
       "21    310\n",
       "22     77\n",
       "23     35\n",
       "Name: domain, dtype: int64"
      ]
     },
     "execution_count": 12,
     "metadata": {},
     "output_type": "execute_result"
    }
   ],
   "source": [
    "hourly_counts = df.groupby(df.Time.dt.hour).domain.size()\n",
    "hourly_counts"
   ]
  },
  {
   "cell_type": "code",
   "execution_count": 13,
   "metadata": {
    "colab": {
     "base_uri": "https://localhost:8080/",
     "height": 300
    },
    "id": "CxE6oJjuDC7l",
    "outputId": "3266915f-8bd3-41dc-f505-f19b797739ac"
   },
   "outputs": [
    {
     "data": {
      "text/plain": [
       "<matplotlib.axes._subplots.AxesSubplot at 0x7f0adbb193d0>"
      ]
     },
     "execution_count": 13,
     "metadata": {},
     "output_type": "execute_result"
    },
    {
     "data": {
      "image/png": "[encoded data removed]",
      "text/plain": [
       "<Figure size 432x288 with 1 Axes>"
      ]
     },
     "metadata": {
      "needs_background": "light"
     },
     "output_type": "display_data"
    }
   ],
   "source": [
    "hourly_counts.plot.bar()"
   ]
  },
  {
   "cell_type": "code",
   "execution_count": 14,
   "metadata": {
    "colab": {
     "base_uri": "https://localhost:8080/",
     "height": 206
    },
    "id": "FkZyjWYfDFtu",
    "outputId": "287bad09-43ae-411b-d6b3-6fcc11abb698"
   },
   "outputs": [
    {
     "data": {
      "text/html": [
       "<div>\n",
       "<style scoped>\n",
       "    .dataframe tbody tr th:only-of-type {\n",
       "        vertical-align: middle;\n",
       "    }\n",
       "\n",
       "    .dataframe tbody tr th {\n",
       "        vertical-align: top;\n",
       "    }\n",
       "\n",
       "    .dataframe thead th {\n",
       "        text-align: right;\n",
       "    }\n",
       "</style>\n",
       "<table border=\"1\" class=\"dataframe\">\n",
       "  <thead>\n",
       "    <tr style=\"text-align: right;\">\n",
       "      <th></th>\n",
       "      <th>Time</th>\n",
       "      <th>domain</th>\n",
       "      <th>Day</th>\n",
       "      <th>DayIndex</th>\n",
       "    </tr>\n",
       "  </thead>\n",
       "  <tbody>\n",
       "    <tr>\n",
       "      <th>0</th>\n",
       "      <td>2021-10-04 20:37:42</td>\n",
       "      <td>www.youtube.com</td>\n",
       "      <td>Monday</td>\n",
       "      <td>0</td>\n",
       "    </tr>\n",
       "    <tr>\n",
       "      <th>1</th>\n",
       "      <td>2021-10-04 20:26:53</td>\n",
       "      <td>www.youtube.com</td>\n",
       "      <td>Monday</td>\n",
       "      <td>0</td>\n",
       "    </tr>\n",
       "    <tr>\n",
       "      <th>2</th>\n",
       "      <td>2021-10-04 20:26:53</td>\n",
       "      <td>www.youtube.com</td>\n",
       "      <td>Monday</td>\n",
       "      <td>0</td>\n",
       "    </tr>\n",
       "    <tr>\n",
       "      <th>3</th>\n",
       "      <td>2021-10-04 20:25:51</td>\n",
       "      <td>www.google.com</td>\n",
       "      <td>Monday</td>\n",
       "      <td>0</td>\n",
       "    </tr>\n",
       "    <tr>\n",
       "      <th>4</th>\n",
       "      <td>2021-10-04 20:25:48</td>\n",
       "      <td>www.zawya.com</td>\n",
       "      <td>Monday</td>\n",
       "      <td>0</td>\n",
       "    </tr>\n",
       "  </tbody>\n",
       "</table>\n",
       "</div>"
      ],
      "text/plain": [
       "                 Time           domain     Day  DayIndex\n",
       "0 2021-10-04 20:37:42  www.youtube.com  Monday         0\n",
       "1 2021-10-04 20:26:53  www.youtube.com  Monday         0\n",
       "2 2021-10-04 20:26:53  www.youtube.com  Monday         0\n",
       "3 2021-10-04 20:25:51   www.google.com  Monday         0\n",
       "4 2021-10-04 20:25:48    www.zawya.com  Monday         0"
      ]
     },
     "execution_count": 14,
     "metadata": {},
     "output_type": "execute_result"
    }
   ],
   "source": [
    "df['Day'] = [ d.day_name() for d in df['Time']]\n",
    "df['DayIndex'] = [ d.dayofweek for d in df['Time']]\n",
    "df.head()"
   ]
  },
  {
   "cell_type": "code",
   "execution_count": 15,
   "metadata": {
    "colab": {
     "base_uri": "https://localhost:8080/"
    },
    "id": "m89eCtl_DHfg",
    "outputId": "ed8e87ca-fd71-49f3-a051-bb646427b0d5"
   },
   "outputs": [
    {
     "data": {
      "text/plain": [
       "Tuesday      849\n",
       "Monday       842\n",
       "Wednesday    718\n",
       "Saturday     669\n",
       "Thursday     657\n",
       "Sunday       652\n",
       "Friday       339\n",
       "Name: Day, dtype: int64"
      ]
     },
     "execution_count": 15,
     "metadata": {},
     "output_type": "execute_result"
    }
   ],
   "source": [
    "df['Day'].value_counts()"
   ]
  },
  {
   "cell_type": "code",
   "execution_count": 16,
   "metadata": {
    "colab": {
     "base_uri": "https://localhost:8080/"
    },
    "id": "kqa83h_IDLL-",
    "outputId": "2de37071-53ab-43a3-bd41-f2bc9125dd32"
   },
   "outputs": [
    {
     "data": {
      "text/plain": [
       "0    842\n",
       "1    849\n",
       "2    718\n",
       "3    657\n",
       "4    339\n",
       "5    669\n",
       "6    652\n",
       "Name: DayIndex, dtype: int64"
      ]
     },
     "execution_count": 16,
     "metadata": {},
     "output_type": "execute_result"
    }
   ],
   "source": [
    "days_sorted = df['DayIndex'].value_counts().sort_index()\n",
    "days_sorted"
   ]
  },
  {
   "cell_type": "code",
   "execution_count": 17,
   "metadata": {
    "colab": {
     "base_uri": "https://localhost:8080/",
     "height": 265
    },
    "id": "dkxeMz-lDQOt",
    "outputId": "158dc10e-635d-43b1-8b96-0a66df76c554"
   },
   "outputs": [
    {
     "data": {
      "image/png": "[encoded data removed]",
      "text/plain": [
       "<Figure size 432x288 with 1 Axes>"
      ]
     },
     "metadata": {
      "needs_background": "light"
     },
     "output_type": "display_data"
    }
   ],
   "source": [
    "days_sorted.plot.bar()\n",
    "plt.xticks(days_sorted.index, ['M', 'T', 'W','Th', 'F', 'Sa', 'Su'], rotation=0)\n",
    "\n",
    "plt.show()"
   ]
  },
  {
   "cell_type": "code",
   "execution_count": 18,
   "metadata": {
    "colab": {
     "base_uri": "https://localhost:8080/",
     "height": 206
    },
    "id": "aED7oI__DSHM",
    "outputId": "beec7230-ebb8-44bc-f5b3-dda71563a710"
   },
   "outputs": [
    {
     "data": {
      "text/html": [
       "<div>\n",
       "<style scoped>\n",
       "    .dataframe tbody tr th:only-of-type {\n",
       "        vertical-align: middle;\n",
       "    }\n",
       "\n",
       "    .dataframe tbody tr th {\n",
       "        vertical-align: top;\n",
       "    }\n",
       "\n",
       "    .dataframe thead th {\n",
       "        text-align: right;\n",
       "    }\n",
       "</style>\n",
       "<table border=\"1\" class=\"dataframe\">\n",
       "  <thead>\n",
       "    <tr style=\"text-align: right;\">\n",
       "      <th></th>\n",
       "      <th>Time</th>\n",
       "      <th>domain</th>\n",
       "      <th>Day</th>\n",
       "      <th>DayIndex</th>\n",
       "      <th>isWeekend</th>\n",
       "    </tr>\n",
       "  </thead>\n",
       "  <tbody>\n",
       "    <tr>\n",
       "      <th>0</th>\n",
       "      <td>2021-10-04 20:37:42</td>\n",
       "      <td>www.youtube.com</td>\n",
       "      <td>Monday</td>\n",
       "      <td>0</td>\n",
       "      <td>False</td>\n",
       "    </tr>\n",
       "    <tr>\n",
       "      <th>1</th>\n",
       "      <td>2021-10-04 20:26:53</td>\n",
       "      <td>www.youtube.com</td>\n",
       "      <td>Monday</td>\n",
       "      <td>0</td>\n",
       "      <td>False</td>\n",
       "    </tr>\n",
       "    <tr>\n",
       "      <th>2</th>\n",
       "      <td>2021-10-04 20:26:53</td>\n",
       "      <td>www.youtube.com</td>\n",
       "      <td>Monday</td>\n",
       "      <td>0</td>\n",
       "      <td>False</td>\n",
       "    </tr>\n",
       "    <tr>\n",
       "      <th>3</th>\n",
       "      <td>2021-10-04 20:25:51</td>\n",
       "      <td>www.google.com</td>\n",
       "      <td>Monday</td>\n",
       "      <td>0</td>\n",
       "      <td>False</td>\n",
       "    </tr>\n",
       "    <tr>\n",
       "      <th>4</th>\n",
       "      <td>2021-10-04 20:25:48</td>\n",
       "      <td>www.zawya.com</td>\n",
       "      <td>Monday</td>\n",
       "      <td>0</td>\n",
       "      <td>False</td>\n",
       "    </tr>\n",
       "  </tbody>\n",
       "</table>\n",
       "</div>"
      ],
      "text/plain": [
       "                 Time           domain     Day  DayIndex  isWeekend\n",
       "0 2021-10-04 20:37:42  www.youtube.com  Monday         0      False\n",
       "1 2021-10-04 20:26:53  www.youtube.com  Monday         0      False\n",
       "2 2021-10-04 20:26:53  www.youtube.com  Monday         0      False\n",
       "3 2021-10-04 20:25:51   www.google.com  Monday         0      False\n",
       "4 2021-10-04 20:25:48    www.zawya.com  Monday         0      False"
      ]
     },
     "execution_count": 18,
     "metadata": {},
     "output_type": "execute_result"
    }
   ],
   "source": [
    "def is_weekend(day): \n",
    "    return day in ['Saturday', 'Sunday']\n",
    "\n",
    "\n",
    "df['isWeekend'] = [ is_weekend(i) for i in df['Day']]\n",
    "df.head()"
   ]
  },
  {
   "cell_type": "code",
   "execution_count": 19,
   "metadata": {
    "id": "fxBjkZZ2DUO8"
   },
   "outputs": [],
   "source": [
    "weekend = df[ df['isWeekend'] == True ]\n",
    "\n",
    "weekday = df[ df['isWeekend'] == False ]"
   ]
  },
  {
   "cell_type": "code",
   "execution_count": 20,
   "metadata": {
    "colab": {
     "base_uri": "https://localhost:8080/",
     "height": 206
    },
    "id": "pQSo8dkmDW-o",
    "outputId": "db0847c3-e9f0-4926-da64-411e5df919f7"
   },
   "outputs": [
    {
     "data": {
      "text/html": [
       "<div>\n",
       "<style scoped>\n",
       "    .dataframe tbody tr th:only-of-type {\n",
       "        vertical-align: middle;\n",
       "    }\n",
       "\n",
       "    .dataframe tbody tr th {\n",
       "        vertical-align: top;\n",
       "    }\n",
       "\n",
       "    .dataframe thead th {\n",
       "        text-align: right;\n",
       "    }\n",
       "</style>\n",
       "<table border=\"1\" class=\"dataframe\">\n",
       "  <thead>\n",
       "    <tr style=\"text-align: right;\">\n",
       "      <th></th>\n",
       "      <th>Time</th>\n",
       "      <th>domain</th>\n",
       "      <th>Day</th>\n",
       "      <th>DayIndex</th>\n",
       "      <th>isWeekend</th>\n",
       "    </tr>\n",
       "  </thead>\n",
       "  <tbody>\n",
       "    <tr>\n",
       "      <th>119</th>\n",
       "      <td>2021-10-03 23:53:07</td>\n",
       "      <td>www.mozilla.org</td>\n",
       "      <td>Sunday</td>\n",
       "      <td>6</td>\n",
       "      <td>True</td>\n",
       "    </tr>\n",
       "    <tr>\n",
       "      <th>120</th>\n",
       "      <td>2021-10-03 23:53:00</td>\n",
       "      <td>www.google.com</td>\n",
       "      <td>Sunday</td>\n",
       "      <td>6</td>\n",
       "      <td>True</td>\n",
       "    </tr>\n",
       "    <tr>\n",
       "      <th>121</th>\n",
       "      <td>2021-10-03 22:53:14</td>\n",
       "      <td>localhost:8888</td>\n",
       "      <td>Sunday</td>\n",
       "      <td>6</td>\n",
       "      <td>True</td>\n",
       "    </tr>\n",
       "    <tr>\n",
       "      <th>122</th>\n",
       "      <td>2021-10-03 22:46:55</td>\n",
       "      <td>localhost:8888</td>\n",
       "      <td>Sunday</td>\n",
       "      <td>6</td>\n",
       "      <td>True</td>\n",
       "    </tr>\n",
       "    <tr>\n",
       "      <th>123</th>\n",
       "      <td>2021-10-03 22:44:09</td>\n",
       "      <td>github.com</td>\n",
       "      <td>Sunday</td>\n",
       "      <td>6</td>\n",
       "      <td>True</td>\n",
       "    </tr>\n",
       "  </tbody>\n",
       "</table>\n",
       "</div>"
      ],
      "text/plain": [
       "                   Time           domain     Day  DayIndex  isWeekend\n",
       "119 2021-10-03 23:53:07  www.mozilla.org  Sunday         6       True\n",
       "120 2021-10-03 23:53:00   www.google.com  Sunday         6       True\n",
       "121 2021-10-03 22:53:14   localhost:8888  Sunday         6       True\n",
       "122 2021-10-03 22:46:55   localhost:8888  Sunday         6       True\n",
       "123 2021-10-03 22:44:09       github.com  Sunday         6       True"
      ]
     },
     "execution_count": 20,
     "metadata": {},
     "output_type": "execute_result"
    }
   ],
   "source": [
    "weekend.head()"
   ]
  },
  {
   "cell_type": "code",
   "execution_count": 21,
   "metadata": {
    "colab": {
     "base_uri": "https://localhost:8080/"
    },
    "id": "HeUvI5Y1DYtH",
    "outputId": "d9692089-c97c-4d00-b380-2d2f2cabe5af"
   },
   "outputs": [
    {
     "data": {
      "text/plain": [
       "www.google.com               547\n",
       "colab.research.google.com    291\n",
       "blackboard.umbc.edu          265\n",
       "github.com                   182\n",
       "webauth.umbc.edu             141\n",
       "Name: domain, dtype: int64"
      ]
     },
     "execution_count": 21,
     "metadata": {},
     "output_type": "execute_result"
    }
   ],
   "source": [
    "weekday['domain'].value_counts()[:5]"
   ]
  },
  {
   "cell_type": "code",
   "execution_count": 22,
   "metadata": {
    "colab": {
     "base_uri": "https://localhost:8080/"
    },
    "id": "trKKDARhDaW-",
    "outputId": "dd58ef49-15ce-43e9-aa37-33c5790d8a3a"
   },
   "outputs": [
    {
     "data": {
      "text/plain": [
       "www.google.com               197\n",
       "github.com                   139\n",
       "www.youtube.com              106\n",
       "colab.research.google.com    105\n",
       "blackboard.umbc.edu           95\n",
       "Name: domain, dtype: int64"
      ]
     },
     "execution_count": 22,
     "metadata": {},
     "output_type": "execute_result"
    }
   ],
   "source": [
    "weekend['domain'].value_counts()[:5]"
   ]
  },
  {
   "cell_type": "code",
   "execution_count": 23,
   "metadata": {
    "colab": {
     "base_uri": "https://localhost:8080/",
     "height": 282
    },
    "id": "W0AkUfTaDcHN",
    "outputId": "00e1daa5-7d39-4dd3-b975-62f3c268fbcd"
   },
   "outputs": [
    {
     "data": {
      "image/png": "[encoded data removed]",
      "text/plain": [
       "<Figure size 432x288 with 1 Axes>"
      ]
     },
     "metadata": {
      "needs_background": "light"
     },
     "output_type": "display_data"
    }
   ],
   "source": [
    "def show_stats(df, color, alpha=1):\n",
    "    hourly_counts = df.groupby(df.Time.dt.hour).domain.size()\n",
    "    \n",
    "    # fill in the missing hours\n",
    "    for h in range(24):\n",
    "        if h not in hourly_counts:\n",
    "            hourly_counts[h]=0 # I initially didn't do this and hours were not lining up\n",
    "            \n",
    "    hourly_counts.sort_index().plot.bar(color=color, alpha=alpha)\n",
    "    plt.ylim([0, 1300])\n",
    "\n",
    "    \n",
    "show_stats(weekend, 'red', 1)\n",
    "    \n",
    "show_stats(weekday, 'blue', 0.5)"
   ]
  },
  {
   "cell_type": "code",
   "execution_count": 24,
   "metadata": {
    "id": "YKY3MY3vDeTO"
   },
   "outputs": [],
   "source": [
    "# be skeptical about your data!\n",
    "# am I on computer a lot more on the weekdays \n",
    "# or it shows more simply becasue there are more weekdays "
   ]
  },
  {
   "cell_type": "code",
   "execution_count": 25,
   "metadata": {
    "colab": {
     "base_uri": "https://localhost:8080/",
     "height": 579
    },
    "id": "ko2-suxlDjH3",
    "outputId": "e911756b-5b9e-41bb-940f-ac635a523dad"
   },
   "outputs": [
    {
     "data": {
      "image/png": "[encoded data removed]",
      "text/plain": [
       "<Figure size 432x288 with 1 Axes>"
      ]
     },
     "metadata": {
      "needs_background": "light"
     },
     "output_type": "display_data"
    },
    {
     "data": {
      "image/png": "[encoded data removed]",
      "text/plain": [
       "<Figure size 432x288 with 1 Axes>"
      ]
     },
     "metadata": {
      "needs_background": "light"
     },
     "output_type": "display_data"
    }
   ],
   "source": [
    "def show_stats(df, color, alpha=1, title='', y_lim = None):\n",
    "    hourly_counts = df.groupby(df.Time.dt.hour).domain.size()\n",
    "    \n",
    "    days_counts = df.Time.dt.date.nunique()\n",
    "    \n",
    "    # fill in the missing hours\n",
    "    for h in range(24):\n",
    "        if h not in hourly_counts:\n",
    "            hourly_counts[h]=0 # I initially didn't do this and hours were not lining up\n",
    "        else: \n",
    "            hourly_counts[h] = hourly_counts[h] * 100.0 /  days_counts # I multiplied by 100.0 to make it float and also not to loose decimals\n",
    "            \n",
    "    hourly_counts.sort_index().plot.bar(color=color, alpha=alpha, title=title)\n",
    "    \n",
    "    if y_lim != None:\n",
    "        plt.ylim(y_lim)\n",
    "    plt.show()\n",
    "\n",
    "\n",
    "    \n",
    "y_lim=[0, 1800]\n",
    "show_stats(weekend, 'red', 1, 'Weekend', y_lim=y_lim)\n",
    "    \n",
    "show_stats(weekday, 'blue', 0.5, 'Weekday', y_lim=y_lim)"
   ]
  },
  {
   "cell_type": "code",
   "execution_count": 26,
   "metadata": {
    "colab": {
     "base_uri": "https://localhost:8080/"
    },
    "id": "MWOeIBgQDjyX",
    "outputId": "ef761292-367b-4d93-c481-df9428be2443"
   },
   "outputs": [
    {
     "data": {
      "text/plain": [
       "www.google.com                      744\n",
       "colab.research.google.com           396\n",
       "blackboard.umbc.edu                 360\n",
       "github.com                          321\n",
       "www.youtube.com                     185\n",
       "webauth.umbc.edu                    182\n",
       "mail.google.com                     140\n",
       "www.fila.com                        100\n",
       "www.instagram.com                    89\n",
       "umbc.coursearc.com                   81\n",
       "localhost:8888                       68\n",
       "ereg.ets.org                         64\n",
       "docs.google.com                      63\n",
       "jigsaw.vitalsource.com               59\n",
       "bookshelf.vitalsource.com            59\n",
       "stackoverflow.com                    55\n",
       "dramacool.fm                         40\n",
       "www.viki.com                         38\n",
       "my3.my.umbc.edu                      38\n",
       "cgifederal.secure.force.com          38\n",
       "umbc-csm.symplicity.com              36\n",
       "my.umbc.edu                          32\n",
       "www.qatarairways.com                 32\n",
       "myretrievercare.umbc.edu             29\n",
       "app.grammarly.com                    28\n",
       "userpages.umbc.edu                   27\n",
       "umbc.webex.com                       27\n",
       "accounts.google.com                  26\n",
       "www.geeksforgeeks.org                24\n",
       "umbcstudents-md.safecolleges.com     23\n",
       "www.ilovepdf.com                     22\n",
       "www.walmart.com                      22\n",
       "www.coursehero.com                   21\n",
       "highpoint-prd.ps.umbc.edu            20\n",
       "www.manhattanprep.com                20\n",
       "www.loom.com                         18\n",
       "www.scribbr.com                      17\n",
       "zoom.us                              17\n",
       "csprd-web.ps.umbc.edu                16\n",
       "www.umbc.edu                         16\n",
       "tookawie.com                         16\n",
       "sbs.umbc.edu                         16\n",
       "hangouts.google.com                  15\n",
       "drive.google.com                     15\n",
       "www.amazon.com                       15\n",
       "alt-5954eb74c7df4.blackboard.com     14\n",
       "booking.qatarairways.com             14\n",
       "us02web.zoom.us                      14\n",
       "www.codegrepper.com                  13\n",
       "financialaid.umbc.edu                13\n",
       "Name: domain, dtype: int64"
      ]
     },
     "execution_count": 26,
     "metadata": {},
     "output_type": "execute_result"
    }
   ],
   "source": [
    "df['domain'].value_counts()[:50]"
   ]
  },
  {
   "cell_type": "code",
   "execution_count": null,
   "metadata": {
    "id": "fFQc1nqgDltd"
   },
   "outputs": [],
   "source": []
  },
  {
   "cell_type": "code",
   "execution_count": 27,
   "metadata": {
    "id": "mZwJFCqXDn05"
   },
   "outputs": [],
   "source": [
    "df['domain'] = df['domain'].astype(str)"
   ]
  },
  {
   "cell_type": "code",
   "execution_count": 28,
   "metadata": {
    "id": "eg01tdb2DoZt"
   },
   "outputs": [],
   "source": [
    "def get_data_for_domain(val):\n",
    "    return df[ [True if val.lower() in i.lower() else False for i in df['domain'] ]]\n",
    "\n",
    "\n",
    "def show_domain_stats(domain, color='blue', alpha=1):\n",
    "    data = get_data_for_domain(domain)\n",
    "    show_stats(data, color, alpha)\n",
    "    return data"
   ]
  },
  {
   "cell_type": "code",
   "execution_count": 37,
   "metadata": {
    "colab": {
     "base_uri": "https://localhost:8080/",
     "height": 282
    },
    "id": "J5nVSmFXDqAR",
    "outputId": "47f67d0d-b4c1-426f-da06-7be8dd8954ad"
   },
   "outputs": [
    {
     "data": {
      "image/png": "[encoded data removed]",
      "text/plain": [
       "<Figure size 432x288 with 1 Axes>"
      ]
     },
     "metadata": {
      "needs_background": "light"
     },
     "output_type": "display_data"
    }
   ],
   "source": [
    "_= show_domain_stats('google', 'blue')"
   ]
  },
  {
   "cell_type": "code",
   "execution_count": null,
   "metadata": {
    "id": "F76WRndLDrjZ"
   },
   "outputs": [],
   "source": []
  },
  {
   "cell_type": "code",
   "execution_count": 31,
   "metadata": {
    "colab": {
     "base_uri": "https://localhost:8080/",
     "height": 282
    },
    "id": "vColORrjDyM1",
    "outputId": "e8a0ba9f-9e5e-4e97-b290-cb7455138d0f"
   },
   "outputs": [
    {
     "data": {
      "image/png": "[encoded data removed]",
      "text/plain": [
       "<Figure size 432x288 with 1 Axes>"
      ]
     },
     "metadata": {
      "needs_background": "light"
     },
     "output_type": "display_data"
    }
   ],
   "source": [
    "_ = show_domain_stats('stackover', 'magenta')\n"
   ]
  },
  {
   "cell_type": "code",
   "execution_count": 33,
   "metadata": {
    "colab": {
     "base_uri": "https://localhost:8080/",
     "height": 282
    },
    "id": "hECkVdHbDyqz",
    "outputId": "20d6ef04-ade3-412c-9eaf-e1aab6e984d8"
   },
   "outputs": [
    {
     "data": {
      "image/png": "[encoded data removed]",
      "text/plain": [
       "<Figure size 432x288 with 1 Axes>"
      ]
     },
     "metadata": {
      "needs_background": "light"
     },
     "output_type": "display_data"
    }
   ],
   "source": [
    "_ = show_domain_stats('instagram', 'red')"
   ]
  },
  {
   "cell_type": "code",
   "execution_count": 35,
   "metadata": {
    "colab": {
     "base_uri": "https://localhost:8080/",
     "height": 282
    },
    "id": "Flqv9kmCD1mv",
    "outputId": "d90a3aa7-ee9d-4d8d-f9c6-5e8104622e99"
   },
   "outputs": [
    {
     "data": {
      "image/png": "[encoded data removed]",
      "text/plain": [
       "<Figure size 432x288 with 1 Axes>"
      ]
     },
     "metadata": {
      "needs_background": "light"
     },
     "output_type": "display_data"
    }
   ],
   "source": [
    "_=show_domain_stats('github', 'black')"
   ]
  },
  {
   "cell_type": "markdown",
   "metadata": {
    "id": "NaPZaVnMEE91"
   },
   "source": [
    "### Based on data, what can we tell about this person?\n",
    "\n",
    "1. Is this a work computer/personal computer?\n",
    "2. Is he employed?\n",
    "3. What is his interests?\n",
    "4. Anything interesting?"
   ]
  },
  {
   "cell_type": "markdown",
   "metadata": {
    "id": "i3h6OFi9FKcV"
   },
   "source": [
    "1. This is personal computer\n",
    "2. No, the user is not employed\n",
    "3. The user browses everything using google and uses starkover flow to clear doubts for references. Uses social media for a while only.\n",
    "4. The user is mostly active between the evening hours in the weekday and during weekend the user is active after 12'o clock."
   ]
  },
  {
   "cell_type": "markdown",
   "metadata": {
    "id": "lTIoMAtcElhP"
   },
   "source": [
    "### What do you think about this assignment? ( 3 sentences at most! )"
   ]
  },
  {
   "cell_type": "markdown",
   "metadata": {
    "id": "8tHLZCmwGOjB"
   },
   "source": [
    "The assignment is interesting and gives details about the history data of the user. The details are easy to understand about the interests and the activity of the user."
   ]
  },
  {
   "cell_type": "markdown",
   "metadata": {
    "id": "QaKEcFhIEoPM"
   },
   "source": [
    "**NOTE**: If you give your permission for another student to analyze your history_cleaned.csv please commit it with this hw file.\n",
    "\n",
    "(Your name will stay confidencial)"
   ]
  },
  {
   "cell_type": "code",
   "execution_count": null,
   "metadata": {
    "id": "eBBCDVbVEOGE"
   },
   "outputs": [],
   "source": [
    "system"
   ]
  }
 ],
 "metadata": {
  "colab": {
   "name": "BrowserHistory_Analysis_HW.ipynb",
   "provenance": []
  },
  "kernelspec": {
   "display_name": "Python 3",
   "language": "python",
   "name": "python3"
  },
  "language_info": {
   "codemirror_mode": {
    "name": "ipython",
    "version": 3
   },
   "file_extension": ".py",
   "mimetype": "text/x-python",
   "name": "python",
   "nbconvert_exporter": "python",
   "pygments_lexer": "ipython3",
   "version": "3.6.4"
  }
 },
 "nbformat": 4,
 "nbformat_minor": 1
}
