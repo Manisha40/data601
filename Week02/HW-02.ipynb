{
 "cells": [
  {
   "cell_type": "markdown",
   "metadata": {},
   "source": [
    "## Homework 2\n",
    "\n",
    "Please complete the functions below. These functions are for to simulate a fair and a biased die. \n",
    "\n",
    "The biased die has probabilities {0.25, 0.15, 0.15, 0.15, 0.15, 0.15}.\n",
    "\n",
    "Create 2 visualizations that shows outcomes of multiple rolls of a fair die and biased die. \n",
    "* Visualization for fair die\n",
    "* Visualization for biased die\n",
    "\n",
    "Repeat the process programatically and take the mean to create a new list. This list will be used to compare means of biased & unbiased dice. \n",
    "* Create a historgram showing means of biased & unbiased die\n",
    "\n",
    "* Use subcharts\n",
    "* All visualizations must have appropriate titles.\n",
    "* There are 3 visualization and expected format is \n",
    "```\n",
    " [V1] [V2]\n",
    " [   V3  ]\n",
    " ```"
   ]
  },
  {
   "cell_type": "code",
   "execution_count": 12,
   "metadata": {},
   "outputs": [],
   "source": [
    "import random\n",
    "from statistics import mean\n",
    "trial_count=500\n",
    "mean1=[]\n",
    "simulation=[]\n",
    "def fair_die_simulation(trial_count):\n",
    "    for i in range(trial_count):\n",
    "        fair_roll=random.randint(1,6)\n",
    "        simulation.append(fair_roll)\n",
    "    mean1.append(mean(simulation))\n",
    "    return simulation"
   ]
  },
  {
   "cell_type": "code",
   "execution_count": 13,
   "metadata": {},
   "outputs": [],
   "source": [
    "import numpy as np\n",
    "mean2=[]\n",
    "simulation1=[]\n",
    "def biased_die_simulations(trial_count,weights=[0.25,0.15,0.15,0.15,0.15,0.15]):\n",
    "    simulation= np.apply_along_axis(lambda x: x.tolist().index(1)+1, 1, \n",
    "                       np.random.multinomial(1, weights,  size=trial_count)).tolist()\n",
    "    \n",
    "    mean2.append(mean(simulation))\n",
    "    for i in range(len(simulation)):\n",
    "        simulation1.append(simulation[i])\n",
    "    return simulation"
   ]
  },
  {
   "cell_type": "code",
   "execution_count": 14,
   "metadata": {},
   "outputs": [
    {
     "data": {
      "text/plain": [
       "Text(0.5,1,'mean of fair_die,biased_die')"
      ]
     },
     "execution_count": 14,
     "metadata": {},
     "output_type": "execute_result"
    },
    {
     "data": {
      "image/png": "[encoded data removed]",
      "text/plain": [
       "<matplotlib.figure.Figure at 0x28532fd3f28>"
      ]
     },
     "metadata": {},
     "output_type": "display_data"
    }
   ],
   "source": [
    "import numpy as np\n",
    "import matplotlib.pyplot as plt\n",
    "import matplotlib.gridspec as gridspec\n",
    "\n",
    "# Create 2x2 sub plots\n",
    "\n",
    "gs = gridspec.GridSpec(2, 2)\n",
    "gs.update(wspace = 0.4, hspace = 0.4)\n",
    "\n",
    "plt.figure()\n",
    "ax = plt.subplot(gs[0, 0]) # row 0, col 0\n",
    "fair_die_simulation(trial_count)\n",
    "dictionary=dict((x,simulation.count(x)) for x in set(simulation))\n",
    "plots=plt.bar(list(dictionary.keys()), list(dictionary.values()), color='r')\n",
    "plt.show\n",
    "ax.set_title(\"fair_die\")\n",
    "\n",
    "ax = plt.subplot(gs[0, 1]) # row 0, col 1\n",
    "biased_die_simulations(trial_count)\n",
    "dictionary2=dict((x,simulation1.count(x)) for x in set(simulation1))\n",
    "plots1=plt.bar(list(dictionary2.keys()), list(dictionary2.values()), color='g')\n",
    "ax.set_title(\"biased_die\")\n",
    "\n",
    "while trial_count>0:\n",
    "    fair_die_simulation(trial_count)\n",
    "    biased_die_simulations(trial_count)\n",
    "    trial_count-=1\n",
    "\n",
    "ax = plt.subplot(gs[1, :]) # row 1, span all columns\n",
    "colors = ['tan','lime']\n",
    "labels=['mean1','mean2']\n",
    "plt.hist([mean1,mean2], density=True, histtype='bar', color=colors, label=labels)\n",
    "\n",
    "ax.legend(prop={'size': 10})\n",
    "ax.set_title(\"mean of fair_die,biased_die\")"
   ]
  }
 ],
 "metadata": {
  "kernelspec": {
   "display_name": "Python 3",
   "language": "python",
   "name": "python3"
  },
  "language_info": {
   "codemirror_mode": {
    "name": "ipython",
    "version": 3
   },
   "file_extension": ".py",
   "mimetype": "text/x-python",
   "name": "python",
   "nbconvert_exporter": "python",
   "pygments_lexer": "ipython3",
   "version": "3.6.4"
  },
  "toc": {
   "base_numbering": 1,
   "nav_menu": {},
   "number_sections": true,
   "sideBar": true,
   "skip_h1_title": false,
   "title_cell": "Table of Contents",
   "title_sidebar": "Contents",
   "toc_cell": false,
   "toc_position": {},
   "toc_section_display": true,
   "toc_window_display": false
  }
 },
 "nbformat": 4,
 "nbformat_minor": 5
}
