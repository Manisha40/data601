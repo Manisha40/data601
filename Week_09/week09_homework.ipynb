{
  "nbformat": 4,
  "nbformat_minor": 5,
  "metadata": {
    "kernelspec": {
      "display_name": "Python 3",
      "language": "python",
      "name": "python3"
    },
    "language_info": {
      "codemirror_mode": {
        "name": "ipython",
        "version": 3
      },
      "file_extension": ".py",
      "mimetype": "text/x-python",
      "name": "python",
      "nbconvert_exporter": "python",
      "pygments_lexer": "ipython3",
      "version": "3.8.8"
    },
    "toc": {
      "base_numbering": 1,
      "nav_menu": {},
      "number_sections": true,
      "sideBar": true,
      "skip_h1_title": false,
      "title_cell": "Table of Contents",
      "title_sidebar": "Contents",
      "toc_cell": false,
      "toc_position": {},
      "toc_section_display": true,
      "toc_window_display": false
    },
    "colab": {
      "name": "week09-homework.ipynb",
      "provenance": [],
      "collapsed_sections": []
    }
  },
  "cells": [
    {
      "cell_type": "markdown",
      "metadata": {
        "id": "29b0083e"
      },
      "source": [
        "# Week9 Homework\n",
        "## Working with Strings\n",
        "\n",
        "The data frame contains notes taken by staff members. Your task is to clean it up to make it usable for analysis. \n",
        "\n",
        "### Tasks\n",
        "* Create start date, end date columns and populate the values (If notes don't include month or day use 1) i.e: 2018 => 2018-01-01\n",
        "\n",
        "* Create phone number column (If notes don't include phone numbers, use None)\n",
        "* Create a column `duration` showing difference between start & end dates in years as a whole number"
      ],
      "id": "29b0083e"
    },
    {
      "cell_type": "code",
      "metadata": {
        "id": "2e44e5c3"
      },
      "source": [
        "import pandas as pd\n",
        "import re"
      ],
      "id": "2e44e5c3",
      "execution_count": 1,
      "outputs": []
    },
    {
      "cell_type": "code",
      "metadata": {
        "id": "e80d70bc"
      },
      "source": [
        "df = pd.read_csv('https://raw.githubusercontent.com/msaricaumbc/DS601_Fall21/main/Week09/data/hw_data_less_spicy.csv', index_col=0)"
      ],
      "id": "e80d70bc",
      "execution_count": 2,
      "outputs": []
    },
    {
      "cell_type": "code",
      "metadata": {
        "id": "28e8a48a",
        "colab": {
          "base_uri": "https://localhost:8080/",
          "height": 204
        },
        "outputId": "4cf28777-9627-42bb-a756-14855c6157f6"
      },
      "source": [
        "df.head()"
      ],
      "id": "28e8a48a",
      "execution_count": 3,
      "outputs": [
        {
          "output_type": "execute_result",
          "data": {
            "text/html": [
              "<div>\n",
              "<style scoped>\n",
              "    .dataframe tbody tr th:only-of-type {\n",
              "        vertical-align: middle;\n",
              "    }\n",
              "\n",
              "    .dataframe tbody tr th {\n",
              "        vertical-align: top;\n",
              "    }\n",
              "\n",
              "    .dataframe thead th {\n",
              "        text-align: right;\n",
              "    }\n",
              "</style>\n",
              "<table border=\"1\" class=\"dataframe\">\n",
              "  <thead>\n",
              "    <tr style=\"text-align: right;\">\n",
              "      <th></th>\n",
              "      <th>email</th>\n",
              "      <th>notes</th>\n",
              "    </tr>\n",
              "  </thead>\n",
              "  <tbody>\n",
              "    <tr>\n",
              "      <th>0</th>\n",
              "      <td>george03@hotmail.com</td>\n",
              "      <td>start date: 2005-06 end date:2016 pn: 2844290125</td>\n",
              "    </tr>\n",
              "    <tr>\n",
              "      <th>1</th>\n",
              "      <td>jbrown@taylor-scott.com</td>\n",
              "      <td>start date: 2007-11/end date:2016/P# 3927388045</td>\n",
              "    </tr>\n",
              "    <tr>\n",
              "      <th>2</th>\n",
              "      <td>xperez@williams-palmer.com</td>\n",
              "      <td>start date: 03/15/1982/end date:November 2021/...</td>\n",
              "    </tr>\n",
              "    <tr>\n",
              "      <th>3</th>\n",
              "      <td>dorothy84@yahoo.com</td>\n",
              "      <td>start date: 05/06/1971 end date:2011-12-12</td>\n",
              "    </tr>\n",
              "    <tr>\n",
              "      <th>4</th>\n",
              "      <td>rrocha@hotmail.com</td>\n",
              "      <td>start date: 1971-03-30/end date:2020-07-31/P# ...</td>\n",
              "    </tr>\n",
              "  </tbody>\n",
              "</table>\n",
              "</div>"
            ],
            "text/plain": [
              "                        email                                              notes\n",
              "0        george03@hotmail.com   start date: 2005-06 end date:2016 pn: 2844290125\n",
              "1     jbrown@taylor-scott.com    start date: 2007-11/end date:2016/P# 3927388045\n",
              "2  xperez@williams-palmer.com  start date: 03/15/1982/end date:November 2021/...\n",
              "3         dorothy84@yahoo.com         start date: 05/06/1971 end date:2011-12-12\n",
              "4          rrocha@hotmail.com  start date: 1971-03-30/end date:2020-07-31/P# ..."
            ]
          },
          "metadata": {},
          "execution_count": 3
        }
      ]
    },
    {
      "cell_type": "code",
      "metadata": {
        "id": "f9954139",
        "colab": {
          "base_uri": "https://localhost:8080/"
        },
        "outputId": "8f5a4120-cad4-4b6f-8f8d-ba12a0c31558"
      },
      "source": [
        "df['notes']"
      ],
      "id": "f9954139",
      "execution_count": 4,
      "outputs": [
        {
          "output_type": "execute_result",
          "data": {
            "text/plain": [
              "0        start date: 2005-06 end date:2016 pn: 2844290125\n",
              "1         start date: 2007-11/end date:2016/P# 3927388045\n",
              "2       start date: 03/15/1982/end date:November 2021/...\n",
              "3              start date: 05/06/1971 end date:2011-12-12\n",
              "4       start date: 1971-03-30/end date:2020-07-31/P# ...\n",
              "                              ...                        \n",
              "1995    start date: June 1990 end date:2010 P# 843.880...\n",
              "1996           start date: 09/10/1989-end date:08/08/2017\n",
              "1997    start date: 1995-09/end date:2018-12/pn: 99001...\n",
              "1998    start date: February 2001/end date:2014/pn: 48...\n",
              "1999    start date: 1970-08-end date:July 2015-P# 362-...\n",
              "Name: notes, Length: 2000, dtype: object"
            ]
          },
          "metadata": {},
          "execution_count": 4
        }
      ]
    },
    {
      "cell_type": "code",
      "metadata": {
        "id": "BHcb_r_bfFmF"
      },
      "source": [
        "pattern= re.compile(r'((s\\w*t) (d\\w*e):) ((\\d{2,4}[-\\/]\\d{1,2}[-\\/]\\d{1,4})|(\\d{2,4}[-\\/]\\d{1,2})|(\\d{1,4})|(January|February|March|April|May|June|July|August|September|October|November|December)(\\s\\d{1,4}))',re.I)"
      ],
      "id": "BHcb_r_bfFmF",
      "execution_count": 5,
      "outputs": []
    },
    {
      "cell_type": "code",
      "metadata": {
        "id": "kFya3nDE7Evw"
      },
      "source": [
        "df['start date']= [pattern.search(str(a)).group()  if pattern.search(str(a)) != None else False for a in  df['notes']]"
      ],
      "id": "kFya3nDE7Evw",
      "execution_count": 57,
      "outputs": []
    },
    {
      "cell_type": "code",
      "metadata": {
        "id": "6BUQghVWnx3e",
        "colab": {
          "base_uri": "https://localhost:8080/"
        },
        "outputId": "d3d9e02c-72b3-411a-d683-fde5de267617"
      },
      "source": [
        "df['start date'] "
      ],
      "id": "6BUQghVWnx3e",
      "execution_count": 7,
      "outputs": [
        {
          "output_type": "execute_result",
          "data": {
            "text/plain": [
              "0             start date: 2005-06\n",
              "1             start date: 2007-11\n",
              "2          start date: 03/15/1982\n",
              "3          start date: 05/06/1971\n",
              "4          start date: 1971-03-30\n",
              "                  ...            \n",
              "1995        start date: June 1990\n",
              "1996       start date: 09/10/1989\n",
              "1997          start date: 1995-09\n",
              "1998    start date: February 2001\n",
              "1999          start date: 1970-08\n",
              "Name: start date, Length: 2000, dtype: object"
            ]
          },
          "metadata": {},
          "execution_count": 7
        }
      ]
    },
    {
      "cell_type": "code",
      "metadata": {
        "id": "o2VoBopq74ET"
      },
      "source": [
        "pattern= re.compile(r'((\\d{2,4}[-\\/]\\d{1,2}[-\\/]\\d{1,4})|(\\d{2,4}[-\\/]\\d{1,2})|(\\d{1,4})|(January|February|March|April|May|June|July|August|September|October|November|December)(\\s\\d{1,4}))',re.I)\n",
        "df['start_date']= [pattern.search(str(s)).group()  if pattern.search(str(s)) != None else False for s in  df['start date']]"
      ],
      "id": "o2VoBopq74ET",
      "execution_count": 8,
      "outputs": []
    },
    {
      "cell_type": "code",
      "metadata": {
        "colab": {
          "base_uri": "https://localhost:8080/",
          "height": 418
        },
        "id": "-ZCdbjuP6U5B",
        "outputId": "6c912482-e017-4330-8a3d-fba2ee773fc9"
      },
      "source": [
        "df"
      ],
      "id": "-ZCdbjuP6U5B",
      "execution_count": 9,
      "outputs": [
        {
          "output_type": "execute_result",
          "data": {
            "text/html": [
              "<div>\n",
              "<style scoped>\n",
              "    .dataframe tbody tr th:only-of-type {\n",
              "        vertical-align: middle;\n",
              "    }\n",
              "\n",
              "    .dataframe tbody tr th {\n",
              "        vertical-align: top;\n",
              "    }\n",
              "\n",
              "    .dataframe thead th {\n",
              "        text-align: right;\n",
              "    }\n",
              "</style>\n",
              "<table border=\"1\" class=\"dataframe\">\n",
              "  <thead>\n",
              "    <tr style=\"text-align: right;\">\n",
              "      <th></th>\n",
              "      <th>email</th>\n",
              "      <th>notes</th>\n",
              "      <th>start date</th>\n",
              "      <th>start_date</th>\n",
              "    </tr>\n",
              "  </thead>\n",
              "  <tbody>\n",
              "    <tr>\n",
              "      <th>0</th>\n",
              "      <td>george03@hotmail.com</td>\n",
              "      <td>start date: 2005-06 end date:2016 pn: 2844290125</td>\n",
              "      <td>start date: 2005-06</td>\n",
              "      <td>2005-06</td>\n",
              "    </tr>\n",
              "    <tr>\n",
              "      <th>1</th>\n",
              "      <td>jbrown@taylor-scott.com</td>\n",
              "      <td>start date: 2007-11/end date:2016/P# 3927388045</td>\n",
              "      <td>start date: 2007-11</td>\n",
              "      <td>2007-11</td>\n",
              "    </tr>\n",
              "    <tr>\n",
              "      <th>2</th>\n",
              "      <td>xperez@williams-palmer.com</td>\n",
              "      <td>start date: 03/15/1982/end date:November 2021/...</td>\n",
              "      <td>start date: 03/15/1982</td>\n",
              "      <td>03/15/1982</td>\n",
              "    </tr>\n",
              "    <tr>\n",
              "      <th>3</th>\n",
              "      <td>dorothy84@yahoo.com</td>\n",
              "      <td>start date: 05/06/1971 end date:2011-12-12</td>\n",
              "      <td>start date: 05/06/1971</td>\n",
              "      <td>05/06/1971</td>\n",
              "    </tr>\n",
              "    <tr>\n",
              "      <th>4</th>\n",
              "      <td>rrocha@hotmail.com</td>\n",
              "      <td>start date: 1971-03-30/end date:2020-07-31/P# ...</td>\n",
              "      <td>start date: 1971-03-30</td>\n",
              "      <td>1971-03-30</td>\n",
              "    </tr>\n",
              "    <tr>\n",
              "      <th>...</th>\n",
              "      <td>...</td>\n",
              "      <td>...</td>\n",
              "      <td>...</td>\n",
              "      <td>...</td>\n",
              "    </tr>\n",
              "    <tr>\n",
              "      <th>1995</th>\n",
              "      <td>mcgeehannah@bass.biz</td>\n",
              "      <td>start date: June 1990 end date:2010 P# 843.880...</td>\n",
              "      <td>start date: June 1990</td>\n",
              "      <td>June 1990</td>\n",
              "    </tr>\n",
              "    <tr>\n",
              "      <th>1996</th>\n",
              "      <td>moorekenneth@yahoo.com</td>\n",
              "      <td>start date: 09/10/1989-end date:08/08/2017</td>\n",
              "      <td>start date: 09/10/1989</td>\n",
              "      <td>09/10/1989</td>\n",
              "    </tr>\n",
              "    <tr>\n",
              "      <th>1997</th>\n",
              "      <td>allenreeves@fisher.com</td>\n",
              "      <td>start date: 1995-09/end date:2018-12/pn: 99001...</td>\n",
              "      <td>start date: 1995-09</td>\n",
              "      <td>1995-09</td>\n",
              "    </tr>\n",
              "    <tr>\n",
              "      <th>1998</th>\n",
              "      <td>mark49@yahoo.com</td>\n",
              "      <td>start date: February 2001/end date:2014/pn: 48...</td>\n",
              "      <td>start date: February 2001</td>\n",
              "      <td>February 2001</td>\n",
              "    </tr>\n",
              "    <tr>\n",
              "      <th>1999</th>\n",
              "      <td>johnsonjames@smith.biz</td>\n",
              "      <td>start date: 1970-08-end date:July 2015-P# 362-...</td>\n",
              "      <td>start date: 1970-08</td>\n",
              "      <td>1970-08</td>\n",
              "    </tr>\n",
              "  </tbody>\n",
              "</table>\n",
              "<p>2000 rows × 4 columns</p>\n",
              "</div>"
            ],
            "text/plain": [
              "                           email  ...     start_date\n",
              "0           george03@hotmail.com  ...        2005-06\n",
              "1        jbrown@taylor-scott.com  ...        2007-11\n",
              "2     xperez@williams-palmer.com  ...     03/15/1982\n",
              "3            dorothy84@yahoo.com  ...     05/06/1971\n",
              "4             rrocha@hotmail.com  ...     1971-03-30\n",
              "...                          ...  ...            ...\n",
              "1995        mcgeehannah@bass.biz  ...      June 1990\n",
              "1996      moorekenneth@yahoo.com  ...     09/10/1989\n",
              "1997      allenreeves@fisher.com  ...        1995-09\n",
              "1998            mark49@yahoo.com  ...  February 2001\n",
              "1999      johnsonjames@smith.biz  ...        1970-08\n",
              "\n",
              "[2000 rows x 4 columns]"
            ]
          },
          "metadata": {},
          "execution_count": 9
        }
      ]
    },
    {
      "cell_type": "code",
      "metadata": {
        "id": "oChQyHPT8WEt"
      },
      "source": [
        "pattern= re.compile(r'(e\\w*d) (d\\w*e):((\\d{2,4}[-\\/]\\d{1,2}[-\\/]\\d{1,4})|(\\d{2,4}[-\\/]\\d{1,2})|(\\d{1,4})|(January|February|March|April|May|June|July|August|September|October|November|December)(\\s\\d{1,4}))',re.I)"
      ],
      "id": "oChQyHPT8WEt",
      "execution_count": 10,
      "outputs": []
    },
    {
      "cell_type": "code",
      "metadata": {
        "id": "46BswBaE6Vj8"
      },
      "source": [
        "df['end date']= [pattern.search(str(e)).group()  if pattern.search(str(e)) != None else False for e in  df['notes']]"
      ],
      "id": "46BswBaE6Vj8",
      "execution_count": 11,
      "outputs": []
    },
    {
      "cell_type": "code",
      "metadata": {
        "id": "-d7R8P09ekjm"
      },
      "source": [
        "pattern= re.compile(r'((\\d{2,4}[-\\/]\\d{1,2}[-\\/]\\d{1,4})|(\\d{2,4}[-\\/]\\d{1,2})|(\\d{1,4})|(January|February|March|April|May|June|July|August|September|October|November|December)(\\s\\d{1,4}))',re.I)\n",
        "df['end_date']= [pattern.search(str(e)).group()  if pattern.search(str(e)) != None else False for e in  df['end date']]"
      ],
      "id": "-d7R8P09ekjm",
      "execution_count": 12,
      "outputs": []
    },
    {
      "cell_type": "code",
      "metadata": {
        "colab": {
          "base_uri": "https://localhost:8080/",
          "height": 418
        },
        "id": "UAsKFjzCewno",
        "outputId": "f17f99c9-71ee-4bef-f017-930c1c02ba0c"
      },
      "source": [
        "df"
      ],
      "id": "UAsKFjzCewno",
      "execution_count": 13,
      "outputs": [
        {
          "output_type": "execute_result",
          "data": {
            "text/html": [
              "<div>\n",
              "<style scoped>\n",
              "    .dataframe tbody tr th:only-of-type {\n",
              "        vertical-align: middle;\n",
              "    }\n",
              "\n",
              "    .dataframe tbody tr th {\n",
              "        vertical-align: top;\n",
              "    }\n",
              "\n",
              "    .dataframe thead th {\n",
              "        text-align: right;\n",
              "    }\n",
              "</style>\n",
              "<table border=\"1\" class=\"dataframe\">\n",
              "  <thead>\n",
              "    <tr style=\"text-align: right;\">\n",
              "      <th></th>\n",
              "      <th>email</th>\n",
              "      <th>notes</th>\n",
              "      <th>start date</th>\n",
              "      <th>start_date</th>\n",
              "      <th>end date</th>\n",
              "      <th>end_date</th>\n",
              "    </tr>\n",
              "  </thead>\n",
              "  <tbody>\n",
              "    <tr>\n",
              "      <th>0</th>\n",
              "      <td>george03@hotmail.com</td>\n",
              "      <td>start date: 2005-06 end date:2016 pn: 2844290125</td>\n",
              "      <td>start date: 2005-06</td>\n",
              "      <td>2005-06</td>\n",
              "      <td>end date:2016</td>\n",
              "      <td>2016</td>\n",
              "    </tr>\n",
              "    <tr>\n",
              "      <th>1</th>\n",
              "      <td>jbrown@taylor-scott.com</td>\n",
              "      <td>start date: 2007-11/end date:2016/P# 3927388045</td>\n",
              "      <td>start date: 2007-11</td>\n",
              "      <td>2007-11</td>\n",
              "      <td>end date:2016</td>\n",
              "      <td>2016</td>\n",
              "    </tr>\n",
              "    <tr>\n",
              "      <th>2</th>\n",
              "      <td>xperez@williams-palmer.com</td>\n",
              "      <td>start date: 03/15/1982/end date:November 2021/...</td>\n",
              "      <td>start date: 03/15/1982</td>\n",
              "      <td>03/15/1982</td>\n",
              "      <td>end date:November 2021</td>\n",
              "      <td>November 2021</td>\n",
              "    </tr>\n",
              "    <tr>\n",
              "      <th>3</th>\n",
              "      <td>dorothy84@yahoo.com</td>\n",
              "      <td>start date: 05/06/1971 end date:2011-12-12</td>\n",
              "      <td>start date: 05/06/1971</td>\n",
              "      <td>05/06/1971</td>\n",
              "      <td>end date:2011-12-12</td>\n",
              "      <td>2011-12-12</td>\n",
              "    </tr>\n",
              "    <tr>\n",
              "      <th>4</th>\n",
              "      <td>rrocha@hotmail.com</td>\n",
              "      <td>start date: 1971-03-30/end date:2020-07-31/P# ...</td>\n",
              "      <td>start date: 1971-03-30</td>\n",
              "      <td>1971-03-30</td>\n",
              "      <td>end date:2020-07-31</td>\n",
              "      <td>2020-07-31</td>\n",
              "    </tr>\n",
              "    <tr>\n",
              "      <th>...</th>\n",
              "      <td>...</td>\n",
              "      <td>...</td>\n",
              "      <td>...</td>\n",
              "      <td>...</td>\n",
              "      <td>...</td>\n",
              "      <td>...</td>\n",
              "    </tr>\n",
              "    <tr>\n",
              "      <th>1995</th>\n",
              "      <td>mcgeehannah@bass.biz</td>\n",
              "      <td>start date: June 1990 end date:2010 P# 843.880...</td>\n",
              "      <td>start date: June 1990</td>\n",
              "      <td>June 1990</td>\n",
              "      <td>end date:2010</td>\n",
              "      <td>2010</td>\n",
              "    </tr>\n",
              "    <tr>\n",
              "      <th>1996</th>\n",
              "      <td>moorekenneth@yahoo.com</td>\n",
              "      <td>start date: 09/10/1989-end date:08/08/2017</td>\n",
              "      <td>start date: 09/10/1989</td>\n",
              "      <td>09/10/1989</td>\n",
              "      <td>end date:08/08/2017</td>\n",
              "      <td>08/08/2017</td>\n",
              "    </tr>\n",
              "    <tr>\n",
              "      <th>1997</th>\n",
              "      <td>allenreeves@fisher.com</td>\n",
              "      <td>start date: 1995-09/end date:2018-12/pn: 99001...</td>\n",
              "      <td>start date: 1995-09</td>\n",
              "      <td>1995-09</td>\n",
              "      <td>end date:2018-12</td>\n",
              "      <td>2018-12</td>\n",
              "    </tr>\n",
              "    <tr>\n",
              "      <th>1998</th>\n",
              "      <td>mark49@yahoo.com</td>\n",
              "      <td>start date: February 2001/end date:2014/pn: 48...</td>\n",
              "      <td>start date: February 2001</td>\n",
              "      <td>February 2001</td>\n",
              "      <td>end date:2014</td>\n",
              "      <td>2014</td>\n",
              "    </tr>\n",
              "    <tr>\n",
              "      <th>1999</th>\n",
              "      <td>johnsonjames@smith.biz</td>\n",
              "      <td>start date: 1970-08-end date:July 2015-P# 362-...</td>\n",
              "      <td>start date: 1970-08</td>\n",
              "      <td>1970-08</td>\n",
              "      <td>end date:July 2015</td>\n",
              "      <td>July 2015</td>\n",
              "    </tr>\n",
              "  </tbody>\n",
              "</table>\n",
              "<p>2000 rows × 6 columns</p>\n",
              "</div>"
            ],
            "text/plain": [
              "                           email  ...       end_date\n",
              "0           george03@hotmail.com  ...           2016\n",
              "1        jbrown@taylor-scott.com  ...           2016\n",
              "2     xperez@williams-palmer.com  ...  November 2021\n",
              "3            dorothy84@yahoo.com  ...     2011-12-12\n",
              "4             rrocha@hotmail.com  ...     2020-07-31\n",
              "...                          ...  ...            ...\n",
              "1995        mcgeehannah@bass.biz  ...           2010\n",
              "1996      moorekenneth@yahoo.com  ...     08/08/2017\n",
              "1997      allenreeves@fisher.com  ...        2018-12\n",
              "1998            mark49@yahoo.com  ...           2014\n",
              "1999      johnsonjames@smith.biz  ...      July 2015\n",
              "\n",
              "[2000 rows x 6 columns]"
            ]
          },
          "metadata": {},
          "execution_count": 13
        }
      ]
    },
    {
      "cell_type": "code",
      "metadata": {
        "colab": {
          "base_uri": "https://localhost:8080/"
        },
        "id": "tngJ-XDmexGd",
        "outputId": "4d6ec403-bf56-4b35-c59b-067289ed5bc4"
      },
      "source": [
        "df.dtypes"
      ],
      "id": "tngJ-XDmexGd",
      "execution_count": 14,
      "outputs": [
        {
          "output_type": "execute_result",
          "data": {
            "text/plain": [
              "email         object\n",
              "notes         object\n",
              "start date    object\n",
              "start_date    object\n",
              "end date      object\n",
              "end_date      object\n",
              "dtype: object"
            ]
          },
          "metadata": {},
          "execution_count": 14
        }
      ]
    },
    {
      "cell_type": "code",
      "metadata": {
        "id": "o7Nr0ltuJ-Uk"
      },
      "source": [
        "df['start_date']=pd.to_datetime(df['start_date'])\n",
        "df['end_date']=pd.to_datetime(df['end_date'])\n"
      ],
      "id": "o7Nr0ltuJ-Uk",
      "execution_count": 15,
      "outputs": []
    },
    {
      "cell_type": "code",
      "metadata": {
        "colab": {
          "base_uri": "https://localhost:8080/"
        },
        "id": "FMi2lFo4fnYY",
        "outputId": "c2548599-047d-43e0-d69f-a9497489caff"
      },
      "source": [
        "df.dtypes"
      ],
      "id": "FMi2lFo4fnYY",
      "execution_count": 16,
      "outputs": [
        {
          "output_type": "execute_result",
          "data": {
            "text/plain": [
              "email                 object\n",
              "notes                 object\n",
              "start date            object\n",
              "start_date    datetime64[ns]\n",
              "end date              object\n",
              "end_date      datetime64[ns]\n",
              "dtype: object"
            ]
          },
          "metadata": {},
          "execution_count": 16
        }
      ]
    },
    {
      "cell_type": "code",
      "metadata": {
        "colab": {
          "base_uri": "https://localhost:8080/",
          "height": 418
        },
        "id": "V8k9sc5_N3Tj",
        "outputId": "709c2a2c-1f61-4d7f-82cb-d4ccc9afec66"
      },
      "source": [
        "df"
      ],
      "id": "V8k9sc5_N3Tj",
      "execution_count": 17,
      "outputs": [
        {
          "output_type": "execute_result",
          "data": {
            "text/html": [
              "<div>\n",
              "<style scoped>\n",
              "    .dataframe tbody tr th:only-of-type {\n",
              "        vertical-align: middle;\n",
              "    }\n",
              "\n",
              "    .dataframe tbody tr th {\n",
              "        vertical-align: top;\n",
              "    }\n",
              "\n",
              "    .dataframe thead th {\n",
              "        text-align: right;\n",
              "    }\n",
              "</style>\n",
              "<table border=\"1\" class=\"dataframe\">\n",
              "  <thead>\n",
              "    <tr style=\"text-align: right;\">\n",
              "      <th></th>\n",
              "      <th>email</th>\n",
              "      <th>notes</th>\n",
              "      <th>start date</th>\n",
              "      <th>start_date</th>\n",
              "      <th>end date</th>\n",
              "      <th>end_date</th>\n",
              "    </tr>\n",
              "  </thead>\n",
              "  <tbody>\n",
              "    <tr>\n",
              "      <th>0</th>\n",
              "      <td>george03@hotmail.com</td>\n",
              "      <td>start date: 2005-06 end date:2016 pn: 2844290125</td>\n",
              "      <td>start date: 2005-06</td>\n",
              "      <td>2005-06-01</td>\n",
              "      <td>end date:2016</td>\n",
              "      <td>2016-01-01</td>\n",
              "    </tr>\n",
              "    <tr>\n",
              "      <th>1</th>\n",
              "      <td>jbrown@taylor-scott.com</td>\n",
              "      <td>start date: 2007-11/end date:2016/P# 3927388045</td>\n",
              "      <td>start date: 2007-11</td>\n",
              "      <td>2007-11-01</td>\n",
              "      <td>end date:2016</td>\n",
              "      <td>2016-01-01</td>\n",
              "    </tr>\n",
              "    <tr>\n",
              "      <th>2</th>\n",
              "      <td>xperez@williams-palmer.com</td>\n",
              "      <td>start date: 03/15/1982/end date:November 2021/...</td>\n",
              "      <td>start date: 03/15/1982</td>\n",
              "      <td>1982-03-15</td>\n",
              "      <td>end date:November 2021</td>\n",
              "      <td>2021-11-01</td>\n",
              "    </tr>\n",
              "    <tr>\n",
              "      <th>3</th>\n",
              "      <td>dorothy84@yahoo.com</td>\n",
              "      <td>start date: 05/06/1971 end date:2011-12-12</td>\n",
              "      <td>start date: 05/06/1971</td>\n",
              "      <td>1971-05-06</td>\n",
              "      <td>end date:2011-12-12</td>\n",
              "      <td>2011-12-12</td>\n",
              "    </tr>\n",
              "    <tr>\n",
              "      <th>4</th>\n",
              "      <td>rrocha@hotmail.com</td>\n",
              "      <td>start date: 1971-03-30/end date:2020-07-31/P# ...</td>\n",
              "      <td>start date: 1971-03-30</td>\n",
              "      <td>1971-03-30</td>\n",
              "      <td>end date:2020-07-31</td>\n",
              "      <td>2020-07-31</td>\n",
              "    </tr>\n",
              "    <tr>\n",
              "      <th>...</th>\n",
              "      <td>...</td>\n",
              "      <td>...</td>\n",
              "      <td>...</td>\n",
              "      <td>...</td>\n",
              "      <td>...</td>\n",
              "      <td>...</td>\n",
              "    </tr>\n",
              "    <tr>\n",
              "      <th>1995</th>\n",
              "      <td>mcgeehannah@bass.biz</td>\n",
              "      <td>start date: June 1990 end date:2010 P# 843.880...</td>\n",
              "      <td>start date: June 1990</td>\n",
              "      <td>1990-06-01</td>\n",
              "      <td>end date:2010</td>\n",
              "      <td>2010-01-01</td>\n",
              "    </tr>\n",
              "    <tr>\n",
              "      <th>1996</th>\n",
              "      <td>moorekenneth@yahoo.com</td>\n",
              "      <td>start date: 09/10/1989-end date:08/08/2017</td>\n",
              "      <td>start date: 09/10/1989</td>\n",
              "      <td>1989-09-10</td>\n",
              "      <td>end date:08/08/2017</td>\n",
              "      <td>2017-08-08</td>\n",
              "    </tr>\n",
              "    <tr>\n",
              "      <th>1997</th>\n",
              "      <td>allenreeves@fisher.com</td>\n",
              "      <td>start date: 1995-09/end date:2018-12/pn: 99001...</td>\n",
              "      <td>start date: 1995-09</td>\n",
              "      <td>1995-09-01</td>\n",
              "      <td>end date:2018-12</td>\n",
              "      <td>2018-12-01</td>\n",
              "    </tr>\n",
              "    <tr>\n",
              "      <th>1998</th>\n",
              "      <td>mark49@yahoo.com</td>\n",
              "      <td>start date: February 2001/end date:2014/pn: 48...</td>\n",
              "      <td>start date: February 2001</td>\n",
              "      <td>2001-02-01</td>\n",
              "      <td>end date:2014</td>\n",
              "      <td>2014-01-01</td>\n",
              "    </tr>\n",
              "    <tr>\n",
              "      <th>1999</th>\n",
              "      <td>johnsonjames@smith.biz</td>\n",
              "      <td>start date: 1970-08-end date:July 2015-P# 362-...</td>\n",
              "      <td>start date: 1970-08</td>\n",
              "      <td>1970-08-01</td>\n",
              "      <td>end date:July 2015</td>\n",
              "      <td>2015-07-01</td>\n",
              "    </tr>\n",
              "  </tbody>\n",
              "</table>\n",
              "<p>2000 rows × 6 columns</p>\n",
              "</div>"
            ],
            "text/plain": [
              "                           email  ...   end_date\n",
              "0           george03@hotmail.com  ... 2016-01-01\n",
              "1        jbrown@taylor-scott.com  ... 2016-01-01\n",
              "2     xperez@williams-palmer.com  ... 2021-11-01\n",
              "3            dorothy84@yahoo.com  ... 2011-12-12\n",
              "4             rrocha@hotmail.com  ... 2020-07-31\n",
              "...                          ...  ...        ...\n",
              "1995        mcgeehannah@bass.biz  ... 2010-01-01\n",
              "1996      moorekenneth@yahoo.com  ... 2017-08-08\n",
              "1997      allenreeves@fisher.com  ... 2018-12-01\n",
              "1998            mark49@yahoo.com  ... 2014-01-01\n",
              "1999      johnsonjames@smith.biz  ... 2015-07-01\n",
              "\n",
              "[2000 rows x 6 columns]"
            ]
          },
          "metadata": {},
          "execution_count": 17
        }
      ]
    },
    {
      "cell_type": "code",
      "metadata": {
        "id": "LCsS16N4wWxD"
      },
      "source": [
        "#pattern = re.compile(r'(pn|p#|p\\/n)(:| )(( \\d{1,10})|( \\d{3}.\\d{3}.\\d{4}x\\d{2,5})|\\d{3}\\-\\d{3}\\-\\d{3}\\-\\d{4}x\\d{1,5}|(\\d{1,10})|(\\d{3}.\\d{3}\\.\\d{4})|( \\+\\d{1}\\-\\d{3}\\-\\d{3}\\-\\d{4})|\\(\\d{3}\\)\\d{3}\\-\\d{4}x\\d{1,5}|\\(\\d{3}\\)\\d{3}\\-\\d{4}x\\d{1,5})|\\(\\d{3}\\)\\d{3}\\-\\d{4}|(\\d{3}\\-\\d{3}\\-\\d{4}x\\d{1,5})|\\d{3}.\\d{4}',re.I)"
      ],
      "id": "LCsS16N4wWxD",
      "execution_count": 18,
      "outputs": []
    },
    {
      "cell_type": "code",
      "metadata": {
        "id": "YCQntHZ81BpJ"
      },
      "source": [
        "#pattern=re.compile(r'(pn|p#|p\\/n)(:| )(( \\d{1,10})|\\d{3}\\-\\d{3}\\-\\d{3}\\-\\d{4}x\\d{1,5}|(\\d{1,10})|( \\+\\d{1}\\-\\d{3}\\-\\d{3}\\-\\d{4})|\\(\\d{3}\\)\\d{3}\\-\\d{4}x\\d{1,5}|\\(\\d{3}\\)\\d{3}\\-\\d{4}x\\d{1,5})|\\(\\d{3}\\)\\d{3}\\-\\d{4}|(\\-\\d{3}\\-\\d{4}x\\d{1,5})|\\d{3}.\\d{3}.\\d{4}',re.I)"
      ],
      "id": "YCQntHZ81BpJ",
      "execution_count": 30,
      "outputs": []
    },
    {
      "cell_type": "code",
      "metadata": {
        "id": "rwgQHGBXYzCO"
      },
      "source": [
        "pattern=re.compile(r'(pn|p#|p\\/n)(:| )(( \\d{1,10})|\\d{3}\\-\\d{3}\\-\\d{3}\\-\\d{4}x\\d{1,5}|(\\d{1,10})|( \\+\\d{1}\\-\\d{3}\\-\\d{3}\\-\\d{4})|\\(\\d{3}\\)\\d{3}\\-\\d{4}x\\d{1,5})|\\(\\d{3}\\)\\d{3}\\-\\d{4}|(\\-\\d{3}\\-\\d{4}x\\d{1,5})|\\d{3}.\\d{3}.\\d{4}|\\d{3}\\-\\d{3}\\-\\d{4}',re.I)"
      ],
      "id": "rwgQHGBXYzCO",
      "execution_count": 58,
      "outputs": []
    },
    {
      "cell_type": "code",
      "metadata": {
        "id": "6JuIqKEIwiaL"
      },
      "source": [
        "df['phone number']= [pattern.search(str(p)).group()  if pattern.search(str(p)) != None else False for p in  df['notes']]"
      ],
      "id": "6JuIqKEIwiaL",
      "execution_count": 59,
      "outputs": []
    },
    {
      "cell_type": "code",
      "metadata": {
        "colab": {
          "base_uri": "https://localhost:8080/"
        },
        "id": "f339JdCswsZc",
        "outputId": "8c5f77b4-8846-4174-f7e9-177ba9848e71"
      },
      "source": [
        "df['phone number'].head(50)"
      ],
      "id": "f339JdCswsZc",
      "execution_count": 60,
      "outputs": [
        {
          "output_type": "execute_result",
          "data": {
            "text/plain": [
              "0                pn: 2844290125\n",
              "1                 P# 3927388045\n",
              "2                         False\n",
              "3                         False\n",
              "4                        P# 726\n",
              "5                         False\n",
              "6                      p/n  001\n",
              "7     P# 001-841-144-4431x84270\n",
              "8                         False\n",
              "9                  877-565-1740\n",
              "10                        False\n",
              "11                        False\n",
              "12                        False\n",
              "13                        False\n",
              "14       P# (505)577-8470x86558\n",
              "15                (126)950-9991\n",
              "16                        False\n",
              "17                        False\n",
              "18                      pn: 634\n",
              "19                     p/n  001\n",
              "20                        False\n",
              "21                        False\n",
              "22                      pn: 478\n",
              "23                        False\n",
              "24                      pn: 001\n",
              "25                P# 9778001651\n",
              "26                        False\n",
              "27                        False\n",
              "28                 653.050.1665\n",
              "29               pn: 4840352313\n",
              "30                        False\n",
              "31                        False\n",
              "32                      pn: 713\n",
              "33                        False\n",
              "34                        False\n",
              "35                        False\n",
              "36                 746.019.4084\n",
              "37                        False\n",
              "38                        False\n",
              "39              p/n  8464754015\n",
              "40                      p#  001\n",
              "41                (919)704-2016\n",
              "42                      pn: 952\n",
              "43                        False\n",
              "44                 045-371-9602\n",
              "45                        False\n",
              "46                        False\n",
              "47                        False\n",
              "48          p#  +1-447-198-9991\n",
              "49                        False\n",
              "Name: phone number, dtype: object"
            ]
          },
          "metadata": {},
          "execution_count": 60
        }
      ]
    },
    {
      "cell_type": "code",
      "metadata": {
        "id": "g_-zpp4HVunz"
      },
      "source": [
        "pattern=re.compile(r'(( \\d{1,10})|\\d{3}\\-\\d{3}\\-\\d{3}\\-\\d{4}x\\d{1,5}|(\\d{1,10})|( \\+\\d{1}\\-\\d{3}\\-\\d{3}\\-\\d{4})|\\(\\d{3}\\)\\d{3}\\-\\d{4}x\\d{1,5}|\\(\\d{3}\\)\\d{3}\\-\\d{4}x\\d{1,5})|\\(\\d{3}\\)\\d{3}\\-\\d{4}|(\\-\\d{3}\\-\\d{4}x\\d{1,5})|\\d{3}.\\d{3}.\\d{4}',re.I)"
      ],
      "id": "g_-zpp4HVunz",
      "execution_count": 33,
      "outputs": []
    },
    {
      "cell_type": "code",
      "metadata": {
        "id": "Fw_xyYQ1WXVe"
      },
      "source": [
        "df['phone_number'] = [pattern.search(str(p)).group()  if pattern.search(str(p)) != None else None for p in  df['phone number']]"
      ],
      "id": "Fw_xyYQ1WXVe",
      "execution_count": 39,
      "outputs": []
    },
    {
      "cell_type": "code",
      "metadata": {
        "colab": {
          "base_uri": "https://localhost:8080/",
          "height": 418
        },
        "id": "0V2gtm-EV_8d",
        "outputId": "759f11fb-19c1-4005-fc75-00b1bf91e84f"
      },
      "source": [
        "df"
      ],
      "id": "0V2gtm-EV_8d",
      "execution_count": 37,
      "outputs": [
        {
          "output_type": "execute_result",
          "data": {
            "text/html": [
              "<div>\n",
              "<style scoped>\n",
              "    .dataframe tbody tr th:only-of-type {\n",
              "        vertical-align: middle;\n",
              "    }\n",
              "\n",
              "    .dataframe tbody tr th {\n",
              "        vertical-align: top;\n",
              "    }\n",
              "\n",
              "    .dataframe thead th {\n",
              "        text-align: right;\n",
              "    }\n",
              "</style>\n",
              "<table border=\"1\" class=\"dataframe\">\n",
              "  <thead>\n",
              "    <tr style=\"text-align: right;\">\n",
              "      <th></th>\n",
              "      <th>email</th>\n",
              "      <th>notes</th>\n",
              "      <th>start date</th>\n",
              "      <th>start_date</th>\n",
              "      <th>end date</th>\n",
              "      <th>end_date</th>\n",
              "      <th>phone number</th>\n",
              "      <th>phone_number</th>\n",
              "    </tr>\n",
              "  </thead>\n",
              "  <tbody>\n",
              "    <tr>\n",
              "      <th>0</th>\n",
              "      <td>george03@hotmail.com</td>\n",
              "      <td>start date: 2005-06 end date:2016 pn: 2844290125</td>\n",
              "      <td>start date: 2005-06</td>\n",
              "      <td>2005-06-01</td>\n",
              "      <td>end date:2016</td>\n",
              "      <td>2016-01-01</td>\n",
              "      <td>pn: 2844290125</td>\n",
              "      <td>2844290125</td>\n",
              "    </tr>\n",
              "    <tr>\n",
              "      <th>1</th>\n",
              "      <td>jbrown@taylor-scott.com</td>\n",
              "      <td>start date: 2007-11/end date:2016/P# 3927388045</td>\n",
              "      <td>start date: 2007-11</td>\n",
              "      <td>2007-11-01</td>\n",
              "      <td>end date:2016</td>\n",
              "      <td>2016-01-01</td>\n",
              "      <td>P# 3927388045</td>\n",
              "      <td>3927388045</td>\n",
              "    </tr>\n",
              "    <tr>\n",
              "      <th>2</th>\n",
              "      <td>xperez@williams-palmer.com</td>\n",
              "      <td>start date: 03/15/1982/end date:November 2021/...</td>\n",
              "      <td>start date: 03/15/1982</td>\n",
              "      <td>1982-03-15</td>\n",
              "      <td>end date:November 2021</td>\n",
              "      <td>2021-11-01</td>\n",
              "      <td>False</td>\n",
              "      <td>None</td>\n",
              "    </tr>\n",
              "    <tr>\n",
              "      <th>3</th>\n",
              "      <td>dorothy84@yahoo.com</td>\n",
              "      <td>start date: 05/06/1971 end date:2011-12-12</td>\n",
              "      <td>start date: 05/06/1971</td>\n",
              "      <td>1971-05-06</td>\n",
              "      <td>end date:2011-12-12</td>\n",
              "      <td>2011-12-12</td>\n",
              "      <td>False</td>\n",
              "      <td>None</td>\n",
              "    </tr>\n",
              "    <tr>\n",
              "      <th>4</th>\n",
              "      <td>rrocha@hotmail.com</td>\n",
              "      <td>start date: 1971-03-30/end date:2020-07-31/P# ...</td>\n",
              "      <td>start date: 1971-03-30</td>\n",
              "      <td>1971-03-30</td>\n",
              "      <td>end date:2020-07-31</td>\n",
              "      <td>2020-07-31</td>\n",
              "      <td>P# 726</td>\n",
              "      <td>726</td>\n",
              "    </tr>\n",
              "    <tr>\n",
              "      <th>...</th>\n",
              "      <td>...</td>\n",
              "      <td>...</td>\n",
              "      <td>...</td>\n",
              "      <td>...</td>\n",
              "      <td>...</td>\n",
              "      <td>...</td>\n",
              "      <td>...</td>\n",
              "      <td>...</td>\n",
              "    </tr>\n",
              "    <tr>\n",
              "      <th>1995</th>\n",
              "      <td>mcgeehannah@bass.biz</td>\n",
              "      <td>start date: June 1990 end date:2010 P# 843.880...</td>\n",
              "      <td>start date: June 1990</td>\n",
              "      <td>1990-06-01</td>\n",
              "      <td>end date:2010</td>\n",
              "      <td>2010-01-01</td>\n",
              "      <td>P# 843</td>\n",
              "      <td>843</td>\n",
              "    </tr>\n",
              "    <tr>\n",
              "      <th>1996</th>\n",
              "      <td>moorekenneth@yahoo.com</td>\n",
              "      <td>start date: 09/10/1989-end date:08/08/2017</td>\n",
              "      <td>start date: 09/10/1989</td>\n",
              "      <td>1989-09-10</td>\n",
              "      <td>end date:08/08/2017</td>\n",
              "      <td>2017-08-08</td>\n",
              "      <td>False</td>\n",
              "      <td>None</td>\n",
              "    </tr>\n",
              "    <tr>\n",
              "      <th>1997</th>\n",
              "      <td>allenreeves@fisher.com</td>\n",
              "      <td>start date: 1995-09/end date:2018-12/pn: 99001...</td>\n",
              "      <td>start date: 1995-09</td>\n",
              "      <td>1995-09-01</td>\n",
              "      <td>end date:2018-12</td>\n",
              "      <td>2018-12-01</td>\n",
              "      <td>pn: 9900127658</td>\n",
              "      <td>9900127658</td>\n",
              "    </tr>\n",
              "    <tr>\n",
              "      <th>1998</th>\n",
              "      <td>mark49@yahoo.com</td>\n",
              "      <td>start date: February 2001/end date:2014/pn: 48...</td>\n",
              "      <td>start date: February 2001</td>\n",
              "      <td>2001-02-01</td>\n",
              "      <td>end date:2014</td>\n",
              "      <td>2014-01-01</td>\n",
              "      <td>pn: 481</td>\n",
              "      <td>481</td>\n",
              "    </tr>\n",
              "    <tr>\n",
              "      <th>1999</th>\n",
              "      <td>johnsonjames@smith.biz</td>\n",
              "      <td>start date: 1970-08-end date:July 2015-P# 362-...</td>\n",
              "      <td>start date: 1970-08</td>\n",
              "      <td>1970-08-01</td>\n",
              "      <td>end date:July 2015</td>\n",
              "      <td>2015-07-01</td>\n",
              "      <td>P# 362</td>\n",
              "      <td>362</td>\n",
              "    </tr>\n",
              "  </tbody>\n",
              "</table>\n",
              "<p>2000 rows × 8 columns</p>\n",
              "</div>"
            ],
            "text/plain": [
              "                           email  ... phone_number\n",
              "0           george03@hotmail.com  ...   2844290125\n",
              "1        jbrown@taylor-scott.com  ...   3927388045\n",
              "2     xperez@williams-palmer.com  ...         None\n",
              "3            dorothy84@yahoo.com  ...         None\n",
              "4             rrocha@hotmail.com  ...          726\n",
              "...                          ...  ...          ...\n",
              "1995        mcgeehannah@bass.biz  ...          843\n",
              "1996      moorekenneth@yahoo.com  ...         None\n",
              "1997      allenreeves@fisher.com  ...   9900127658\n",
              "1998            mark49@yahoo.com  ...          481\n",
              "1999      johnsonjames@smith.biz  ...          362\n",
              "\n",
              "[2000 rows x 8 columns]"
            ]
          },
          "metadata": {},
          "execution_count": 37
        }
      ]
    },
    {
      "cell_type": "code",
      "metadata": {
        "id": "9SL-cPtRjKOp"
      },
      "source": [
        "df['duration']= df['end_date']-df['start_date']"
      ],
      "id": "9SL-cPtRjKOp",
      "execution_count": 53,
      "outputs": []
    },
    {
      "cell_type": "code",
      "metadata": {
        "colab": {
          "base_uri": "https://localhost:8080/",
          "height": 418
        },
        "id": "WyxchnaWOcNi",
        "outputId": "d06c8fae-585b-4051-8a36-4e0478ed9e5c"
      },
      "source": [
        "df"
      ],
      "id": "WyxchnaWOcNi",
      "execution_count": 56,
      "outputs": [
        {
          "output_type": "execute_result",
          "data": {
            "text/html": [
              "<div>\n",
              "<style scoped>\n",
              "    .dataframe tbody tr th:only-of-type {\n",
              "        vertical-align: middle;\n",
              "    }\n",
              "\n",
              "    .dataframe tbody tr th {\n",
              "        vertical-align: top;\n",
              "    }\n",
              "\n",
              "    .dataframe thead th {\n",
              "        text-align: right;\n",
              "    }\n",
              "</style>\n",
              "<table border=\"1\" class=\"dataframe\">\n",
              "  <thead>\n",
              "    <tr style=\"text-align: right;\">\n",
              "      <th></th>\n",
              "      <th>email</th>\n",
              "      <th>notes</th>\n",
              "      <th>start date</th>\n",
              "      <th>start_date</th>\n",
              "      <th>end date</th>\n",
              "      <th>end_date</th>\n",
              "      <th>phone number</th>\n",
              "      <th>phone_number</th>\n",
              "      <th>duration</th>\n",
              "    </tr>\n",
              "  </thead>\n",
              "  <tbody>\n",
              "    <tr>\n",
              "      <th>0</th>\n",
              "      <td>george03@hotmail.com</td>\n",
              "      <td>start date: 2005-06 end date:2016 pn: 2844290125</td>\n",
              "      <td>start date: 2005-06</td>\n",
              "      <td>2005-06-01</td>\n",
              "      <td>end date:2016</td>\n",
              "      <td>2016-01-01</td>\n",
              "      <td>pn: 2844290125</td>\n",
              "      <td>2844290125</td>\n",
              "      <td>3866 days</td>\n",
              "    </tr>\n",
              "    <tr>\n",
              "      <th>1</th>\n",
              "      <td>jbrown@taylor-scott.com</td>\n",
              "      <td>start date: 2007-11/end date:2016/P# 3927388045</td>\n",
              "      <td>start date: 2007-11</td>\n",
              "      <td>2007-11-01</td>\n",
              "      <td>end date:2016</td>\n",
              "      <td>2016-01-01</td>\n",
              "      <td>P# 3927388045</td>\n",
              "      <td>3927388045</td>\n",
              "      <td>2983 days</td>\n",
              "    </tr>\n",
              "    <tr>\n",
              "      <th>2</th>\n",
              "      <td>xperez@williams-palmer.com</td>\n",
              "      <td>start date: 03/15/1982/end date:November 2021/...</td>\n",
              "      <td>start date: 03/15/1982</td>\n",
              "      <td>1982-03-15</td>\n",
              "      <td>end date:November 2021</td>\n",
              "      <td>2021-11-01</td>\n",
              "      <td>False</td>\n",
              "      <td>None</td>\n",
              "      <td>14476 days</td>\n",
              "    </tr>\n",
              "    <tr>\n",
              "      <th>3</th>\n",
              "      <td>dorothy84@yahoo.com</td>\n",
              "      <td>start date: 05/06/1971 end date:2011-12-12</td>\n",
              "      <td>start date: 05/06/1971</td>\n",
              "      <td>1971-05-06</td>\n",
              "      <td>end date:2011-12-12</td>\n",
              "      <td>2011-12-12</td>\n",
              "      <td>False</td>\n",
              "      <td>None</td>\n",
              "      <td>14830 days</td>\n",
              "    </tr>\n",
              "    <tr>\n",
              "      <th>4</th>\n",
              "      <td>rrocha@hotmail.com</td>\n",
              "      <td>start date: 1971-03-30/end date:2020-07-31/P# ...</td>\n",
              "      <td>start date: 1971-03-30</td>\n",
              "      <td>1971-03-30</td>\n",
              "      <td>end date:2020-07-31</td>\n",
              "      <td>2020-07-31</td>\n",
              "      <td>P# 726</td>\n",
              "      <td>726</td>\n",
              "      <td>18021 days</td>\n",
              "    </tr>\n",
              "    <tr>\n",
              "      <th>...</th>\n",
              "      <td>...</td>\n",
              "      <td>...</td>\n",
              "      <td>...</td>\n",
              "      <td>...</td>\n",
              "      <td>...</td>\n",
              "      <td>...</td>\n",
              "      <td>...</td>\n",
              "      <td>...</td>\n",
              "      <td>...</td>\n",
              "    </tr>\n",
              "    <tr>\n",
              "      <th>1995</th>\n",
              "      <td>mcgeehannah@bass.biz</td>\n",
              "      <td>start date: June 1990 end date:2010 P# 843.880...</td>\n",
              "      <td>start date: June 1990</td>\n",
              "      <td>1990-06-01</td>\n",
              "      <td>end date:2010</td>\n",
              "      <td>2010-01-01</td>\n",
              "      <td>P# 843</td>\n",
              "      <td>843</td>\n",
              "      <td>7154 days</td>\n",
              "    </tr>\n",
              "    <tr>\n",
              "      <th>1996</th>\n",
              "      <td>moorekenneth@yahoo.com</td>\n",
              "      <td>start date: 09/10/1989-end date:08/08/2017</td>\n",
              "      <td>start date: 09/10/1989</td>\n",
              "      <td>1989-09-10</td>\n",
              "      <td>end date:08/08/2017</td>\n",
              "      <td>2017-08-08</td>\n",
              "      <td>False</td>\n",
              "      <td>None</td>\n",
              "      <td>10194 days</td>\n",
              "    </tr>\n",
              "    <tr>\n",
              "      <th>1997</th>\n",
              "      <td>allenreeves@fisher.com</td>\n",
              "      <td>start date: 1995-09/end date:2018-12/pn: 99001...</td>\n",
              "      <td>start date: 1995-09</td>\n",
              "      <td>1995-09-01</td>\n",
              "      <td>end date:2018-12</td>\n",
              "      <td>2018-12-01</td>\n",
              "      <td>pn: 9900127658</td>\n",
              "      <td>9900127658</td>\n",
              "      <td>8492 days</td>\n",
              "    </tr>\n",
              "    <tr>\n",
              "      <th>1998</th>\n",
              "      <td>mark49@yahoo.com</td>\n",
              "      <td>start date: February 2001/end date:2014/pn: 48...</td>\n",
              "      <td>start date: February 2001</td>\n",
              "      <td>2001-02-01</td>\n",
              "      <td>end date:2014</td>\n",
              "      <td>2014-01-01</td>\n",
              "      <td>pn: 481</td>\n",
              "      <td>481</td>\n",
              "      <td>4717 days</td>\n",
              "    </tr>\n",
              "    <tr>\n",
              "      <th>1999</th>\n",
              "      <td>johnsonjames@smith.biz</td>\n",
              "      <td>start date: 1970-08-end date:July 2015-P# 362-...</td>\n",
              "      <td>start date: 1970-08</td>\n",
              "      <td>1970-08-01</td>\n",
              "      <td>end date:July 2015</td>\n",
              "      <td>2015-07-01</td>\n",
              "      <td>P# 362</td>\n",
              "      <td>362</td>\n",
              "      <td>16405 days</td>\n",
              "    </tr>\n",
              "  </tbody>\n",
              "</table>\n",
              "<p>2000 rows × 9 columns</p>\n",
              "</div>"
            ],
            "text/plain": [
              "                           email  ...   duration\n",
              "0           george03@hotmail.com  ...  3866 days\n",
              "1        jbrown@taylor-scott.com  ...  2983 days\n",
              "2     xperez@williams-palmer.com  ... 14476 days\n",
              "3            dorothy84@yahoo.com  ... 14830 days\n",
              "4             rrocha@hotmail.com  ... 18021 days\n",
              "...                          ...  ...        ...\n",
              "1995        mcgeehannah@bass.biz  ...  7154 days\n",
              "1996      moorekenneth@yahoo.com  ... 10194 days\n",
              "1997      allenreeves@fisher.com  ...  8492 days\n",
              "1998            mark49@yahoo.com  ...  4717 days\n",
              "1999      johnsonjames@smith.biz  ... 16405 days\n",
              "\n",
              "[2000 rows x 9 columns]"
            ]
          },
          "metadata": {},
          "execution_count": 56
        }
      ]
    }
  ]
}