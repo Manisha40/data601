{
  "nbformat": 4,
  "nbformat_minor": 5,
  "metadata": {
    "kernelspec": {
      "display_name": "Python 3",
      "language": "python",
      "name": "python3"
    },
    "language_info": {
      "codemirror_mode": {
        "name": "ipython",
        "version": 3
      },
      "file_extension": ".py",
      "mimetype": "text/x-python",
      "name": "python",
      "nbconvert_exporter": "python",
      "pygments_lexer": "ipython3",
      "version": "3.8.8"
    },
    "toc": {
      "base_numbering": 1,
      "nav_menu": {},
      "number_sections": true,
      "sideBar": true,
      "skip_h1_title": false,
      "title_cell": "Table of Contents",
      "title_sidebar": "Contents",
      "toc_cell": false,
      "toc_position": {},
      "toc_section_display": true,
      "toc_window_display": false
    },
    "colab": {
      "name": "week9-lab-working-with-strings.ipynb",
      "provenance": []
    }
  },
  "cells": [
    {
      "cell_type": "markdown",
      "metadata": {
        "id": "4653b546"
      },
      "source": [
        "# Week9 - Lab \n",
        "## Working with Strings\n",
        "\n",
        "[Kaggle ML & Data Science Survey - 2018](https://www.kaggle.com/kaggle/kaggle-survey-2018?select=freeFormResponses.csv)"
      ],
      "id": "4653b546"
    },
    {
      "cell_type": "code",
      "metadata": {
        "id": "2d390a49"
      },
      "source": [
        "import pandas as pd\n",
        "import re\n",
        "\n",
        "df = pd.read_csv('https://raw.githubusercontent.com/msaricaumbc/DS601_Fall21/main/Week09/data/freeFormResponses.csv', low_memory=False)"
      ],
      "id": "2d390a49",
      "execution_count": 1,
      "outputs": []
    },
    {
      "cell_type": "code",
      "metadata": {
        "colab": {
          "base_uri": "https://localhost:8080/"
        },
        "id": "224182af",
        "scrolled": true,
        "outputId": "35121cb7-e236-4f78-8fba-9abbafaa6d4e"
      },
      "source": [
        "for i, question in enumerate(df.loc[0].values):\n",
        "    print(i, question)"
      ],
      "id": "224182af",
      "execution_count": 2,
      "outputs": [
        {
          "output_type": "stream",
          "name": "stdout",
          "text": [
            "0 Select any activities that make up an important part of your role at work: (Select all that apply) - Other - Text\n",
            "1 What is the primary tool that you use at work or school to analyze data? (include text response) - Other - Text\n",
            "2 What is the primary tool that you use at work or school to analyze data? (include text response) - Basic statistical software (Microsoft Excel, Google Sheets, etc.) - Text\n",
            "3 What is the primary tool that you use at work or school to analyze data? (include text response) - Advanced statistical software (SPSS, SAS, etc.) - Text\n",
            "4 What is the primary tool that you use at work or school to analyze data? (include text response) - Business intelligence software (Salesforce, Tableau, Spotfire, etc.) - Text\n",
            "5 What is the primary tool that you use at work or school to analyze data? (include text response) - Local or hosted development environments (RStudio, JupyterLab, etc.) - Text\n",
            "6 What is the primary tool that you use at work or school to analyze data? (include text response) - Cloud-based data software & APIs (AWS, GCP, Azure, etc.) - Text\n",
            "7 Which of the following integrated development environments (IDE's) have you used at work or school in the last 5 years? (Select all that apply) - Other - Text\n",
            "8 Which of the following hosted notebooks have you used at work or school in the last 5 years? (Select all that apply) - Other - Text\n",
            "9 Which of the following cloud computing services have you used at work or school in the last 5 years? (Select all that apply) - Other - Text\n",
            "10 What programming languages do you use on a regular basis? (Select all that apply) - Other - Text\n",
            "11 What specific programming language do you use most often? - Other - Text\n",
            "12 What programming language would you recommend an aspiring data scientist to learn first? - Other - Text\n",
            "13 What machine learning frameworks have you used in the past 5 years? (Select all that apply) - Other - Text\n",
            "14 What is your gender? - Prefer to self-describe - Text\n",
            "15 Of the choices that you selected in the previous question, which ML library have you used the most? - Other - Text\n",
            "16 What data visualization libraries or tools have you used in the past 5 years? (Select all that apply) - Other - Text\n",
            "17 Of the choices that you selected in the previous question, which specific data visualization library or tool have you used the most? - Other - Text\n",
            "18 Which of the following cloud computing products have you used at work or school in the last 5 years (Select all that apply)? - Other - Text\n",
            "19 Which of the following machine learning products have you used at work or school in the last 5 years? (Select all that apply) - Other - Text\n",
            "20 Which of the following relational database products have you used at work or school in the last 5 years? (Select all that apply) - Other - Text\n",
            "21 Which of the following big data and analytics products have you used at work or school in the last 5 years? (Select all that apply) - Other - Text\n",
            "22 Which types of data do you currently interact with most often at work or school? (Select all that apply) - Other Data - Text\n",
            "23 What is the type of data that you currently interact with most often at work or school? - Other Data - Text\n",
            "24 Where do you find public datasets? (Select all that apply) - Other - Text\n",
            "25 During a typical data science project at work or school, approximately what proportion of your time is devoted to the following? (Answers must add up to 100%) - Other\n",
            "26 What percentage of your current machine learning/data science training falls under each category? (Answers must add up to 100%) - Other - Text\n",
            "27 On which online platforms have you begun or completed data science courses? (Select all that apply) - Other - Text\n",
            "28 On which online platform have you spent the most amount of time? - Other - Text\n",
            "29 Who/what are your favorite media sources that report on data science topics? (Select all that apply) - Other - Text\n",
            "30 What metrics do you or your organization use to determine whether or not your models were successful? (Select all that apply) - Other - Text\n",
            "31 What tools and methods do you use to make your work easy to reproduce? (Select all that apply) - Other - Text\n",
            "32 What barriers prevent you from making your work even easier to reuse and reproduce? (Select all that apply) - Other - Text\n",
            "33 Select the title most similar to your current role (or most recent title if retired): - Other - Text\n",
            "34 In what industry is your current employer/contract (or your most recent employer if retired)? - Other - Text\n"
          ]
        }
      ]
    },
    {
      "cell_type": "code",
      "metadata": {
        "colab": {
          "base_uri": "https://localhost:8080/"
        },
        "id": "a5498bcd",
        "scrolled": true,
        "outputId": "61a019fe-6eae-4530-b704-8768be3f372c"
      },
      "source": [
        "df.loc[:, 'Q12_Part_4_TEXT'].value_counts().sort_values(ascending =False)[150:200]"
      ],
      "id": "a5498bcd",
      "execution_count": 3,
      "outputs": [
        {
          "output_type": "execute_result",
          "data": {
            "text/plain": [
              "IPython                         3\n",
              "JupyterLab, Jupyter Notebook    3\n",
              "RStudio, Jupyterlab             3\n",
              "Knime                           3\n",
              "R Studio, Jupyter               3\n",
              "Jupyter Notebooks, PyCharm      3\n",
              "RStudio and Spyder              3\n",
              "py                              3\n",
              "Python 3.6                      3\n",
              "R, Spyder                       3\n",
              "Jupyter Notebook, RStudio       3\n",
              "Python, Jupyterlab              3\n",
              "Jupterlab                       3\n",
              "Rstudio, Jupyterlab             3\n",
              "R and python                    3\n",
              "PyCharm, Anaconda               3\n",
              "R,python                        3\n",
              "sklearn                         3\n",
              "Zeppelin                        3\n",
              "JupterLab                       3\n",
              "RStudio,Anaconda                3\n",
              "Spyder, Jupyter Notebook        3\n",
              "SQL                             3\n",
              "JupyterNotebooks                3\n",
              "IBM Watson Studio               3\n",
              "r and python                    3\n",
              "Studio                          3\n",
              "Python, Matlab                  3\n",
              "PyTorch                         3\n",
              "Rstudio,JupyterLab              3\n",
              "Jupyter Lab                     3\n",
              "Visual Studio                   3\n",
              "Jupyter, pandas                 3\n",
              "Anaconda Spyder                 3\n",
              "Rstudio and Python              3\n",
              "Local Jupyter                   3\n",
              "Python & R                      3\n",
              "Python, Jupyter Notebooks       3\n",
              "Python R                        3\n",
              "JupyterLab, Pandas              3\n",
              "python, tensorflow              3\n",
              "RStudio Server                  3\n",
              "RStudio and python              3\n",
              "Jupyter and Python              3\n",
              "Python, Pandas                  3\n",
              "colab                           3\n",
              "RStudio, MATLAB                 3\n",
              "SQL Server                      3\n",
              "Jupiter notebooks               3\n",
              "jupyter notebook                3\n",
              "Name: Q12_Part_4_TEXT, dtype: int64"
            ]
          },
          "metadata": {},
          "execution_count": 3
        }
      ]
    },
    {
      "cell_type": "markdown",
      "metadata": {
        "id": "27d09d31"
      },
      "source": [
        "__Your Task__\n",
        "\n",
        "- In  `Q12_Part_4_TEXT` they ask the tools the participants are using day to day. However as you might observe the answers are not standardized. \n",
        "\n",
        "- Find all the answers with 'jupyter' mentioned in it.\n",
        "\n",
        "- Find all the participant who are Python users.\n",
        "\n",
        "- Find all R users. "
      ],
      "id": "27d09d31"
    },
    {
      "cell_type": "code",
      "metadata": {
        "colab": {
          "base_uri": "https://localhost:8080/"
        },
        "id": "RONFJQWvdqE-",
        "outputId": "e07e6ea7-1165-428d-b822-c6539ba7bfff"
      },
      "source": [
        "jup=df.loc[:, 'Q12_Part_4_TEXT'].value_counts().sort_values(ascending =False)[150:200]\n",
        "jup"
      ],
      "id": "RONFJQWvdqE-",
      "execution_count": 12,
      "outputs": [
        {
          "output_type": "execute_result",
          "data": {
            "text/plain": [
              "IPython                         3\n",
              "JupyterLab, Jupyter Notebook    3\n",
              "RStudio, Jupyterlab             3\n",
              "Knime                           3\n",
              "R Studio, Jupyter               3\n",
              "Jupyter Notebooks, PyCharm      3\n",
              "RStudio and Spyder              3\n",
              "py                              3\n",
              "Python 3.6                      3\n",
              "R, Spyder                       3\n",
              "Jupyter Notebook, RStudio       3\n",
              "Python, Jupyterlab              3\n",
              "Jupterlab                       3\n",
              "Rstudio, Jupyterlab             3\n",
              "R and python                    3\n",
              "PyCharm, Anaconda               3\n",
              "R,python                        3\n",
              "sklearn                         3\n",
              "Zeppelin                        3\n",
              "JupterLab                       3\n",
              "RStudio,Anaconda                3\n",
              "Spyder, Jupyter Notebook        3\n",
              "SQL                             3\n",
              "JupyterNotebooks                3\n",
              "IBM Watson Studio               3\n",
              "r and python                    3\n",
              "Studio                          3\n",
              "Python, Matlab                  3\n",
              "PyTorch                         3\n",
              "Rstudio,JupyterLab              3\n",
              "Jupyter Lab                     3\n",
              "Visual Studio                   3\n",
              "Jupyter, pandas                 3\n",
              "Anaconda Spyder                 3\n",
              "Rstudio and Python              3\n",
              "Local Jupyter                   3\n",
              "Python & R                      3\n",
              "Python, Jupyter Notebooks       3\n",
              "Python R                        3\n",
              "JupyterLab, Pandas              3\n",
              "python, tensorflow              3\n",
              "RStudio Server                  3\n",
              "RStudio and python              3\n",
              "Jupyter and Python              3\n",
              "Python, Pandas                  3\n",
              "colab                           3\n",
              "RStudio, MATLAB                 3\n",
              "SQL Server                      3\n",
              "Jupiter notebooks               3\n",
              "jupyter notebook                3\n",
              "Name: Q12_Part_4_TEXT, dtype: int64"
            ]
          },
          "metadata": {},
          "execution_count": 12
        }
      ]
    },
    {
      "cell_type": "code",
      "metadata": {
        "id": "037ba556"
      },
      "source": [
        "pattern = re.compile(r'jupyter|jupiter',re.I)"
      ],
      "id": "037ba556",
      "execution_count": 14,
      "outputs": []
    },
    {
      "cell_type": "code",
      "metadata": {
        "id": "GXDm19NocweW"
      },
      "source": [
        "df['mentioned_jupyter']=[True if pattern.search(str(s)) else False for s in df['Q12_Part_4_TEXT']]"
      ],
      "id": "GXDm19NocweW",
      "execution_count": 16,
      "outputs": []
    },
    {
      "cell_type": "code",
      "metadata": {
        "colab": {
          "base_uri": "https://localhost:8080/"
        },
        "id": "nJ0zXmIGfveZ",
        "outputId": "e0e67b37-0fe2-4b3e-aa41-fab7565ca819"
      },
      "source": [
        "df[df['mentioned_jupyter']==True]['Q12_Part_4_TEXT']"
      ],
      "id": "nJ0zXmIGfveZ",
      "execution_count": 17,
      "outputs": [
        {
          "output_type": "execute_result",
          "data": {
            "text/plain": [
              "0        What is the primary tool that you use at work ...\n",
              "1                  Jupyter Notebooks, Pycharm, Intelijidea\n",
              "7                                               JupyterLab\n",
              "9                                               Jupyterlab\n",
              "12                            JupyterLab, Jupyter Notebook\n",
              "                               ...                        \n",
              "23805                        Mainly I use jupyter notebook\n",
              "23825                                          Jupyterlab \n",
              "23836                                              jupyter\n",
              "23847                                              Jupyter\n",
              "23857                                  JupyterLab, RStudio\n",
              "Name: Q12_Part_4_TEXT, Length: 4596, dtype: object"
            ]
          },
          "metadata": {},
          "execution_count": 17
        }
      ]
    },
    {
      "cell_type": "code",
      "metadata": {
        "id": "iOGWEB8dgIN1"
      },
      "source": [
        "pattern_python = re.compile(r'python',re.I)"
      ],
      "id": "iOGWEB8dgIN1",
      "execution_count": 18,
      "outputs": []
    },
    {
      "cell_type": "code",
      "metadata": {
        "id": "gQuNEKINgpDO"
      },
      "source": [
        "df['mentioned_python']=[True if pattern_python.search(str(s)) else False for s in df['Q12_Part_4_TEXT']]"
      ],
      "id": "gQuNEKINgpDO",
      "execution_count": 19,
      "outputs": []
    },
    {
      "cell_type": "code",
      "metadata": {
        "colab": {
          "base_uri": "https://localhost:8080/"
        },
        "id": "8b15cuzMgxT8",
        "outputId": "06e790f4-5ea0-4f45-e1f4-937f5fe764e2"
      },
      "source": [
        "df[df['mentioned_python']==True]['Q12_Part_4_TEXT']"
      ],
      "id": "8b15cuzMgxT8",
      "execution_count": 20,
      "outputs": [
        {
          "output_type": "execute_result",
          "data": {
            "text/plain": [
              "6                           Python in Notebooks\n",
              "19                              Rstudio, python\n",
              "28                                       Python\n",
              "60                                       Python\n",
              "62                               Jupyter Python\n",
              "                          ...                  \n",
              "23830                                    python\n",
              "23831    Clojure, Python, R, Bash, Spark, Scala\n",
              "23837                         Python data stack\n",
              "23850               python, pytorch, tensorflow\n",
              "23852                                    Python\n",
              "Name: Q12_Part_4_TEXT, Length: 2373, dtype: object"
            ]
          },
          "metadata": {},
          "execution_count": 20
        }
      ]
    },
    {
      "cell_type": "code",
      "metadata": {
        "id": "JlchPzAUg0J-"
      },
      "source": [
        "pattern_R = re.compile(r'^R$|RStudio|Rstudio',re.I)"
      ],
      "id": "JlchPzAUg0J-",
      "execution_count": 27,
      "outputs": []
    },
    {
      "cell_type": "code",
      "metadata": {
        "id": "s91uLv38hEV9"
      },
      "source": [
        "df['mentioned_R']=[True if pattern_R.search(str(s)) else False for s in df['Q12_Part_4_TEXT']]"
      ],
      "id": "s91uLv38hEV9",
      "execution_count": 28,
      "outputs": []
    },
    {
      "cell_type": "code",
      "metadata": {
        "colab": {
          "base_uri": "https://localhost:8080/"
        },
        "id": "Ak5rie_lhILk",
        "outputId": "2ba8d538-019f-428f-f730-4a4e3610ba34"
      },
      "source": [
        "df[df['mentioned_R']==True]['Q12_Part_4_TEXT']"
      ],
      "id": "Ak5rie_lhILk",
      "execution_count": 29,
      "outputs": [
        {
          "output_type": "execute_result",
          "data": {
            "text/plain": [
              "0        What is the primary tool that you use at work ...\n",
              "10                                                 Rstudio\n",
              "19                                         Rstudio, python\n",
              "24                                       Rstudio; julpyter\n",
              "25                                                 RStudio\n",
              "                               ...                        \n",
              "23802                                                    R\n",
              "23814                                              rstudio\n",
              "23838                                              Rstudio\n",
              "23846                                             Rstudio \n",
              "23857                                  JupyterLab, RStudio\n",
              "Name: Q12_Part_4_TEXT, Length: 2438, dtype: object"
            ]
          },
          "metadata": {},
          "execution_count": 29
        }
      ]
    },
    {
      "cell_type": "code",
      "metadata": {
        "id": "yIXJSoxUhKhZ"
      },
      "source": [
        ""
      ],
      "id": "yIXJSoxUhKhZ",
      "execution_count": null,
      "outputs": []
    }
  ]
}